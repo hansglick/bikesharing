{
 "cells": [
  {
   "cell_type": "code",
   "execution_count": 25,
   "metadata": {},
   "outputs": [],
   "source": [
    "import pandas as pd\n",
    "import numpy as np\n",
    "from sklearn.linear_model import Ridge\n",
    "from sklearn.metrics import mean_squared_error\n",
    "from sklearn.model_selection import GridSearchCV\n",
    "from sklearn.model_selection import RandomizedSearchCV\n",
    "\n",
    "import matplotlib.pyplot as plt\n",
    "import xgboost as xgb"
   ]
  },
  {
   "cell_type": "code",
   "execution_count": 26,
   "metadata": {},
   "outputs": [],
   "source": [
    "import re\n",
    "from scipy.stats import uniform, randint"
   ]
  },
  {
   "cell_type": "code",
   "execution_count": 27,
   "metadata": {},
   "outputs": [],
   "source": [
    "# I Modèle avec variables de type Origin\n",
    "X_train = pd.read_pickle(\"../data/X_train_o.pkl\")\n",
    "Y_train = pd.read_pickle(\"../data/Y_train_o.pkl\")\n",
    "X_test = pd.read_pickle(\"../data/X_test_o.pkl\")\n",
    "Y_test = pd.read_pickle(\"../data/Y_test_o.pkl\")\n",
    "\n",
    "# II Modèle avec variables de type Features\n",
    "# Import des .pkl\n",
    "# X contient que les continues + les dummies des catégorielles (dont interactions d'ordre 2)\n",
    "X_train = pd.read_pickle(\"../data/X_train_n.pkl\")\n",
    "Y_train = pd.read_pickle(\"../data/Y_train_n.pkl\")\n",
    "X_test = pd.read_pickle(\"../data/X_test_n.pkl\")\n",
    "Y_test = pd.read_pickle(\"../data/Y_test_n.pkl\")"
   ]
  },
  {
   "cell_type": "markdown",
   "metadata": {},
   "source": [
    "### Petit processing sur le nom des features"
   ]
  },
  {
   "cell_type": "code",
   "execution_count": 28,
   "metadata": {},
   "outputs": [],
   "source": [
    "features_names = list(X_train)\n",
    "new_features_names = [re.sub(\"\\[|\\]|\\<|\\>\",'',line) for line in features_names]\n",
    "X_train.columns = new_features_names\n",
    "\n",
    "features_names = list(X_test)\n",
    "new_features_names = [re.sub(\"\\[|\\]|\\<|\\>\",'',line) for line in features_names]\n",
    "X_test.columns = new_features_names"
   ]
  },
  {
   "cell_type": "markdown",
   "metadata": {},
   "source": [
    "## XGBoost valeurs par défaut"
   ]
  },
  {
   "cell_type": "code",
   "execution_count": 29,
   "metadata": {},
   "outputs": [],
   "source": [
    "xgb_model = xgb.XGBRegressor(objective=\"reg:squarederror\")"
   ]
  },
  {
   "cell_type": "code",
   "execution_count": 30,
   "metadata": {},
   "outputs": [
    {
     "data": {
      "text/html": [
       "<div>\n",
       "<style scoped>\n",
       "    .dataframe tbody tr th:only-of-type {\n",
       "        vertical-align: middle;\n",
       "    }\n",
       "\n",
       "    .dataframe tbody tr th {\n",
       "        vertical-align: top;\n",
       "    }\n",
       "\n",
       "    .dataframe thead th {\n",
       "        text-align: right;\n",
       "    }\n",
       "</style>\n",
       "<table border=\"1\" class=\"dataframe\">\n",
       "  <thead>\n",
       "    <tr style=\"text-align: right;\">\n",
       "      <th></th>\n",
       "      <th>count</th>\n",
       "    </tr>\n",
       "  </thead>\n",
       "  <tbody>\n",
       "    <tr>\n",
       "      <th>8620</th>\n",
       "      <td>280</td>\n",
       "    </tr>\n",
       "    <tr>\n",
       "      <th>8985</th>\n",
       "      <td>832</td>\n",
       "    </tr>\n",
       "    <tr>\n",
       "      <th>6171</th>\n",
       "      <td>205</td>\n",
       "    </tr>\n",
       "    <tr>\n",
       "      <th>6473</th>\n",
       "      <td>54</td>\n",
       "    </tr>\n",
       "    <tr>\n",
       "      <th>10877</th>\n",
       "      <td>237</td>\n",
       "    </tr>\n",
       "  </tbody>\n",
       "</table>\n",
       "</div>"
      ],
      "text/plain": [
       "       count\n",
       "8620     280\n",
       "8985     832\n",
       "6171     205\n",
       "6473      54\n",
       "10877    237"
      ]
     },
     "execution_count": 30,
     "metadata": {},
     "output_type": "execute_result"
    }
   ],
   "source": [
    "Y_train.head()"
   ]
  },
  {
   "cell_type": "code",
   "execution_count": 31,
   "metadata": {},
   "outputs": [],
   "source": [
    "# Calcul des Y = log(Y + 1)\n",
    "Y_train['log_count'] = Y_train['count'].map(lambda x: np.log1p(x))\n",
    "Y_test['log_count'] = Y_test['count'].map(lambda x: np.log1p(x))\n",
    "Y_train = Y_train.drop('count', axis = 1)\n",
    "Y_test = Y_test.drop('count', axis = 1)"
   ]
  },
  {
   "cell_type": "code",
   "execution_count": 32,
   "metadata": {},
   "outputs": [
    {
     "data": {
      "text/plain": [
       "XGBRegressor(base_score=0.5, booster='gbtree', colsample_bylevel=1,\n",
       "             colsample_bynode=1, colsample_bytree=1, gamma=0,\n",
       "             importance_type='gain', learning_rate=0.1, max_delta_step=0,\n",
       "             max_depth=3, min_child_weight=1, missing=None, n_estimators=100,\n",
       "             n_jobs=1, nthread=None, objective='reg:squarederror',\n",
       "             random_state=0, reg_alpha=0, reg_lambda=1, scale_pos_weight=1,\n",
       "             seed=None, silent=None, subsample=1, verbosity=1)"
      ]
     },
     "execution_count": 32,
     "metadata": {},
     "output_type": "execute_result"
    }
   ],
   "source": [
    "xgb_model.fit(X_train, Y_train)"
   ]
  },
  {
   "cell_type": "code",
   "execution_count": 35,
   "metadata": {},
   "outputs": [],
   "source": [
    "predicted_values = np.exp(xgb_model.predict(X_test)) - 1\n",
    "predicted_values = np.expand_dims(predicted_values, axis=1)\n",
    "ids = np.where(predicted_values < 0)\n",
    "predicted_values[ids] = 0"
   ]
  },
  {
   "cell_type": "code",
   "execution_count": 36,
   "metadata": {},
   "outputs": [
    {
     "data": {
      "text/html": [
       "<div>\n",
       "<style scoped>\n",
       "    .dataframe tbody tr th:only-of-type {\n",
       "        vertical-align: middle;\n",
       "    }\n",
       "\n",
       "    .dataframe tbody tr th {\n",
       "        vertical-align: top;\n",
       "    }\n",
       "\n",
       "    .dataframe thead th {\n",
       "        text-align: right;\n",
       "    }\n",
       "</style>\n",
       "<table border=\"1\" class=\"dataframe\">\n",
       "  <thead>\n",
       "    <tr style=\"text-align: right;\">\n",
       "      <th></th>\n",
       "      <th>log_count</th>\n",
       "    </tr>\n",
       "  </thead>\n",
       "  <tbody>\n",
       "    <tr>\n",
       "      <th>6638</th>\n",
       "      <td>5.501258</td>\n",
       "    </tr>\n",
       "    <tr>\n",
       "      <th>7975</th>\n",
       "      <td>5.480639</td>\n",
       "    </tr>\n",
       "    <tr>\n",
       "      <th>5915</th>\n",
       "      <td>5.438079</td>\n",
       "    </tr>\n",
       "    <tr>\n",
       "      <th>8050</th>\n",
       "      <td>6.148468</td>\n",
       "    </tr>\n",
       "    <tr>\n",
       "      <th>5894</th>\n",
       "      <td>5.817111</td>\n",
       "    </tr>\n",
       "  </tbody>\n",
       "</table>\n",
       "</div>"
      ],
      "text/plain": [
       "      log_count\n",
       "6638   5.501258\n",
       "7975   5.480639\n",
       "5915   5.438079\n",
       "8050   6.148468\n",
       "5894   5.817111"
      ]
     },
     "execution_count": 36,
     "metadata": {},
     "output_type": "execute_result"
    }
   ],
   "source": [
    "Y_test.head()"
   ]
  },
  {
   "cell_type": "code",
   "execution_count": 42,
   "metadata": {},
   "outputs": [
    {
     "name": "stdout",
     "output_type": "stream",
     "text": [
      "le score vaut : [0.40717118]\n"
     ]
    }
   ],
   "source": [
    "RMLSE = np.sqrt(np.mean((np.log(predicted_values + 1) - np.log(Y_test.values + 1))**2, axis=0))\n",
    "# RMLSE = np.sqrt(np.mean((np.log(np.exp(xgb_model.predict(X_test))) - np.log(np.exp(Y_test.values) -1 + 1))**2, axis=0))\n",
    "# RMLSE = np.sqrt(np.mean((np.log(np.exp(xgb_model.predict(X_test))) - np.log(np.exp(Y_test.values)))**2, axis=0))\n",
    "RMLSE = np.sqrt(np.mean((np.expand_dims(xgb_model.predict(X_test), axis = 1) - Y_test.values)**2, axis=0))\n",
    "print(\"le score vaut : {}\".format(RMLSE))"
   ]
  },
  {
   "cell_type": "markdown",
   "metadata": {},
   "source": [
    "## XGBoost gridsearch"
   ]
  },
  {
   "cell_type": "code",
   "execution_count": 43,
   "metadata": {},
   "outputs": [
    {
     "data": {
      "text/plain": [
       "0.22798784226842503"
      ]
     },
     "execution_count": 43,
     "metadata": {},
     "output_type": "execute_result"
    }
   ],
   "source": [
    "# np.random.uniform(0.2,0.3)"
   ]
  },
  {
   "cell_type": "code",
   "execution_count": 70,
   "metadata": {},
   "outputs": [
    {
     "name": "stdout",
     "output_type": "stream",
     "text": [
      "Fitting 3 folds for each of 85 candidates, totalling 255 fits\n"
     ]
    },
    {
     "name": "stderr",
     "output_type": "stream",
     "text": [
      "[Parallel(n_jobs=1)]: Using backend SequentialBackend with 1 concurrent workers.\n",
      "[Parallel(n_jobs=1)]: Done 255 out of 255 | elapsed: 476.3min finished\n"
     ]
    },
    {
     "data": {
      "text/plain": [
       "RandomizedSearchCV(cv=3, error_score='raise-deprecating',\n",
       "                   estimator=XGBRegressor(base_score=0.5, booster='gbtree',\n",
       "                                          colsample_bylevel=1,\n",
       "                                          colsample_bynode=1,\n",
       "                                          colsample_bytree=1, gamma=0,\n",
       "                                          importance_type='gain',\n",
       "                                          learning_rate=0.1, max_delta_step=0,\n",
       "                                          max_depth=3, min_child_weight=1,\n",
       "                                          missing=None, n_estimators=100,\n",
       "                                          n_jobs=1, nthread=None,\n",
       "                                          objective='reg:squarederror',\n",
       "                                          ran...\n",
       "                                        'learning_rate': <scipy.stats._distn_infrastructure.rv_frozen object at 0x7f0fed6efa90>,\n",
       "                                        'max_depth': <scipy.stats._distn_infrastructure.rv_frozen object at 0x7f0feb4ecc18>,\n",
       "                                        'n_estimators': <scipy.stats._distn_infrastructure.rv_frozen object at 0x7f0feb4ec278>,\n",
       "                                        'subsample': <scipy.stats._distn_infrastructure.rv_frozen object at 0x7f0feb4ec6a0>},\n",
       "                   pre_dispatch='2*n_jobs', random_state=42, refit=True,\n",
       "                   return_train_score=True, scoring=None, verbose=1)"
      ]
     },
     "execution_count": 70,
     "metadata": {},
     "output_type": "execute_result"
    }
   ],
   "source": [
    "params = {\n",
    "    \"colsample_bytree\": uniform(0.7, 0.3),\n",
    "    \"gamma\": uniform(0, 0.5),\n",
    "    \"learning_rate\": uniform(0.03, 0.3), # default 0.1 \n",
    "    \"max_depth\": randint(2, 6), # default 3\n",
    "    \"n_estimators\": randint(100, 150), # default 100\n",
    "    \"subsample\": uniform(0.6, 0.4) # c'est quoi ?\n",
    "}\n",
    "\n",
    "# n_iter = 200 avant\n",
    "search = RandomizedSearchCV(xgb_model, param_distributions=params, random_state=42, n_iter=85, cv=3, verbose=1, n_jobs=1, return_train_score=True)\n",
    "\n",
    "search.fit(X_train, Y_train)"
   ]
  },
  {
   "cell_type": "code",
   "execution_count": null,
   "metadata": {},
   "outputs": [
    {
     "name": "stdout",
     "output_type": "stream",
     "text": [
      "Fitting 3 folds for each of 85 candidates, totalling 255 fits\n"
     ]
    },
    {
     "name": "stderr",
     "output_type": "stream",
     "text": [
      "[Parallel(n_jobs=1)]: Using backend SequentialBackend with 1 concurrent workers.\n"
     ]
    }
   ],
   "source": [
    "%%time\n",
    "params = {\n",
    "    \"colsample_bytree\": uniform(0.7, 0.3),\n",
    "    \"gamma\": uniform(0, 0.5),\n",
    "    \"learning_rate\": uniform(0.03, 0.3), # default 0.1 \n",
    "    \"max_depth\": randint(2, 6), # default 3\n",
    "    \"n_estimators\": randint(100, 150), # default 100\n",
    "    \"subsample\": uniform(0.6, 0.4) # c'est quoi ?\n",
    "}\n",
    "\n",
    "# n_iter = 200 avant\n",
    "search = RandomizedSearchCV(xgb_model, param_distributions=params, random_state=42, n_iter=85, cv=3, verbose=1, n_jobs=1, return_train_score=True)\n",
    "\n",
    "search.fit(X_train, Y_train)"
   ]
  },
  {
   "cell_type": "code",
   "execution_count": 77,
   "metadata": {},
   "outputs": [],
   "source": [
    "predicted_values = search.predict(X_test)"
   ]
  },
  {
   "cell_type": "code",
   "execution_count": 80,
   "metadata": {},
   "outputs": [],
   "source": [
    "cvdf = pd.DataFrame(search.cv_results_)"
   ]
  },
  {
   "cell_type": "code",
   "execution_count": 88,
   "metadata": {},
   "outputs": [],
   "source": [
    "params = cvdf.loc[np.argmax(cvdf.mean_train_score.values)].params"
   ]
  },
  {
   "cell_type": "code",
   "execution_count": 89,
   "metadata": {},
   "outputs": [
    {
     "data": {
      "text/plain": [
       "{'colsample_bytree': 0.8045997961875188,\n",
       " 'gamma': 0.04808827554571038,\n",
       " 'learning_rate': 0.31215697934688114,\n",
       " 'max_depth': 5,\n",
       " 'n_estimators': 138,\n",
       " 'subsample': 0.9746919954946938}"
      ]
     },
     "execution_count": 89,
     "metadata": {},
     "output_type": "execute_result"
    }
   ],
   "source": [
    "params"
   ]
  },
  {
   "cell_type": "code",
   "execution_count": 105,
   "metadata": {},
   "outputs": [],
   "source": [
    "xgb_model = xgb.XGBRegressor(colsample_bytree= 0.8045997961875188,\n",
    " gamma= 1,\n",
    " learning_rate= 0.31215697934688114,\n",
    " max_depth= 5,\n",
    " n_estimators= 500,\n",
    " subsample= 0.9746919954946938,\n",
    "objective=\"reg:squarederror\")"
   ]
  },
  {
   "cell_type": "code",
   "execution_count": 106,
   "metadata": {},
   "outputs": [
    {
     "data": {
      "text/plain": [
       "XGBRegressor(base_score=0.5, booster='gbtree', colsample_bylevel=1,\n",
       "             colsample_bynode=1, colsample_bytree=0.8045997961875188, gamma=1,\n",
       "             importance_type='gain', learning_rate=0.31215697934688114,\n",
       "             max_delta_step=0, max_depth=5, min_child_weight=1, missing=None,\n",
       "             n_estimators=500, n_jobs=1, nthread=None,\n",
       "             objective='reg:squarederror', random_state=0, reg_alpha=0,\n",
       "             reg_lambda=1, scale_pos_weight=1, seed=None, silent=None,\n",
       "             subsample=0.9746919954946938, verbosity=1)"
      ]
     },
     "execution_count": 106,
     "metadata": {},
     "output_type": "execute_result"
    }
   ],
   "source": [
    "xgb_model.fit(X_train, Y_train)"
   ]
  },
  {
   "cell_type": "code",
   "execution_count": 107,
   "metadata": {},
   "outputs": [
    {
     "name": "stdout",
     "output_type": "stream",
     "text": [
      "le score RMLSE sur le test set vaut : [0.50345146]\n"
     ]
    }
   ],
   "source": [
    "predicted_values = xgb_model.predict(X_test)\n",
    "predicted_values = np.expand_dims(predicted_values, axis=1)\n",
    "ids = np.where(predicted_values < 0)\n",
    "predicted_values[ids] = 0\n",
    "\n",
    "# RMLSE = np.sqrt(np.mean((np.log(predicted_values + 1) - np.log(Y_test.values + 1))**2, axis=0))\n",
    "# print(\"le score RMLSE sur le test set vaut : {}\".format(RMLSE))\n",
    "# OLD: le score RMLSE sur le test set vaut : [0.50345146]"
   ]
  },
  {
   "cell_type": "code",
   "execution_count": null,
   "metadata": {},
   "outputs": [],
   "source": [
    "RMLSE = np.sqrt(np.mean((np.log(predicted_values + 1) - np.log(Y_test.values + 1))**2, axis=0))\n",
    "print(\"le score RMLSE sur le test set vaut : {}\".format(RMLSE))\n"
   ]
  },
  {
   "cell_type": "code",
   "execution_count": 108,
   "metadata": {},
   "outputs": [
    {
     "name": "stdout",
     "output_type": "stream",
     "text": [
      "le score RMLSE sur le training set vaut : [0.29226352]\n"
     ]
    }
   ],
   "source": [
    "predicted_values = xgb_model.predict(X_train)\n",
    "predicted_values = np.expand_dims(predicted_values, axis=1)\n",
    "ids = np.where(predicted_values < 0)\n",
    "predicted_values[ids] = 0\n",
    "\n",
    "RMLSE = np.sqrt(np.mean((np.log(predicted_values + 1) - np.log(Y_train.values + 1))**2, axis=0))\n",
    "print(\"le score RMLSE sur le training set vaut : {}\".format(RMLSE))"
   ]
  },
  {
   "cell_type": "markdown",
   "metadata": {},
   "source": [
    "# Cest Fini !"
   ]
  },
  {
   "cell_type": "code",
   "execution_count": 109,
   "metadata": {},
   "outputs": [
    {
     "name": "stdout",
     "output_type": "stream",
     "text": [
      "le score RMSE sur le test set vaut : [44.88192075]\n"
     ]
    }
   ],
   "source": [
    "predicted_values = xgb_model.predict(X_test)\n",
    "predicted_values = np.expand_dims(predicted_values, axis=1)\n",
    "ids = np.where(predicted_values < 0)\n",
    "predicted_values[ids] = 0\n",
    "\n",
    "RMSE = np.sqrt(np.mean((predicted_values - Y_test.values + 1)**2, axis=0))\n",
    "print(\"le score RMSE sur le test set vaut : {}\".format(RMSE))"
   ]
  },
  {
   "cell_type": "code",
   "execution_count": 110,
   "metadata": {},
   "outputs": [
    {
     "name": "stdout",
     "output_type": "stream",
     "text": [
      "le score RMSE sur le training set vaut : [8.22004206]\n"
     ]
    }
   ],
   "source": [
    "predicted_values = xgb_model.predict(X_train)\n",
    "predicted_values = np.expand_dims(predicted_values, axis=1)\n",
    "ids = np.where(predicted_values < 0)\n",
    "predicted_values[ids] = 0\n",
    "\n",
    "\n",
    "RMSE = np.sqrt(np.mean((predicted_values - Y_train.values + 1)**2, axis=0))\n",
    "print(\"le score RMSE sur le training set vaut : {}\".format(RMSE))"
   ]
  },
  {
   "cell_type": "code",
   "execution_count": null,
   "metadata": {},
   "outputs": [],
   "source": []
  },
  {
   "cell_type": "code",
   "execution_count": null,
   "metadata": {},
   "outputs": [],
   "source": []
  },
  {
   "cell_type": "code",
   "execution_count": null,
   "metadata": {},
   "outputs": [],
   "source": []
  },
  {
   "cell_type": "code",
   "execution_count": null,
   "metadata": {},
   "outputs": [],
   "source": []
  },
  {
   "cell_type": "code",
   "execution_count": null,
   "metadata": {},
   "outputs": [],
   "source": []
  },
  {
   "cell_type": "code",
   "execution_count": null,
   "metadata": {},
   "outputs": [],
   "source": []
  },
  {
   "cell_type": "code",
   "execution_count": null,
   "metadata": {},
   "outputs": [],
   "source": []
  },
  {
   "cell_type": "code",
   "execution_count": 78,
   "metadata": {},
   "outputs": [],
   "source": [
    "predicted_values = np.expand_dims(predicted_values, axis=1)\n",
    "ids = np.where(predicted_values < 0)\n",
    "predicted_values[ids] = 0"
   ]
  },
  {
   "cell_type": "code",
   "execution_count": 79,
   "metadata": {},
   "outputs": [
    {
     "name": "stdout",
     "output_type": "stream",
     "text": [
      "le score vaut : [0.54324276]\n"
     ]
    }
   ],
   "source": [
    "RMLSE = np.sqrt(np.mean((np.log(predicted_values + 1) - np.log(Y_test.values + 1))**2, axis=0))\n",
    "print(\"le score vaut : {}\".format(RMLSE))"
   ]
  },
  {
   "cell_type": "code",
   "execution_count": null,
   "metadata": {},
   "outputs": [],
   "source": []
  }
 ],
 "metadata": {
  "kernelspec": {
   "display_name": "data",
   "language": "python",
   "name": "data"
  },
  "language_info": {
   "codemirror_mode": {
    "name": "ipython",
    "version": 3
   },
   "file_extension": ".py",
   "mimetype": "text/x-python",
   "name": "python",
   "nbconvert_exporter": "python",
   "pygments_lexer": "ipython3",
   "version": "3.6.8"
  }
 },
 "nbformat": 4,
 "nbformat_minor": 2
}
