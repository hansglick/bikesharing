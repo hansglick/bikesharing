{
 "cells": [
  {
   "cell_type": "code",
   "execution_count": 6,
   "metadata": {},
   "outputs": [],
   "source": [
    "import pandas as pd\n",
    "import numpy as np\n",
    "from sklearn.linear_model import Ridge\n",
    "from sklearn.metrics import mean_squared_error\n",
    "from sklearn.model_selection import GridSearchCV\n",
    "import matplotlib.pyplot as plt\n"
   ]
  },
  {
   "cell_type": "code",
   "execution_count": null,
   "metadata": {},
   "outputs": [],
   "source": [
    "I Modèle avec variables de type Features"
   ]
  },
  {
   "cell_type": "code",
   "execution_count": 7,
   "metadata": {},
   "outputs": [],
   "source": [
    "# Import des .pkl\n",
    "X_train = pd.read_pickle(\"../data/X_train_n.pkl\")\n",
    "Y_train = pd.read_pickle(\"../data/Y_train_n.pkl\")\n",
    "X_test = pd.read_pickle(\"../data/X_test_n.pkl\")\n",
    "Y_test = pd.read_pickle(\"../data/Y_test_n.pkl\")"
   ]
  },
  {
   "cell_type": "code",
   "execution_count": 4,
   "metadata": {},
   "outputs": [],
   "source": [
    "# list(X_train)"
   ]
  },
  {
   "cell_type": "code",
   "execution_count": null,
   "metadata": {},
   "outputs": [],
   "source": [
    "On n'a pas les v. dummy variables pour \"hour\" et \"year\"<br>\n",
    "OK corrigé pour Origin"
   ]
  },
  {
   "cell_type": "code",
   "execution_count": 8,
   "metadata": {},
   "outputs": [
    {
     "data": {
      "text/html": [
       "<div>\n",
       "<style scoped>\n",
       "    .dataframe tbody tr th:only-of-type {\n",
       "        vertical-align: middle;\n",
       "    }\n",
       "\n",
       "    .dataframe tbody tr th {\n",
       "        vertical-align: top;\n",
       "    }\n",
       "\n",
       "    .dataframe thead th {\n",
       "        text-align: right;\n",
       "    }\n",
       "</style>\n",
       "<table border=\"1\" class=\"dataframe\">\n",
       "  <thead>\n",
       "    <tr style=\"text-align: right;\">\n",
       "      <th></th>\n",
       "      <th>NO_temp</th>\n",
       "      <th>NO_atemp</th>\n",
       "      <th>NO_humidity</th>\n",
       "      <th>NO_windspeed</th>\n",
       "      <th>NN_soleil</th>\n",
       "      <th>NN_tendance_1</th>\n",
       "      <th>NN_tendance_2</th>\n",
       "      <th>CO_month_April</th>\n",
       "      <th>CO_month_August</th>\n",
       "      <th>CO_month_December</th>\n",
       "      <th>...</th>\n",
       "      <th>CN_tendance_1Q_+_CN_tendance_2Q_(1.49,1.56]_(582,650]</th>\n",
       "      <th>CN_tendance_1Q_+_CN_tendance_2Q_(1.56,1.69]_(582,650]</th>\n",
       "      <th>CN_tendance_1Q_+_CN_tendance_2Q_(1.56,1.69]_(650,718]</th>\n",
       "      <th>CN_tendance_1Q_+_CN_tendance_2Q_(1.69,2.31]_(365,433]</th>\n",
       "      <th>CN_tendance_1Q_+_CN_tendance_2Q_(1.69,2.31]_(433,501]</th>\n",
       "      <th>CN_tendance_1Q_+_CN_tendance_2Q_(2.31,2.45]_(285,365]</th>\n",
       "      <th>CN_tendance_1Q_+_CN_tendance_2Q_(2.31,2.45]_(365,433]</th>\n",
       "      <th>CN_tendance_1Q_+_CN_tendance_2Q_(2.31,2.45]_(433,501]</th>\n",
       "      <th>CN_tendance_1Q_+_CN_tendance_2Q_[0.409,0.432]_(67,136]</th>\n",
       "      <th>CN_tendance_1Q_+_CN_tendance_2Q_[0.409,0.432]_[0,67]</th>\n",
       "    </tr>\n",
       "  </thead>\n",
       "  <tbody>\n",
       "    <tr>\n",
       "      <th>8620</th>\n",
       "      <td>32.80</td>\n",
       "      <td>37.120</td>\n",
       "      <td>52</td>\n",
       "      <td>11.0014</td>\n",
       "      <td>68.660778</td>\n",
       "      <td>1.563340</td>\n",
       "      <td>578</td>\n",
       "      <td>0</td>\n",
       "      <td>1</td>\n",
       "      <td>0</td>\n",
       "      <td>...</td>\n",
       "      <td>0</td>\n",
       "      <td>0</td>\n",
       "      <td>0</td>\n",
       "      <td>0</td>\n",
       "      <td>0</td>\n",
       "      <td>0</td>\n",
       "      <td>0</td>\n",
       "      <td>0</td>\n",
       "      <td>0</td>\n",
       "      <td>0</td>\n",
       "    </tr>\n",
       "    <tr>\n",
       "      <th>8985</th>\n",
       "      <td>32.80</td>\n",
       "      <td>35.605</td>\n",
       "      <td>36</td>\n",
       "      <td>0.0000</td>\n",
       "      <td>22.375897</td>\n",
       "      <td>1.563340</td>\n",
       "      <td>593</td>\n",
       "      <td>0</td>\n",
       "      <td>1</td>\n",
       "      <td>0</td>\n",
       "      <td>...</td>\n",
       "      <td>1</td>\n",
       "      <td>0</td>\n",
       "      <td>0</td>\n",
       "      <td>0</td>\n",
       "      <td>0</td>\n",
       "      <td>0</td>\n",
       "      <td>0</td>\n",
       "      <td>0</td>\n",
       "      <td>0</td>\n",
       "      <td>0</td>\n",
       "    </tr>\n",
       "    <tr>\n",
       "      <th>6171</th>\n",
       "      <td>4.92</td>\n",
       "      <td>6.820</td>\n",
       "      <td>50</td>\n",
       "      <td>12.9980</td>\n",
       "      <td>9.692626</td>\n",
       "      <td>2.017690</td>\n",
       "      <td>408</td>\n",
       "      <td>0</td>\n",
       "      <td>0</td>\n",
       "      <td>0</td>\n",
       "      <td>...</td>\n",
       "      <td>0</td>\n",
       "      <td>0</td>\n",
       "      <td>0</td>\n",
       "      <td>1</td>\n",
       "      <td>0</td>\n",
       "      <td>0</td>\n",
       "      <td>0</td>\n",
       "      <td>0</td>\n",
       "      <td>0</td>\n",
       "      <td>0</td>\n",
       "    </tr>\n",
       "    <tr>\n",
       "      <th>6473</th>\n",
       "      <td>11.48</td>\n",
       "      <td>13.635</td>\n",
       "      <td>61</td>\n",
       "      <td>15.0013</td>\n",
       "      <td>-43.868511</td>\n",
       "      <td>2.446521</td>\n",
       "      <td>430</td>\n",
       "      <td>0</td>\n",
       "      <td>0</td>\n",
       "      <td>0</td>\n",
       "      <td>...</td>\n",
       "      <td>0</td>\n",
       "      <td>0</td>\n",
       "      <td>0</td>\n",
       "      <td>0</td>\n",
       "      <td>0</td>\n",
       "      <td>0</td>\n",
       "      <td>1</td>\n",
       "      <td>0</td>\n",
       "      <td>0</td>\n",
       "      <td>0</td>\n",
       "    </tr>\n",
       "    <tr>\n",
       "      <th>10877</th>\n",
       "      <td>17.22</td>\n",
       "      <td>21.210</td>\n",
       "      <td>50</td>\n",
       "      <td>19.0012</td>\n",
       "      <td>22.211826</td>\n",
       "      <td>1.617721</td>\n",
       "      <td>718</td>\n",
       "      <td>0</td>\n",
       "      <td>0</td>\n",
       "      <td>1</td>\n",
       "      <td>...</td>\n",
       "      <td>0</td>\n",
       "      <td>0</td>\n",
       "      <td>1</td>\n",
       "      <td>0</td>\n",
       "      <td>0</td>\n",
       "      <td>0</td>\n",
       "      <td>0</td>\n",
       "      <td>0</td>\n",
       "      <td>0</td>\n",
       "      <td>0</td>\n",
       "    </tr>\n",
       "  </tbody>\n",
       "</table>\n",
       "<p>5 rows × 3912 columns</p>\n",
       "</div>"
      ],
      "text/plain": [
       "       NO_temp  NO_atemp  NO_humidity  NO_windspeed  NN_soleil  NN_tendance_1  \\\n",
       "8620     32.80    37.120           52       11.0014  68.660778       1.563340   \n",
       "8985     32.80    35.605           36        0.0000  22.375897       1.563340   \n",
       "6171      4.92     6.820           50       12.9980   9.692626       2.017690   \n",
       "6473     11.48    13.635           61       15.0013 -43.868511       2.446521   \n",
       "10877    17.22    21.210           50       19.0012  22.211826       1.617721   \n",
       "\n",
       "       NN_tendance_2  CO_month_April  CO_month_August  CO_month_December  ...  \\\n",
       "8620             578               0                1                  0  ...   \n",
       "8985             593               0                1                  0  ...   \n",
       "6171             408               0                0                  0  ...   \n",
       "6473             430               0                0                  0  ...   \n",
       "10877            718               0                0                  1  ...   \n",
       "\n",
       "       CN_tendance_1Q_+_CN_tendance_2Q_(1.49,1.56]_(582,650]  \\\n",
       "8620                                                   0       \n",
       "8985                                                   1       \n",
       "6171                                                   0       \n",
       "6473                                                   0       \n",
       "10877                                                  0       \n",
       "\n",
       "       CN_tendance_1Q_+_CN_tendance_2Q_(1.56,1.69]_(582,650]  \\\n",
       "8620                                                   0       \n",
       "8985                                                   0       \n",
       "6171                                                   0       \n",
       "6473                                                   0       \n",
       "10877                                                  0       \n",
       "\n",
       "       CN_tendance_1Q_+_CN_tendance_2Q_(1.56,1.69]_(650,718]  \\\n",
       "8620                                                   0       \n",
       "8985                                                   0       \n",
       "6171                                                   0       \n",
       "6473                                                   0       \n",
       "10877                                                  1       \n",
       "\n",
       "       CN_tendance_1Q_+_CN_tendance_2Q_(1.69,2.31]_(365,433]  \\\n",
       "8620                                                   0       \n",
       "8985                                                   0       \n",
       "6171                                                   1       \n",
       "6473                                                   0       \n",
       "10877                                                  0       \n",
       "\n",
       "       CN_tendance_1Q_+_CN_tendance_2Q_(1.69,2.31]_(433,501]  \\\n",
       "8620                                                   0       \n",
       "8985                                                   0       \n",
       "6171                                                   0       \n",
       "6473                                                   0       \n",
       "10877                                                  0       \n",
       "\n",
       "       CN_tendance_1Q_+_CN_tendance_2Q_(2.31,2.45]_(285,365]  \\\n",
       "8620                                                   0       \n",
       "8985                                                   0       \n",
       "6171                                                   0       \n",
       "6473                                                   0       \n",
       "10877                                                  0       \n",
       "\n",
       "       CN_tendance_1Q_+_CN_tendance_2Q_(2.31,2.45]_(365,433]  \\\n",
       "8620                                                   0       \n",
       "8985                                                   0       \n",
       "6171                                                   0       \n",
       "6473                                                   1       \n",
       "10877                                                  0       \n",
       "\n",
       "       CN_tendance_1Q_+_CN_tendance_2Q_(2.31,2.45]_(433,501]  \\\n",
       "8620                                                   0       \n",
       "8985                                                   0       \n",
       "6171                                                   0       \n",
       "6473                                                   0       \n",
       "10877                                                  0       \n",
       "\n",
       "       CN_tendance_1Q_+_CN_tendance_2Q_[0.409,0.432]_(67,136]  \\\n",
       "8620                                                   0        \n",
       "8985                                                   0        \n",
       "6171                                                   0        \n",
       "6473                                                   0        \n",
       "10877                                                  0        \n",
       "\n",
       "       CN_tendance_1Q_+_CN_tendance_2Q_[0.409,0.432]_[0,67]  \n",
       "8620                                                   0     \n",
       "8985                                                   0     \n",
       "6171                                                   0     \n",
       "6473                                                   0     \n",
       "10877                                                  0     \n",
       "\n",
       "[5 rows x 3912 columns]"
      ]
     },
     "execution_count": 8,
     "metadata": {},
     "output_type": "execute_result"
    }
   ],
   "source": [
    "X_train.head()"
   ]
  },
  {
   "cell_type": "code",
   "execution_count": 9,
   "metadata": {},
   "outputs": [],
   "source": [
    "# X_train.dtypes"
   ]
  },
  {
   "cell_type": "code",
   "execution_count": 10,
   "metadata": {},
   "outputs": [],
   "source": [
    "# list(X_train)"
   ]
  },
  {
   "cell_type": "code",
   "execution_count": 27,
   "metadata": {},
   "outputs": [],
   "source": [
    "# Hyperparamètre de régularisation\n",
    "alpha = 0.01 to 100 ?"
   ]
  },
  {
   "cell_type": "code",
   "execution_count": 11,
   "metadata": {},
   "outputs": [
    {
     "name": "stdout",
     "output_type": "stream",
     "text": [
      "{'alpha': 0.01, 'copy_X': True, 'fit_intercept': True, 'max_iter': None, 'normalize': False, 'random_state': None, 'solver': 'auto', 'tol': 0.001}\n",
      "Linear regression train score: 0.959484462210167\n",
      "Linear regression test score: 0.9071806127886678\n",
      "Mean_squared_error for train: 1334.9492580246047\n",
      "Mean_squared_error for test: 3014.2979112261073\n"
     ]
    }
   ],
   "source": [
    "def estimate_ridge(alpha):\n",
    "    rr = Ridge(alpha)\n",
    "    rr.fit(X_train, Y_train)\n",
    "\n",
    "    print(rr.get_params())\n",
    "\n",
    "    train_score = rr.score(X_train, Y_train)\n",
    "    test_score = rr.score(X_test, Y_test)\n",
    "\n",
    "    # R2\n",
    "    print (\"Linear regression train score:\", train_score)\n",
    "    print (\"Linear regression test score:\", test_score)\n",
    "\n",
    "    Y_train_prediction = rr.predict(X_train)\n",
    "    Y_test_prediction = rr.predict(X_test)\n",
    "    # ROOT MEAN SQUARED on train\n",
    "    print (\"Mean_squared_error for train:\", mean_squared_error(Y_train, Y_train_prediction))\n",
    "    # ROOT MEAN SQUARED on test\n",
    "    print (\"Mean_squared_error for test:\", mean_squared_error(Y_test, Y_test_prediction))\n",
    "    \n",
    "    return None\n",
    "estimate_ridge(0.01)"
   ]
  },
  {
   "cell_type": "code",
   "execution_count": null,
   "metadata": {},
   "outputs": [],
   "source": [
    "# ROOT MEAN SQUARED LOGARITHMIC ERROR : privilégier des prédictions au-dessous de la vérité\n",
    "à calculer ..."
   ]
  },
  {
   "cell_type": "code",
   "execution_count": 9,
   "metadata": {},
   "outputs": [],
   "source": [
    "#[i for i in range(min(Y_test[\"count\"]),max(Y_test[\"count\"]))]"
   ]
  },
  {
   "cell_type": "code",
   "execution_count": 12,
   "metadata": {},
   "outputs": [
    {
     "name": "stdout",
     "output_type": "stream",
     "text": [
      "{'alpha': 0.01, 'copy_X': True, 'fit_intercept': True, 'max_iter': None, 'normalize': False, 'random_state': None, 'solver': 'auto', 'tol': 0.001}\n",
      "Linear regression train score: 0.959484462210167\n",
      "Linear regression test score: 0.9071806127886678\n",
      "Mean_squared_error for train: 1334.9492580246047\n",
      "Mean_squared_error for test: 3014.2979112261073\n"
     ]
    }
   ],
   "source": [
    "rr = Ridge(0.01)\n",
    "rr.fit(X_train, Y_train)\n",
    "\n",
    "print(rr.get_params())\n",
    "\n",
    "train_score = rr.score(X_train, Y_train)\n",
    "test_score = rr.score(X_test, Y_test)\n",
    "\n",
    "# R2\n",
    "print (\"Linear regression train score:\", train_score)\n",
    "print (\"Linear regression test score:\", test_score)\n",
    "\n",
    "Y_train_prediction = rr.predict(X_train)\n",
    "Y_test_prediction = rr.predict(X_test)\n",
    "# ROOT MEAN SQUARED on train\n",
    "print (\"Mean_squared_error for train:\", mean_squared_error(Y_train, Y_train_prediction))\n",
    "# ROOT MEAN SQUARED on test\n",
    "print (\"Mean_squared_error for test:\", mean_squared_error(Y_test, Y_test_prediction))\n"
   ]
  },
  {
   "cell_type": "code",
   "execution_count": 15,
   "metadata": {},
   "outputs": [
    {
     "data": {
      "text/plain": [
       "[<matplotlib.lines.Line2D at 0x7f46bb62cc18>]"
      ]
     },
     "execution_count": 15,
     "metadata": {},
     "output_type": "execute_result"
    },
    {
     "data": {
      "image/png": "[encoded data removed]",
      "text/plain": [
       "<Figure size 432x288 with 1 Axes>"
      ]
     },
     "metadata": {
      "needs_background": "light"
     },
     "output_type": "display_data"
    }
   ],
   "source": [
    "plt.scatter(Y_test, Y_test_prediction)\n",
    "x = [i for i in range(min(Y_test[\"count\"]),max(Y_test[\"count\"]))]\n",
    "plt.plot(x,\"k\")\n",
    "# OLD"
   ]
  },
  {
   "cell_type": "code",
   "execution_count": 13,
   "metadata": {},
   "outputs": [
    {
     "data": {
      "text/plain": [
       "[<matplotlib.lines.Line2D at 0x7fc4acbd8f60>]"
      ]
     },
     "execution_count": 13,
     "metadata": {},
     "output_type": "execute_result"
    },
    {
     "data": {
      "image/png": "[encoded data removed]",
      "text/plain": [
       "<Figure size 432x288 with 1 Axes>"
      ]
     },
     "metadata": {
      "needs_background": "light"
     },
     "output_type": "display_data"
    }
   ],
   "source": [
    "plt.scatter(Y_test, Y_test_prediction)\n",
    "x = [i for i in range(min(Y_test[\"count\"]),max(Y_test[\"count\"]))]\n",
    "plt.plot(x,\"k\",alpha=0.2)"
   ]
  },
  {
   "cell_type": "code",
   "execution_count": 17,
   "metadata": {},
   "outputs": [],
   "source": [
    "import time"
   ]
  },
  {
   "cell_type": "code",
   "execution_count": 18,
   "metadata": {},
   "outputs": [
    {
     "name": "stdout",
     "output_type": "stream",
     "text": [
      "412.12203764915466\n"
     ]
    }
   ],
   "source": [
    "now = time.time()\n",
    "model = Ridge()\n",
    "parameters = {'alpha':[0.1,0.5,1,5]}\n",
    "grid = GridSearchCV(model,parameters, cv=5)\n",
    "grid.fit(X_train, Y_train)\n",
    "end = time.time()\n",
    "print (end-now)"
   ]
  },
  {
   "cell_type": "code",
   "execution_count": 66,
   "metadata": {},
   "outputs": [
    {
     "ename": "ValueError",
     "evalue": "Mean Squared Logarithmic Error cannot be used when targets contain negative values.",
     "output_type": "error",
     "traceback": [
      "\u001b[0;31m---------------------------------------------------------------------------\u001b[0m",
      "\u001b[0;31mValueError\u001b[0m                                Traceback (most recent call last)",
      "\u001b[0;32m<ipython-input-66-edb47b94b378>\u001b[0m in \u001b[0;36m<module>\u001b[0;34m\u001b[0m\n\u001b[1;32m      2\u001b[0m \u001b[0mparameters\u001b[0m \u001b[0;34m=\u001b[0m \u001b[0;34m{\u001b[0m\u001b[0;34m'alpha'\u001b[0m\u001b[0;34m:\u001b[0m\u001b[0;34m[\u001b[0m\u001b[0;36m0.1\u001b[0m\u001b[0;34m,\u001b[0m\u001b[0;36m0.5\u001b[0m\u001b[0;34m,\u001b[0m\u001b[0;36m1\u001b[0m\u001b[0;34m,\u001b[0m\u001b[0;36m5\u001b[0m\u001b[0;34m]\u001b[0m\u001b[0;34m}\u001b[0m\u001b[0;34m\u001b[0m\u001b[0;34m\u001b[0m\u001b[0m\n\u001b[1;32m      3\u001b[0m \u001b[0mgrid\u001b[0m \u001b[0;34m=\u001b[0m \u001b[0mGridSearchCV\u001b[0m\u001b[0;34m(\u001b[0m\u001b[0mmodel\u001b[0m\u001b[0;34m,\u001b[0m\u001b[0mparameters\u001b[0m\u001b[0;34m,\u001b[0m \u001b[0mcv\u001b[0m\u001b[0;34m=\u001b[0m\u001b[0;36m5\u001b[0m\u001b[0;34m,\u001b[0m \u001b[0mscoring\u001b[0m\u001b[0;34m=\u001b[0m \u001b[0;34m\"neg_mean_squared_log_error\"\u001b[0m\u001b[0;34m)\u001b[0m\u001b[0;34m\u001b[0m\u001b[0;34m\u001b[0m\u001b[0m\n\u001b[0;32m----> 4\u001b[0;31m \u001b[0mgrid\u001b[0m\u001b[0;34m.\u001b[0m\u001b[0mfit\u001b[0m\u001b[0;34m(\u001b[0m\u001b[0mX_train\u001b[0m\u001b[0;34m,\u001b[0m \u001b[0mY_train\u001b[0m\u001b[0;34m)\u001b[0m\u001b[0;34m\u001b[0m\u001b[0;34m\u001b[0m\u001b[0m\n\u001b[0m",
      "\u001b[0;32m~/anaconda3/envs/data/lib/python3.6/site-packages/sklearn/model_selection/_search.py\u001b[0m in \u001b[0;36mfit\u001b[0;34m(self, X, y, groups, **fit_params)\u001b[0m\n\u001b[1;32m    685\u001b[0m                 \u001b[0;32mreturn\u001b[0m \u001b[0mresults\u001b[0m\u001b[0;34m\u001b[0m\u001b[0;34m\u001b[0m\u001b[0m\n\u001b[1;32m    686\u001b[0m \u001b[0;34m\u001b[0m\u001b[0m\n\u001b[0;32m--> 687\u001b[0;31m             \u001b[0mself\u001b[0m\u001b[0;34m.\u001b[0m\u001b[0m_run_search\u001b[0m\u001b[0;34m(\u001b[0m\u001b[0mevaluate_candidates\u001b[0m\u001b[0;34m)\u001b[0m\u001b[0;34m\u001b[0m\u001b[0;34m\u001b[0m\u001b[0m\n\u001b[0m\u001b[1;32m    688\u001b[0m \u001b[0;34m\u001b[0m\u001b[0m\n\u001b[1;32m    689\u001b[0m         \u001b[0;31m# For multi-metric evaluation, store the best_index_, best_params_ and\u001b[0m\u001b[0;34m\u001b[0m\u001b[0;34m\u001b[0m\u001b[0;34m\u001b[0m\u001b[0m\n",
      "\u001b[0;32m~/anaconda3/envs/data/lib/python3.6/site-packages/sklearn/model_selection/_search.py\u001b[0m in \u001b[0;36m_run_search\u001b[0;34m(self, evaluate_candidates)\u001b[0m\n\u001b[1;32m   1146\u001b[0m     \u001b[0;32mdef\u001b[0m \u001b[0m_run_search\u001b[0m\u001b[0;34m(\u001b[0m\u001b[0mself\u001b[0m\u001b[0;34m,\u001b[0m \u001b[0mevaluate_candidates\u001b[0m\u001b[0;34m)\u001b[0m\u001b[0;34m:\u001b[0m\u001b[0;34m\u001b[0m\u001b[0;34m\u001b[0m\u001b[0m\n\u001b[1;32m   1147\u001b[0m         \u001b[0;34m\"\"\"Search all candidates in param_grid\"\"\"\u001b[0m\u001b[0;34m\u001b[0m\u001b[0;34m\u001b[0m\u001b[0m\n\u001b[0;32m-> 1148\u001b[0;31m         \u001b[0mevaluate_candidates\u001b[0m\u001b[0;34m(\u001b[0m\u001b[0mParameterGrid\u001b[0m\u001b[0;34m(\u001b[0m\u001b[0mself\u001b[0m\u001b[0;34m.\u001b[0m\u001b[0mparam_grid\u001b[0m\u001b[0;34m)\u001b[0m\u001b[0;34m)\u001b[0m\u001b[0;34m\u001b[0m\u001b[0;34m\u001b[0m\u001b[0m\n\u001b[0m\u001b[1;32m   1149\u001b[0m \u001b[0;34m\u001b[0m\u001b[0m\n\u001b[1;32m   1150\u001b[0m \u001b[0;34m\u001b[0m\u001b[0m\n",
      "\u001b[0;32m~/anaconda3/envs/data/lib/python3.6/site-packages/sklearn/model_selection/_search.py\u001b[0m in \u001b[0;36mevaluate_candidates\u001b[0;34m(candidate_params)\u001b[0m\n\u001b[1;32m    664\u001b[0m                                \u001b[0;32mfor\u001b[0m \u001b[0mparameters\u001b[0m\u001b[0;34m,\u001b[0m \u001b[0;34m(\u001b[0m\u001b[0mtrain\u001b[0m\u001b[0;34m,\u001b[0m \u001b[0mtest\u001b[0m\u001b[0;34m)\u001b[0m\u001b[0;34m\u001b[0m\u001b[0;34m\u001b[0m\u001b[0m\n\u001b[1;32m    665\u001b[0m                                in product(candidate_params,\n\u001b[0;32m--> 666\u001b[0;31m                                           cv.split(X, y, groups)))\n\u001b[0m\u001b[1;32m    667\u001b[0m \u001b[0;34m\u001b[0m\u001b[0m\n\u001b[1;32m    668\u001b[0m                 \u001b[0;32mif\u001b[0m \u001b[0mlen\u001b[0m\u001b[0;34m(\u001b[0m\u001b[0mout\u001b[0m\u001b[0;34m)\u001b[0m \u001b[0;34m<\u001b[0m \u001b[0;36m1\u001b[0m\u001b[0;34m:\u001b[0m\u001b[0;34m\u001b[0m\u001b[0;34m\u001b[0m\u001b[0m\n",
      "\u001b[0;32m~/anaconda3/envs/data/lib/python3.6/site-packages/joblib/parallel.py\u001b[0m in \u001b[0;36m__call__\u001b[0;34m(self, iterable)\u001b[0m\n\u001b[1;32m    919\u001b[0m             \u001b[0;31m# remaining jobs.\u001b[0m\u001b[0;34m\u001b[0m\u001b[0;34m\u001b[0m\u001b[0;34m\u001b[0m\u001b[0m\n\u001b[1;32m    920\u001b[0m             \u001b[0mself\u001b[0m\u001b[0;34m.\u001b[0m\u001b[0m_iterating\u001b[0m \u001b[0;34m=\u001b[0m \u001b[0;32mFalse\u001b[0m\u001b[0;34m\u001b[0m\u001b[0;34m\u001b[0m\u001b[0m\n\u001b[0;32m--> 921\u001b[0;31m             \u001b[0;32mif\u001b[0m \u001b[0mself\u001b[0m\u001b[0;34m.\u001b[0m\u001b[0mdispatch_one_batch\u001b[0m\u001b[0;34m(\u001b[0m\u001b[0miterator\u001b[0m\u001b[0;34m)\u001b[0m\u001b[0;34m:\u001b[0m\u001b[0;34m\u001b[0m\u001b[0;34m\u001b[0m\u001b[0m\n\u001b[0m\u001b[1;32m    922\u001b[0m                 \u001b[0mself\u001b[0m\u001b[0;34m.\u001b[0m\u001b[0m_iterating\u001b[0m \u001b[0;34m=\u001b[0m \u001b[0mself\u001b[0m\u001b[0;34m.\u001b[0m\u001b[0m_original_iterator\u001b[0m \u001b[0;32mis\u001b[0m \u001b[0;32mnot\u001b[0m \u001b[0;32mNone\u001b[0m\u001b[0;34m\u001b[0m\u001b[0;34m\u001b[0m\u001b[0m\n\u001b[1;32m    923\u001b[0m \u001b[0;34m\u001b[0m\u001b[0m\n",
      "\u001b[0;32m~/anaconda3/envs/data/lib/python3.6/site-packages/joblib/parallel.py\u001b[0m in \u001b[0;36mdispatch_one_batch\u001b[0;34m(self, iterator)\u001b[0m\n\u001b[1;32m    757\u001b[0m                 \u001b[0;32mreturn\u001b[0m \u001b[0;32mFalse\u001b[0m\u001b[0;34m\u001b[0m\u001b[0;34m\u001b[0m\u001b[0m\n\u001b[1;32m    758\u001b[0m             \u001b[0;32melse\u001b[0m\u001b[0;34m:\u001b[0m\u001b[0;34m\u001b[0m\u001b[0;34m\u001b[0m\u001b[0m\n\u001b[0;32m--> 759\u001b[0;31m                 \u001b[0mself\u001b[0m\u001b[0;34m.\u001b[0m\u001b[0m_dispatch\u001b[0m\u001b[0;34m(\u001b[0m\u001b[0mtasks\u001b[0m\u001b[0;34m)\u001b[0m\u001b[0;34m\u001b[0m\u001b[0;34m\u001b[0m\u001b[0m\n\u001b[0m\u001b[1;32m    760\u001b[0m                 \u001b[0;32mreturn\u001b[0m \u001b[0;32mTrue\u001b[0m\u001b[0;34m\u001b[0m\u001b[0;34m\u001b[0m\u001b[0m\n\u001b[1;32m    761\u001b[0m \u001b[0;34m\u001b[0m\u001b[0m\n",
      "\u001b[0;32m~/anaconda3/envs/data/lib/python3.6/site-packages/joblib/parallel.py\u001b[0m in \u001b[0;36m_dispatch\u001b[0;34m(self, batch)\u001b[0m\n\u001b[1;32m    714\u001b[0m         \u001b[0;32mwith\u001b[0m \u001b[0mself\u001b[0m\u001b[0;34m.\u001b[0m\u001b[0m_lock\u001b[0m\u001b[0;34m:\u001b[0m\u001b[0;34m\u001b[0m\u001b[0;34m\u001b[0m\u001b[0m\n\u001b[1;32m    715\u001b[0m             \u001b[0mjob_idx\u001b[0m \u001b[0;34m=\u001b[0m \u001b[0mlen\u001b[0m\u001b[0;34m(\u001b[0m\u001b[0mself\u001b[0m\u001b[0;34m.\u001b[0m\u001b[0m_jobs\u001b[0m\u001b[0;34m)\u001b[0m\u001b[0;34m\u001b[0m\u001b[0;34m\u001b[0m\u001b[0m\n\u001b[0;32m--> 716\u001b[0;31m             \u001b[0mjob\u001b[0m \u001b[0;34m=\u001b[0m \u001b[0mself\u001b[0m\u001b[0;34m.\u001b[0m\u001b[0m_backend\u001b[0m\u001b[0;34m.\u001b[0m\u001b[0mapply_async\u001b[0m\u001b[0;34m(\u001b[0m\u001b[0mbatch\u001b[0m\u001b[0;34m,\u001b[0m \u001b[0mcallback\u001b[0m\u001b[0;34m=\u001b[0m\u001b[0mcb\u001b[0m\u001b[0;34m)\u001b[0m\u001b[0;34m\u001b[0m\u001b[0;34m\u001b[0m\u001b[0m\n\u001b[0m\u001b[1;32m    717\u001b[0m             \u001b[0;31m# A job can complete so quickly than its callback is\u001b[0m\u001b[0;34m\u001b[0m\u001b[0;34m\u001b[0m\u001b[0;34m\u001b[0m\u001b[0m\n\u001b[1;32m    718\u001b[0m             \u001b[0;31m# called before we get here, causing self._jobs to\u001b[0m\u001b[0;34m\u001b[0m\u001b[0;34m\u001b[0m\u001b[0;34m\u001b[0m\u001b[0m\n",
      "\u001b[0;32m~/anaconda3/envs/data/lib/python3.6/site-packages/joblib/_parallel_backends.py\u001b[0m in \u001b[0;36mapply_async\u001b[0;34m(self, func, callback)\u001b[0m\n\u001b[1;32m    180\u001b[0m     \u001b[0;32mdef\u001b[0m \u001b[0mapply_async\u001b[0m\u001b[0;34m(\u001b[0m\u001b[0mself\u001b[0m\u001b[0;34m,\u001b[0m \u001b[0mfunc\u001b[0m\u001b[0;34m,\u001b[0m \u001b[0mcallback\u001b[0m\u001b[0;34m=\u001b[0m\u001b[0;32mNone\u001b[0m\u001b[0;34m)\u001b[0m\u001b[0;34m:\u001b[0m\u001b[0;34m\u001b[0m\u001b[0;34m\u001b[0m\u001b[0m\n\u001b[1;32m    181\u001b[0m         \u001b[0;34m\"\"\"Schedule a func to be run\"\"\"\u001b[0m\u001b[0;34m\u001b[0m\u001b[0;34m\u001b[0m\u001b[0m\n\u001b[0;32m--> 182\u001b[0;31m         \u001b[0mresult\u001b[0m \u001b[0;34m=\u001b[0m \u001b[0mImmediateResult\u001b[0m\u001b[0;34m(\u001b[0m\u001b[0mfunc\u001b[0m\u001b[0;34m)\u001b[0m\u001b[0;34m\u001b[0m\u001b[0;34m\u001b[0m\u001b[0m\n\u001b[0m\u001b[1;32m    183\u001b[0m         \u001b[0;32mif\u001b[0m \u001b[0mcallback\u001b[0m\u001b[0;34m:\u001b[0m\u001b[0;34m\u001b[0m\u001b[0;34m\u001b[0m\u001b[0m\n\u001b[1;32m    184\u001b[0m             \u001b[0mcallback\u001b[0m\u001b[0;34m(\u001b[0m\u001b[0mresult\u001b[0m\u001b[0;34m)\u001b[0m\u001b[0;34m\u001b[0m\u001b[0;34m\u001b[0m\u001b[0m\n",
      "\u001b[0;32m~/anaconda3/envs/data/lib/python3.6/site-packages/joblib/_parallel_backends.py\u001b[0m in \u001b[0;36m__init__\u001b[0;34m(self, batch)\u001b[0m\n\u001b[1;32m    547\u001b[0m         \u001b[0;31m# Don't delay the application, to avoid keeping the input\u001b[0m\u001b[0;34m\u001b[0m\u001b[0;34m\u001b[0m\u001b[0;34m\u001b[0m\u001b[0m\n\u001b[1;32m    548\u001b[0m         \u001b[0;31m# arguments in memory\u001b[0m\u001b[0;34m\u001b[0m\u001b[0;34m\u001b[0m\u001b[0;34m\u001b[0m\u001b[0m\n\u001b[0;32m--> 549\u001b[0;31m         \u001b[0mself\u001b[0m\u001b[0;34m.\u001b[0m\u001b[0mresults\u001b[0m \u001b[0;34m=\u001b[0m \u001b[0mbatch\u001b[0m\u001b[0;34m(\u001b[0m\u001b[0;34m)\u001b[0m\u001b[0;34m\u001b[0m\u001b[0;34m\u001b[0m\u001b[0m\n\u001b[0m\u001b[1;32m    550\u001b[0m \u001b[0;34m\u001b[0m\u001b[0m\n\u001b[1;32m    551\u001b[0m     \u001b[0;32mdef\u001b[0m \u001b[0mget\u001b[0m\u001b[0;34m(\u001b[0m\u001b[0mself\u001b[0m\u001b[0;34m)\u001b[0m\u001b[0;34m:\u001b[0m\u001b[0;34m\u001b[0m\u001b[0;34m\u001b[0m\u001b[0m\n",
      "\u001b[0;32m~/anaconda3/envs/data/lib/python3.6/site-packages/joblib/parallel.py\u001b[0m in \u001b[0;36m__call__\u001b[0;34m(self)\u001b[0m\n\u001b[1;32m    223\u001b[0m         \u001b[0;32mwith\u001b[0m \u001b[0mparallel_backend\u001b[0m\u001b[0;34m(\u001b[0m\u001b[0mself\u001b[0m\u001b[0;34m.\u001b[0m\u001b[0m_backend\u001b[0m\u001b[0;34m,\u001b[0m \u001b[0mn_jobs\u001b[0m\u001b[0;34m=\u001b[0m\u001b[0mself\u001b[0m\u001b[0;34m.\u001b[0m\u001b[0m_n_jobs\u001b[0m\u001b[0;34m)\u001b[0m\u001b[0;34m:\u001b[0m\u001b[0;34m\u001b[0m\u001b[0;34m\u001b[0m\u001b[0m\n\u001b[1;32m    224\u001b[0m             return [func(*args, **kwargs)\n\u001b[0;32m--> 225\u001b[0;31m                     for func, args, kwargs in self.items]\n\u001b[0m\u001b[1;32m    226\u001b[0m \u001b[0;34m\u001b[0m\u001b[0m\n\u001b[1;32m    227\u001b[0m     \u001b[0;32mdef\u001b[0m \u001b[0m__len__\u001b[0m\u001b[0;34m(\u001b[0m\u001b[0mself\u001b[0m\u001b[0;34m)\u001b[0m\u001b[0;34m:\u001b[0m\u001b[0;34m\u001b[0m\u001b[0;34m\u001b[0m\u001b[0m\n",
      "\u001b[0;32m~/anaconda3/envs/data/lib/python3.6/site-packages/joblib/parallel.py\u001b[0m in \u001b[0;36m<listcomp>\u001b[0;34m(.0)\u001b[0m\n\u001b[1;32m    223\u001b[0m         \u001b[0;32mwith\u001b[0m \u001b[0mparallel_backend\u001b[0m\u001b[0;34m(\u001b[0m\u001b[0mself\u001b[0m\u001b[0;34m.\u001b[0m\u001b[0m_backend\u001b[0m\u001b[0;34m,\u001b[0m \u001b[0mn_jobs\u001b[0m\u001b[0;34m=\u001b[0m\u001b[0mself\u001b[0m\u001b[0;34m.\u001b[0m\u001b[0m_n_jobs\u001b[0m\u001b[0;34m)\u001b[0m\u001b[0;34m:\u001b[0m\u001b[0;34m\u001b[0m\u001b[0;34m\u001b[0m\u001b[0m\n\u001b[1;32m    224\u001b[0m             return [func(*args, **kwargs)\n\u001b[0;32m--> 225\u001b[0;31m                     for func, args, kwargs in self.items]\n\u001b[0m\u001b[1;32m    226\u001b[0m \u001b[0;34m\u001b[0m\u001b[0m\n\u001b[1;32m    227\u001b[0m     \u001b[0;32mdef\u001b[0m \u001b[0m__len__\u001b[0m\u001b[0;34m(\u001b[0m\u001b[0mself\u001b[0m\u001b[0;34m)\u001b[0m\u001b[0;34m:\u001b[0m\u001b[0;34m\u001b[0m\u001b[0;34m\u001b[0m\u001b[0m\n",
      "\u001b[0;32m~/anaconda3/envs/data/lib/python3.6/site-packages/sklearn/model_selection/_validation.py\u001b[0m in \u001b[0;36m_fit_and_score\u001b[0;34m(estimator, X, y, scorer, train, test, verbose, parameters, fit_params, return_train_score, return_parameters, return_n_test_samples, return_times, return_estimator, error_score)\u001b[0m\n\u001b[1;32m    552\u001b[0m         \u001b[0mfit_time\u001b[0m \u001b[0;34m=\u001b[0m \u001b[0mtime\u001b[0m\u001b[0;34m.\u001b[0m\u001b[0mtime\u001b[0m\u001b[0;34m(\u001b[0m\u001b[0;34m)\u001b[0m \u001b[0;34m-\u001b[0m \u001b[0mstart_time\u001b[0m\u001b[0;34m\u001b[0m\u001b[0;34m\u001b[0m\u001b[0m\n\u001b[1;32m    553\u001b[0m         \u001b[0;31m# _score will return dict if is_multimetric is True\u001b[0m\u001b[0;34m\u001b[0m\u001b[0;34m\u001b[0m\u001b[0;34m\u001b[0m\u001b[0m\n\u001b[0;32m--> 554\u001b[0;31m         \u001b[0mtest_scores\u001b[0m \u001b[0;34m=\u001b[0m \u001b[0m_score\u001b[0m\u001b[0;34m(\u001b[0m\u001b[0mestimator\u001b[0m\u001b[0;34m,\u001b[0m \u001b[0mX_test\u001b[0m\u001b[0;34m,\u001b[0m \u001b[0my_test\u001b[0m\u001b[0;34m,\u001b[0m \u001b[0mscorer\u001b[0m\u001b[0;34m,\u001b[0m \u001b[0mis_multimetric\u001b[0m\u001b[0;34m)\u001b[0m\u001b[0;34m\u001b[0m\u001b[0;34m\u001b[0m\u001b[0m\n\u001b[0m\u001b[1;32m    555\u001b[0m         \u001b[0mscore_time\u001b[0m \u001b[0;34m=\u001b[0m \u001b[0mtime\u001b[0m\u001b[0;34m.\u001b[0m\u001b[0mtime\u001b[0m\u001b[0;34m(\u001b[0m\u001b[0;34m)\u001b[0m \u001b[0;34m-\u001b[0m \u001b[0mstart_time\u001b[0m \u001b[0;34m-\u001b[0m \u001b[0mfit_time\u001b[0m\u001b[0;34m\u001b[0m\u001b[0;34m\u001b[0m\u001b[0m\n\u001b[1;32m    556\u001b[0m         \u001b[0;32mif\u001b[0m \u001b[0mreturn_train_score\u001b[0m\u001b[0;34m:\u001b[0m\u001b[0;34m\u001b[0m\u001b[0;34m\u001b[0m\u001b[0m\n",
      "\u001b[0;32m~/anaconda3/envs/data/lib/python3.6/site-packages/sklearn/model_selection/_validation.py\u001b[0m in \u001b[0;36m_score\u001b[0;34m(estimator, X_test, y_test, scorer, is_multimetric)\u001b[0m\n\u001b[1;32m    595\u001b[0m     \"\"\"\n\u001b[1;32m    596\u001b[0m     \u001b[0;32mif\u001b[0m \u001b[0mis_multimetric\u001b[0m\u001b[0;34m:\u001b[0m\u001b[0;34m\u001b[0m\u001b[0;34m\u001b[0m\u001b[0m\n\u001b[0;32m--> 597\u001b[0;31m         \u001b[0;32mreturn\u001b[0m \u001b[0m_multimetric_score\u001b[0m\u001b[0;34m(\u001b[0m\u001b[0mestimator\u001b[0m\u001b[0;34m,\u001b[0m \u001b[0mX_test\u001b[0m\u001b[0;34m,\u001b[0m \u001b[0my_test\u001b[0m\u001b[0;34m,\u001b[0m \u001b[0mscorer\u001b[0m\u001b[0;34m)\u001b[0m\u001b[0;34m\u001b[0m\u001b[0;34m\u001b[0m\u001b[0m\n\u001b[0m\u001b[1;32m    598\u001b[0m     \u001b[0;32melse\u001b[0m\u001b[0;34m:\u001b[0m\u001b[0;34m\u001b[0m\u001b[0;34m\u001b[0m\u001b[0m\n\u001b[1;32m    599\u001b[0m         \u001b[0;32mif\u001b[0m \u001b[0my_test\u001b[0m \u001b[0;32mis\u001b[0m \u001b[0;32mNone\u001b[0m\u001b[0;34m:\u001b[0m\u001b[0;34m\u001b[0m\u001b[0;34m\u001b[0m\u001b[0m\n",
      "\u001b[0;32m~/anaconda3/envs/data/lib/python3.6/site-packages/sklearn/model_selection/_validation.py\u001b[0m in \u001b[0;36m_multimetric_score\u001b[0;34m(estimator, X_test, y_test, scorers)\u001b[0m\n\u001b[1;32m    625\u001b[0m             \u001b[0mscore\u001b[0m \u001b[0;34m=\u001b[0m \u001b[0mscorer\u001b[0m\u001b[0;34m(\u001b[0m\u001b[0mestimator\u001b[0m\u001b[0;34m,\u001b[0m \u001b[0mX_test\u001b[0m\u001b[0;34m)\u001b[0m\u001b[0;34m\u001b[0m\u001b[0;34m\u001b[0m\u001b[0m\n\u001b[1;32m    626\u001b[0m         \u001b[0;32melse\u001b[0m\u001b[0;34m:\u001b[0m\u001b[0;34m\u001b[0m\u001b[0;34m\u001b[0m\u001b[0m\n\u001b[0;32m--> 627\u001b[0;31m             \u001b[0mscore\u001b[0m \u001b[0;34m=\u001b[0m \u001b[0mscorer\u001b[0m\u001b[0;34m(\u001b[0m\u001b[0mestimator\u001b[0m\u001b[0;34m,\u001b[0m \u001b[0mX_test\u001b[0m\u001b[0;34m,\u001b[0m \u001b[0my_test\u001b[0m\u001b[0;34m)\u001b[0m\u001b[0;34m\u001b[0m\u001b[0;34m\u001b[0m\u001b[0m\n\u001b[0m\u001b[1;32m    628\u001b[0m \u001b[0;34m\u001b[0m\u001b[0m\n\u001b[1;32m    629\u001b[0m         \u001b[0;32mif\u001b[0m \u001b[0mhasattr\u001b[0m\u001b[0;34m(\u001b[0m\u001b[0mscore\u001b[0m\u001b[0;34m,\u001b[0m \u001b[0;34m'item'\u001b[0m\u001b[0;34m)\u001b[0m\u001b[0;34m:\u001b[0m\u001b[0;34m\u001b[0m\u001b[0;34m\u001b[0m\u001b[0m\n",
      "\u001b[0;32m~/anaconda3/envs/data/lib/python3.6/site-packages/sklearn/metrics/scorer.py\u001b[0m in \u001b[0;36m__call__\u001b[0;34m(self, estimator, X, y_true, sample_weight)\u001b[0m\n\u001b[1;32m     95\u001b[0m         \u001b[0;32melse\u001b[0m\u001b[0;34m:\u001b[0m\u001b[0;34m\u001b[0m\u001b[0;34m\u001b[0m\u001b[0m\n\u001b[1;32m     96\u001b[0m             return self._sign * self._score_func(y_true, y_pred,\n\u001b[0;32m---> 97\u001b[0;31m                                                  **self._kwargs)\n\u001b[0m\u001b[1;32m     98\u001b[0m \u001b[0;34m\u001b[0m\u001b[0m\n\u001b[1;32m     99\u001b[0m \u001b[0;34m\u001b[0m\u001b[0m\n",
      "\u001b[0;32m~/anaconda3/envs/data/lib/python3.6/site-packages/sklearn/metrics/regression.py\u001b[0m in \u001b[0;36mmean_squared_log_error\u001b[0;34m(y_true, y_pred, sample_weight, multioutput)\u001b[0m\n\u001b[1;32m    314\u001b[0m \u001b[0;34m\u001b[0m\u001b[0m\n\u001b[1;32m    315\u001b[0m     \u001b[0;32mif\u001b[0m \u001b[0;34m(\u001b[0m\u001b[0my_true\u001b[0m \u001b[0;34m<\u001b[0m \u001b[0;36m0\u001b[0m\u001b[0;34m)\u001b[0m\u001b[0;34m.\u001b[0m\u001b[0many\u001b[0m\u001b[0;34m(\u001b[0m\u001b[0;34m)\u001b[0m \u001b[0;32mor\u001b[0m \u001b[0;34m(\u001b[0m\u001b[0my_pred\u001b[0m \u001b[0;34m<\u001b[0m \u001b[0;36m0\u001b[0m\u001b[0;34m)\u001b[0m\u001b[0;34m.\u001b[0m\u001b[0many\u001b[0m\u001b[0;34m(\u001b[0m\u001b[0;34m)\u001b[0m\u001b[0;34m:\u001b[0m\u001b[0;34m\u001b[0m\u001b[0;34m\u001b[0m\u001b[0m\n\u001b[0;32m--> 316\u001b[0;31m         raise ValueError(\"Mean Squared Logarithmic Error cannot be used when \"\n\u001b[0m\u001b[1;32m    317\u001b[0m                          \"targets contain negative values.\")\n\u001b[1;32m    318\u001b[0m \u001b[0;34m\u001b[0m\u001b[0m\n",
      "\u001b[0;31mValueError\u001b[0m: Mean Squared Logarithmic Error cannot be used when targets contain negative values."
     ]
    }
   ],
   "source": [
    "model = Ridge()\n",
    "parameters = {'alpha':[0.1,0.5,1,5]}\n",
    "grid = GridSearchCV(model,parameters, cv=5, scoring= \"neg_mean_squared_log_error\")\n",
    "grid.fit(X_train, Y_train)"
   ]
  },
  {
   "cell_type": "code",
   "execution_count": 19,
   "metadata": {},
   "outputs": [
    {
     "data": {
      "text/plain": [
       "{'alpha': 5}"
      ]
     },
     "execution_count": 19,
     "metadata": {},
     "output_type": "execute_result"
    }
   ],
   "source": [
    "grid.best_params_\n",
    "# OLD : {'alpha': 0.1}"
   ]
  },
  {
   "cell_type": "code",
   "execution_count": 18,
   "metadata": {},
   "outputs": [
    {
     "data": {
      "text/plain": [
       "array([[209.26941548],\n",
       "       [350.52323143],\n",
       "       [289.56044778],\n",
       "       ...,\n",
       "       [ 81.8862535 ],\n",
       "       [ 49.56484869],\n",
       "       [199.05043824]])"
      ]
     },
     "execution_count": 18,
     "metadata": {},
     "output_type": "execute_result"
    }
   ],
   "source": [
    "grid.predict(X_test)"
   ]
  },
  {
   "cell_type": "code",
   "execution_count": 19,
   "metadata": {},
   "outputs": [
    {
     "data": {
      "text/plain": [
       "(3266, 1)"
      ]
     },
     "execution_count": 19,
     "metadata": {},
     "output_type": "execute_result"
    }
   ],
   "source": [
    "grid.predict(X_test).shape"
   ]
  },
  {
   "cell_type": "code",
   "execution_count": 20,
   "metadata": {},
   "outputs": [
    {
     "data": {
      "text/plain": [
       "(3266, 75)"
      ]
     },
     "execution_count": 20,
     "metadata": {},
     "output_type": "execute_result"
    }
   ],
   "source": [
    "X_test.shape"
   ]
  },
  {
   "cell_type": "code",
   "execution_count": 21,
   "metadata": {},
   "outputs": [
    {
     "data": {
      "text/plain": [
       "(7620, 75)"
      ]
     },
     "execution_count": 21,
     "metadata": {},
     "output_type": "execute_result"
    }
   ],
   "source": [
    "X_train.shape"
   ]
  },
  {
   "cell_type": "code",
   "execution_count": 73,
   "metadata": {},
   "outputs": [
    {
     "data": {
      "text/html": [
       "<div>\n",
       "<style scoped>\n",
       "    .dataframe tbody tr th:only-of-type {\n",
       "        vertical-align: middle;\n",
       "    }\n",
       "\n",
       "    .dataframe tbody tr th {\n",
       "        vertical-align: top;\n",
       "    }\n",
       "\n",
       "    .dataframe thead th {\n",
       "        text-align: right;\n",
       "    }\n",
       "</style>\n",
       "<table border=\"1\" class=\"dataframe\">\n",
       "  <thead>\n",
       "    <tr style=\"text-align: right;\">\n",
       "      <th></th>\n",
       "      <th>mean_fit_time</th>\n",
       "      <th>std_fit_time</th>\n",
       "      <th>mean_score_time</th>\n",
       "      <th>std_score_time</th>\n",
       "      <th>param_alpha</th>\n",
       "      <th>params</th>\n",
       "      <th>split0_test_score</th>\n",
       "      <th>split1_test_score</th>\n",
       "      <th>split2_test_score</th>\n",
       "      <th>split3_test_score</th>\n",
       "      <th>split4_test_score</th>\n",
       "      <th>mean_test_score</th>\n",
       "      <th>std_test_score</th>\n",
       "      <th>rank_test_score</th>\n",
       "    </tr>\n",
       "  </thead>\n",
       "  <tbody>\n",
       "    <tr>\n",
       "      <th>0</th>\n",
       "      <td>0.040302</td>\n",
       "      <td>0.009796</td>\n",
       "      <td>0.015572</td>\n",
       "      <td>0.005775</td>\n",
       "      <td>0.1</td>\n",
       "      <td>{'alpha': 0.1}</td>\n",
       "      <td>0.408625</td>\n",
       "      <td>0.435554</td>\n",
       "      <td>0.368470</td>\n",
       "      <td>0.413126</td>\n",
       "      <td>0.418446</td>\n",
       "      <td>0.408844</td>\n",
       "      <td>0.022154</td>\n",
       "      <td>2</td>\n",
       "    </tr>\n",
       "    <tr>\n",
       "      <th>1</th>\n",
       "      <td>0.025101</td>\n",
       "      <td>0.007467</td>\n",
       "      <td>0.008556</td>\n",
       "      <td>0.002011</td>\n",
       "      <td>0.5</td>\n",
       "      <td>{'alpha': 0.5}</td>\n",
       "      <td>0.408630</td>\n",
       "      <td>0.435504</td>\n",
       "      <td>0.368562</td>\n",
       "      <td>0.412998</td>\n",
       "      <td>0.418556</td>\n",
       "      <td>0.408850</td>\n",
       "      <td>0.022113</td>\n",
       "      <td>1</td>\n",
       "    </tr>\n",
       "    <tr>\n",
       "      <th>2</th>\n",
       "      <td>0.021172</td>\n",
       "      <td>0.001417</td>\n",
       "      <td>0.006845</td>\n",
       "      <td>0.000224</td>\n",
       "      <td>1</td>\n",
       "      <td>{'alpha': 1}</td>\n",
       "      <td>0.408616</td>\n",
       "      <td>0.435418</td>\n",
       "      <td>0.368599</td>\n",
       "      <td>0.412850</td>\n",
       "      <td>0.418601</td>\n",
       "      <td>0.408817</td>\n",
       "      <td>0.022078</td>\n",
       "      <td>3</td>\n",
       "    </tr>\n",
       "    <tr>\n",
       "      <th>3</th>\n",
       "      <td>0.020471</td>\n",
       "      <td>0.000237</td>\n",
       "      <td>0.007229</td>\n",
       "      <td>0.000387</td>\n",
       "      <td>5</td>\n",
       "      <td>{'alpha': 5}</td>\n",
       "      <td>0.408488</td>\n",
       "      <td>0.434866</td>\n",
       "      <td>0.368367</td>\n",
       "      <td>0.412095</td>\n",
       "      <td>0.418285</td>\n",
       "      <td>0.408420</td>\n",
       "      <td>0.021975</td>\n",
       "      <td>4</td>\n",
       "    </tr>\n",
       "  </tbody>\n",
       "</table>\n",
       "</div>"
      ],
      "text/plain": [
       "   mean_fit_time  std_fit_time  mean_score_time  std_score_time param_alpha  \\\n",
       "0       0.040302      0.009796         0.015572        0.005775         0.1   \n",
       "1       0.025101      0.007467         0.008556        0.002011         0.5   \n",
       "2       0.021172      0.001417         0.006845        0.000224           1   \n",
       "3       0.020471      0.000237         0.007229        0.000387           5   \n",
       "\n",
       "           params  split0_test_score  split1_test_score  split2_test_score  \\\n",
       "0  {'alpha': 0.1}           0.408625           0.435554           0.368470   \n",
       "1  {'alpha': 0.5}           0.408630           0.435504           0.368562   \n",
       "2    {'alpha': 1}           0.408616           0.435418           0.368599   \n",
       "3    {'alpha': 5}           0.408488           0.434866           0.368367   \n",
       "\n",
       "   split3_test_score  split4_test_score  mean_test_score  std_test_score  \\\n",
       "0           0.413126           0.418446         0.408844        0.022154   \n",
       "1           0.412998           0.418556         0.408850        0.022113   \n",
       "2           0.412850           0.418601         0.408817        0.022078   \n",
       "3           0.412095           0.418285         0.408420        0.021975   \n",
       "\n",
       "   rank_test_score  \n",
       "0                2  \n",
       "1                1  \n",
       "2                3  \n",
       "3                4  "
      ]
     },
     "execution_count": 73,
     "metadata": {},
     "output_type": "execute_result"
    }
   ],
   "source": [
    "# OLD\n",
    "pd.DataFrame(grid.cv_results_)"
   ]
  },
  {
   "cell_type": "code",
   "execution_count": 22,
   "metadata": {},
   "outputs": [
    {
     "data": {
      "text/html": [
       "<div>\n",
       "<style scoped>\n",
       "    .dataframe tbody tr th:only-of-type {\n",
       "        vertical-align: middle;\n",
       "    }\n",
       "\n",
       "    .dataframe tbody tr th {\n",
       "        vertical-align: top;\n",
       "    }\n",
       "\n",
       "    .dataframe thead th {\n",
       "        text-align: right;\n",
       "    }\n",
       "</style>\n",
       "<table border=\"1\" class=\"dataframe\">\n",
       "  <thead>\n",
       "    <tr style=\"text-align: right;\">\n",
       "      <th></th>\n",
       "      <th>mean_fit_time</th>\n",
       "      <th>std_fit_time</th>\n",
       "      <th>mean_score_time</th>\n",
       "      <th>std_score_time</th>\n",
       "      <th>param_alpha</th>\n",
       "      <th>params</th>\n",
       "      <th>split0_test_score</th>\n",
       "      <th>split1_test_score</th>\n",
       "      <th>split2_test_score</th>\n",
       "      <th>split3_test_score</th>\n",
       "      <th>split4_test_score</th>\n",
       "      <th>mean_test_score</th>\n",
       "      <th>std_test_score</th>\n",
       "      <th>rank_test_score</th>\n",
       "    </tr>\n",
       "  </thead>\n",
       "  <tbody>\n",
       "    <tr>\n",
       "      <th>0</th>\n",
       "      <td>0.063601</td>\n",
       "      <td>0.009798</td>\n",
       "      <td>0.016519</td>\n",
       "      <td>0.007654</td>\n",
       "      <td>0.1</td>\n",
       "      <td>{'alpha': 0.1}</td>\n",
       "      <td>0.695364</td>\n",
       "      <td>0.691930</td>\n",
       "      <td>0.691947</td>\n",
       "      <td>0.705021</td>\n",
       "      <td>0.707249</td>\n",
       "      <td>0.698302</td>\n",
       "      <td>0.006555</td>\n",
       "      <td>1</td>\n",
       "    </tr>\n",
       "    <tr>\n",
       "      <th>1</th>\n",
       "      <td>0.027166</td>\n",
       "      <td>0.000957</td>\n",
       "      <td>0.007704</td>\n",
       "      <td>0.001051</td>\n",
       "      <td>0.5</td>\n",
       "      <td>{'alpha': 0.5}</td>\n",
       "      <td>0.695355</td>\n",
       "      <td>0.692009</td>\n",
       "      <td>0.691836</td>\n",
       "      <td>0.705030</td>\n",
       "      <td>0.707169</td>\n",
       "      <td>0.698280</td>\n",
       "      <td>0.006542</td>\n",
       "      <td>2</td>\n",
       "    </tr>\n",
       "    <tr>\n",
       "      <th>2</th>\n",
       "      <td>0.025861</td>\n",
       "      <td>0.000832</td>\n",
       "      <td>0.007228</td>\n",
       "      <td>0.000350</td>\n",
       "      <td>1</td>\n",
       "      <td>{'alpha': 1}</td>\n",
       "      <td>0.695315</td>\n",
       "      <td>0.692049</td>\n",
       "      <td>0.691670</td>\n",
       "      <td>0.705007</td>\n",
       "      <td>0.707051</td>\n",
       "      <td>0.698218</td>\n",
       "      <td>0.006534</td>\n",
       "      <td>3</td>\n",
       "    </tr>\n",
       "    <tr>\n",
       "      <th>3</th>\n",
       "      <td>0.025729</td>\n",
       "      <td>0.001266</td>\n",
       "      <td>0.007655</td>\n",
       "      <td>0.001650</td>\n",
       "      <td>5</td>\n",
       "      <td>{'alpha': 5}</td>\n",
       "      <td>0.694768</td>\n",
       "      <td>0.691915</td>\n",
       "      <td>0.690411</td>\n",
       "      <td>0.704410</td>\n",
       "      <td>0.706289</td>\n",
       "      <td>0.697559</td>\n",
       "      <td>0.006540</td>\n",
       "      <td>4</td>\n",
       "    </tr>\n",
       "  </tbody>\n",
       "</table>\n",
       "</div>"
      ],
      "text/plain": [
       "   mean_fit_time  std_fit_time  mean_score_time  std_score_time param_alpha  \\\n",
       "0       0.063601      0.009798         0.016519        0.007654         0.1   \n",
       "1       0.027166      0.000957         0.007704        0.001051         0.5   \n",
       "2       0.025861      0.000832         0.007228        0.000350           1   \n",
       "3       0.025729      0.001266         0.007655        0.001650           5   \n",
       "\n",
       "           params  split0_test_score  split1_test_score  split2_test_score  \\\n",
       "0  {'alpha': 0.1}           0.695364           0.691930           0.691947   \n",
       "1  {'alpha': 0.5}           0.695355           0.692009           0.691836   \n",
       "2    {'alpha': 1}           0.695315           0.692049           0.691670   \n",
       "3    {'alpha': 5}           0.694768           0.691915           0.690411   \n",
       "\n",
       "   split3_test_score  split4_test_score  mean_test_score  std_test_score  \\\n",
       "0           0.705021           0.707249         0.698302        0.006555   \n",
       "1           0.705030           0.707169         0.698280        0.006542   \n",
       "2           0.705007           0.707051         0.698218        0.006534   \n",
       "3           0.704410           0.706289         0.697559        0.006540   \n",
       "\n",
       "   rank_test_score  \n",
       "0                1  \n",
       "1                2  \n",
       "2                3  \n",
       "3                4  "
      ]
     },
     "execution_count": 22,
     "metadata": {},
     "output_type": "execute_result"
    }
   ],
   "source": [
    "# NEW\n",
    "pd.DataFrame(grid.cv_results_)"
   ]
  },
  {
   "cell_type": "code",
   "execution_count": 20,
   "metadata": {},
   "outputs": [
    {
     "data": {
      "text/html": [
       "<div>\n",
       "<style scoped>\n",
       "    .dataframe tbody tr th:only-of-type {\n",
       "        vertical-align: middle;\n",
       "    }\n",
       "\n",
       "    .dataframe tbody tr th {\n",
       "        vertical-align: top;\n",
       "    }\n",
       "\n",
       "    .dataframe thead th {\n",
       "        text-align: right;\n",
       "    }\n",
       "</style>\n",
       "<table border=\"1\" class=\"dataframe\">\n",
       "  <thead>\n",
       "    <tr style=\"text-align: right;\">\n",
       "      <th></th>\n",
       "      <th>mean_fit_time</th>\n",
       "      <th>std_fit_time</th>\n",
       "      <th>mean_score_time</th>\n",
       "      <th>std_score_time</th>\n",
       "      <th>param_alpha</th>\n",
       "      <th>params</th>\n",
       "      <th>split0_test_score</th>\n",
       "      <th>split1_test_score</th>\n",
       "      <th>split2_test_score</th>\n",
       "      <th>split3_test_score</th>\n",
       "      <th>split4_test_score</th>\n",
       "      <th>mean_test_score</th>\n",
       "      <th>std_test_score</th>\n",
       "      <th>rank_test_score</th>\n",
       "    </tr>\n",
       "  </thead>\n",
       "  <tbody>\n",
       "    <tr>\n",
       "      <th>0</th>\n",
       "      <td>17.976443</td>\n",
       "      <td>0.777777</td>\n",
       "      <td>0.067092</td>\n",
       "      <td>0.000760</td>\n",
       "      <td>0.1</td>\n",
       "      <td>{'alpha': 0.1}</td>\n",
       "      <td>0.910856</td>\n",
       "      <td>0.904322</td>\n",
       "      <td>0.910676</td>\n",
       "      <td>0.919341</td>\n",
       "      <td>0.913630</td>\n",
       "      <td>0.911765</td>\n",
       "      <td>0.004864</td>\n",
       "      <td>4</td>\n",
       "    </tr>\n",
       "    <tr>\n",
       "      <th>1</th>\n",
       "      <td>20.338630</td>\n",
       "      <td>1.998034</td>\n",
       "      <td>0.074894</td>\n",
       "      <td>0.009717</td>\n",
       "      <td>0.5</td>\n",
       "      <td>{'alpha': 0.5}</td>\n",
       "      <td>0.914682</td>\n",
       "      <td>0.909642</td>\n",
       "      <td>0.915086</td>\n",
       "      <td>0.925060</td>\n",
       "      <td>0.919231</td>\n",
       "      <td>0.916740</td>\n",
       "      <td>0.005153</td>\n",
       "      <td>3</td>\n",
       "    </tr>\n",
       "    <tr>\n",
       "      <th>2</th>\n",
       "      <td>20.755371</td>\n",
       "      <td>2.236685</td>\n",
       "      <td>0.069936</td>\n",
       "      <td>0.004754</td>\n",
       "      <td>1</td>\n",
       "      <td>{'alpha': 1}</td>\n",
       "      <td>0.916695</td>\n",
       "      <td>0.912185</td>\n",
       "      <td>0.917031</td>\n",
       "      <td>0.927756</td>\n",
       "      <td>0.922132</td>\n",
       "      <td>0.919160</td>\n",
       "      <td>0.005329</td>\n",
       "      <td>2</td>\n",
       "    </tr>\n",
       "    <tr>\n",
       "      <th>3</th>\n",
       "      <td>18.709452</td>\n",
       "      <td>0.739696</td>\n",
       "      <td>0.067896</td>\n",
       "      <td>0.000446</td>\n",
       "      <td>5</td>\n",
       "      <td>{'alpha': 5}</td>\n",
       "      <td>0.920485</td>\n",
       "      <td>0.917341</td>\n",
       "      <td>0.921209</td>\n",
       "      <td>0.933997</td>\n",
       "      <td>0.928148</td>\n",
       "      <td>0.924236</td>\n",
       "      <td>0.006023</td>\n",
       "      <td>1</td>\n",
       "    </tr>\n",
       "  </tbody>\n",
       "</table>\n",
       "</div>"
      ],
      "text/plain": [
       "   mean_fit_time  std_fit_time  mean_score_time  std_score_time param_alpha  \\\n",
       "0      17.976443      0.777777         0.067092        0.000760         0.1   \n",
       "1      20.338630      1.998034         0.074894        0.009717         0.5   \n",
       "2      20.755371      2.236685         0.069936        0.004754           1   \n",
       "3      18.709452      0.739696         0.067896        0.000446           5   \n",
       "\n",
       "           params  split0_test_score  split1_test_score  split2_test_score  \\\n",
       "0  {'alpha': 0.1}           0.910856           0.904322           0.910676   \n",
       "1  {'alpha': 0.5}           0.914682           0.909642           0.915086   \n",
       "2    {'alpha': 1}           0.916695           0.912185           0.917031   \n",
       "3    {'alpha': 5}           0.920485           0.917341           0.921209   \n",
       "\n",
       "   split3_test_score  split4_test_score  mean_test_score  std_test_score  \\\n",
       "0           0.919341           0.913630         0.911765        0.004864   \n",
       "1           0.925060           0.919231         0.916740        0.005153   \n",
       "2           0.927756           0.922132         0.919160        0.005329   \n",
       "3           0.933997           0.928148         0.924236        0.006023   \n",
       "\n",
       "   rank_test_score  \n",
       "0                4  \n",
       "1                3  \n",
       "2                2  \n",
       "3                1  "
      ]
     },
     "execution_count": 20,
     "metadata": {},
     "output_type": "execute_result"
    }
   ],
   "source": [
    "pd.DataFrame(grid.cv_results_)"
   ]
  },
  {
   "cell_type": "code",
   "execution_count": 74,
   "metadata": {},
   "outputs": [
    {
     "data": {
      "text/plain": [
       "<function sklearn.metrics.scorer._passthrough_scorer(estimator, *args, **kwargs)>"
      ]
     },
     "execution_count": 74,
     "metadata": {},
     "output_type": "execute_result"
    }
   ],
   "source": [
    "grid.scorer_"
   ]
  },
  {
   "cell_type": "code",
   "execution_count": null,
   "metadata": {},
   "outputs": [],
   "source": [
    "Calcul de la RMLSE avec : grid.predict(X_test) vs Y_test"
   ]
  },
  {
   "cell_type": "code",
   "execution_count": 23,
   "metadata": {},
   "outputs": [
    {
     "data": {
      "text/plain": [
       "(3266, 1)"
      ]
     },
     "execution_count": 23,
     "metadata": {},
     "output_type": "execute_result"
    }
   ],
   "source": [
    " grid.predict(X_test).shape"
   ]
  },
  {
   "cell_type": "code",
   "execution_count": 77,
   "metadata": {},
   "outputs": [
    {
     "data": {
      "text/plain": [
       "(3266, 1)"
      ]
     },
     "execution_count": 77,
     "metadata": {},
     "output_type": "execute_result"
    }
   ],
   "source": [
    "Y_test.shape"
   ]
  },
  {
   "cell_type": "code",
   "execution_count": null,
   "metadata": {},
   "outputs": [],
   "source": [
    "racine de moyenne sur toutes les observations (log(predict + 1) - log(Y_test + 1))²"
   ]
  },
  {
   "cell_type": "code",
   "execution_count": 78,
   "metadata": {},
   "outputs": [
    {
     "data": {
      "text/plain": [
       "(3266, 1)"
      ]
     },
     "execution_count": 78,
     "metadata": {},
     "output_type": "execute_result"
    }
   ],
   "source": [
    " (grid.predict(X_test) + 1).shape"
   ]
  },
  {
   "cell_type": "code",
   "execution_count": 79,
   "metadata": {},
   "outputs": [
    {
     "data": {
      "text/plain": [
       "(3266, 1)"
      ]
     },
     "execution_count": 79,
     "metadata": {},
     "output_type": "execute_result"
    }
   ],
   "source": [
    "(Y_test + 1).shape"
   ]
  },
  {
   "cell_type": "code",
   "execution_count": 81,
   "metadata": {},
   "outputs": [
    {
     "data": {
      "text/plain": [
       "array([[302.48974262],\n",
       "       [264.1865879 ],\n",
       "       [235.67672459],\n",
       "       ...,\n",
       "       [245.83994175],\n",
       "       [194.88439679],\n",
       "       [157.88829321]])"
      ]
     },
     "execution_count": 81,
     "metadata": {},
     "output_type": "execute_result"
    }
   ],
   "source": [
    "grid.predict(X_test) + 1"
   ]
  },
  {
   "cell_type": "code",
   "execution_count": 88,
   "metadata": {},
   "outputs": [
    {
     "name": "stderr",
     "output_type": "stream",
     "text": [
      "/home/osboxes/anaconda3/envs/data/lib/python3.6/site-packages/ipykernel_launcher.py:1: RuntimeWarning: invalid value encountered in log\n",
      "  \"\"\"Entry point for launching an IPython kernel.\n"
     ]
    },
    {
     "data": {
      "text/plain": [
       "(3266, 1)"
      ]
     },
     "execution_count": 88,
     "metadata": {},
     "output_type": "execute_result"
    }
   ],
   "source": [
    "(np.log(grid.predict(X_test) + 1)).shape"
   ]
  },
  {
   "cell_type": "code",
   "execution_count": 93,
   "metadata": {},
   "outputs": [
    {
     "data": {
      "text/plain": [
       "array([[245],\n",
       "       [240],\n",
       "       [230],\n",
       "       ...,\n",
       "       [ 75],\n",
       "       [ 63],\n",
       "       [173]])"
      ]
     },
     "execution_count": 93,
     "metadata": {},
     "output_type": "execute_result"
    }
   ],
   "source": [
    "Y_test.values + 1"
   ]
  },
  {
   "cell_type": "code",
   "execution_count": 92,
   "metadata": {},
   "outputs": [
    {
     "data": {
      "text/plain": [
       "array([[5.50125821],\n",
       "       [5.48063892],\n",
       "       [5.43807931],\n",
       "       ...,\n",
       "       [4.31748811],\n",
       "       [4.14313473],\n",
       "       [5.15329159]])"
      ]
     },
     "execution_count": 92,
     "metadata": {},
     "output_type": "execute_result"
    }
   ],
   "source": [
    "np.log(Y_test.values + 1)"
   ]
  },
  {
   "cell_type": "code",
   "execution_count": 103,
   "metadata": {},
   "outputs": [
    {
     "data": {
      "text/plain": [
       "(3266, 1)"
      ]
     },
     "execution_count": 103,
     "metadata": {},
     "output_type": "execute_result"
    }
   ],
   "source": [
    "(grid.predict(X_test)).shape"
   ]
  },
  {
   "cell_type": "code",
   "execution_count": 24,
   "metadata": {},
   "outputs": [
    {
     "name": "stdout",
     "output_type": "stream",
     "text": [
      "Valeur négative pour 7\n",
      "-69.47998147228677\n",
      "Valeur négative pour 31\n",
      "-37.036005067237\n",
      "Valeur négative pour 43\n",
      "-39.63597144353142\n",
      "Valeur négative pour 45\n",
      "-65.88381629404327\n",
      "Valeur négative pour 51\n",
      "-16.357072319020418\n",
      "Valeur négative pour 56\n",
      "-101.0251828282561\n",
      "Valeur négative pour 75\n",
      "-48.122519582163136\n",
      "Valeur négative pour 86\n",
      "-107.00925059054461\n",
      "Valeur négative pour 111\n",
      "-49.73967240336884\n",
      "Valeur négative pour 120\n",
      "-30.96678503459978\n",
      "Valeur négative pour 121\n",
      "-19.468136170348757\n",
      "Valeur négative pour 131\n",
      "-67.83866943594225\n",
      "Valeur négative pour 132\n",
      "-38.602693957526924\n",
      "Valeur négative pour 134\n",
      "-5.890341376276368\n",
      "Valeur négative pour 141\n",
      "-0.8825867643487584\n",
      "Valeur négative pour 143\n",
      "-13.9554114873131\n",
      "Valeur négative pour 167\n",
      "-45.74558940926323\n",
      "Valeur négative pour 183\n",
      "-3.336961240635844\n",
      "Valeur négative pour 194\n",
      "-179.45107995018043\n",
      "Valeur négative pour 195\n",
      "-12.413073837972263\n",
      "Valeur négative pour 199\n",
      "-28.669349250604228\n",
      "Valeur négative pour 201\n",
      "-47.10134560056295\n",
      "Valeur négative pour 202\n",
      "-3.025006353753298\n",
      "Valeur négative pour 220\n",
      "-50.7238582186323\n",
      "Valeur négative pour 221\n",
      "-127.15811819440779\n",
      "Valeur négative pour 234\n",
      "-29.544741560114772\n",
      "Valeur négative pour 265\n",
      "-40.81422135527865\n",
      "Valeur négative pour 273\n",
      "-40.21123321073864\n",
      "Valeur négative pour 275\n",
      "-35.7469967971077\n",
      "Valeur négative pour 285\n",
      "-129.99997292337684\n",
      "Valeur négative pour 288\n",
      "-9.18249960766019\n",
      "Valeur négative pour 296\n",
      "-16.65378037621845\n",
      "Valeur négative pour 302\n",
      "-42.68653182652133\n",
      "Valeur négative pour 307\n",
      "-126.7502993937662\n",
      "Valeur négative pour 325\n",
      "-39.51175046305349\n",
      "Valeur négative pour 334\n",
      "-46.284967108683446\n",
      "Valeur négative pour 340\n",
      "-45.21553993041459\n",
      "Valeur négative pour 358\n",
      "-51.23379863626249\n",
      "Valeur négative pour 359\n",
      "-9.584255837940304\n",
      "Valeur négative pour 366\n",
      "-8.792071037918362\n",
      "Valeur négative pour 369\n",
      "-46.771546209144475\n",
      "Valeur négative pour 377\n",
      "-30.289390217083536\n",
      "Valeur négative pour 390\n",
      "-10.219908069409158\n",
      "Valeur négative pour 411\n",
      "-53.31884383216092\n",
      "Valeur négative pour 418\n",
      "-4.336308521327879\n",
      "Valeur négative pour 421\n",
      "-109.82640230526698\n",
      "Valeur négative pour 433\n",
      "-8.697880682910366\n",
      "Valeur négative pour 446\n",
      "-90.0912956123336\n",
      "Valeur négative pour 447\n",
      "-33.20375589366665\n",
      "Valeur négative pour 479\n",
      "-59.13820046336343\n",
      "Valeur négative pour 484\n",
      "-16.674834689225634\n",
      "Valeur négative pour 491\n",
      "-7.84804261577051\n",
      "Valeur négative pour 493\n",
      "-38.94007984278758\n",
      "Valeur négative pour 498\n",
      "-6.201408371027213\n",
      "Valeur négative pour 502\n",
      "-96.90372878328617\n",
      "Valeur négative pour 504\n",
      "-87.39478879710478\n",
      "Valeur négative pour 518\n",
      "-5.817464764008861\n",
      "Valeur négative pour 521\n",
      "-156.0526520912144\n",
      "Valeur négative pour 525\n",
      "-105.57880907126375\n",
      "Valeur négative pour 543\n",
      "-67.17041008407554\n",
      "Valeur négative pour 547\n",
      "-42.62817732429727\n",
      "Valeur négative pour 562\n",
      "-92.03108690616483\n",
      "Valeur négative pour 575\n",
      "-11.601262018059032\n",
      "Valeur négative pour 581\n",
      "-35.5522918084381\n",
      "Valeur négative pour 586\n",
      "-31.841175658241042\n",
      "Valeur négative pour 587\n",
      "-159.38349563447943\n",
      "Valeur négative pour 589\n",
      "-17.17596998403488\n",
      "Valeur négative pour 601\n",
      "-89.62547027954909\n",
      "Valeur négative pour 614\n",
      "-11.035062952764093\n",
      "Valeur négative pour 628\n",
      "-40.17817735951968\n",
      "Valeur négative pour 639\n",
      "-28.123243628444357\n",
      "Valeur négative pour 640\n",
      "-41.90217112322614\n",
      "Valeur négative pour 646\n",
      "-73.32409079434635\n",
      "Valeur négative pour 653\n",
      "-35.652791554460606\n",
      "Valeur négative pour 656\n",
      "-24.546040400973197\n",
      "Valeur négative pour 666\n",
      "-149.06323882677455\n",
      "Valeur négative pour 669\n",
      "-4.4588401572970895\n",
      "Valeur négative pour 672\n",
      "-33.809565758686176\n",
      "Valeur négative pour 676\n",
      "-37.94566203177126\n",
      "Valeur négative pour 679\n",
      "-115.29044223099194\n",
      "Valeur négative pour 692\n",
      "-86.7042918421306\n",
      "Valeur négative pour 698\n",
      "-21.248609906384402\n",
      "Valeur négative pour 704\n",
      "-63.773143644331185\n",
      "Valeur négative pour 719\n",
      "-138.7264300978578\n",
      "Valeur négative pour 721\n",
      "-16.004888462743082\n",
      "Valeur négative pour 723\n",
      "-1.5890016311681165\n",
      "Valeur négative pour 725\n",
      "-5.6718695109500175\n",
      "Valeur négative pour 726\n",
      "-8.59277928482993\n",
      "Valeur négative pour 755\n",
      "-10.086708725979676\n",
      "Valeur négative pour 756\n",
      "-71.7977992654697\n",
      "Valeur négative pour 758\n",
      "-78.33210635509909\n",
      "Valeur négative pour 761\n",
      "-8.901580271753062\n",
      "Valeur négative pour 764\n",
      "-63.269291622964715\n",
      "Valeur négative pour 766\n",
      "-77.7954935654655\n",
      "Valeur négative pour 780\n",
      "-10.313937268482277\n",
      "Valeur négative pour 784\n",
      "-10.020332706977825\n",
      "Valeur négative pour 794\n",
      "-38.3271057658834\n",
      "Valeur négative pour 817\n",
      "-4.426828496132771\n",
      "Valeur négative pour 825\n",
      "-45.75382930704123\n",
      "Valeur négative pour 831\n",
      "-46.82195579531361\n",
      "Valeur négative pour 842\n",
      "-82.54613778309431\n",
      "Valeur négative pour 850\n",
      "-9.88459980808723\n",
      "Valeur négative pour 852\n",
      "-19.620648152777136\n",
      "Valeur négative pour 863\n",
      "-22.770028439332208\n",
      "Valeur négative pour 867\n",
      "-21.716603830881056\n",
      "Valeur négative pour 868\n",
      "-76.84547019957208\n",
      "Valeur négative pour 877\n",
      "-80.57501912241082\n",
      "Valeur négative pour 879\n",
      "-26.396250698582236\n",
      "Valeur négative pour 906\n",
      "-11.001999276336136\n",
      "Valeur négative pour 917\n",
      "-13.896384861582959\n",
      "Valeur négative pour 924\n",
      "-22.097773589162884\n",
      "Valeur négative pour 935\n",
      "-147.88482347032252\n",
      "Valeur négative pour 937\n",
      "-35.46429210559694\n",
      "Valeur négative pour 949\n",
      "-36.69140147985573\n",
      "Valeur négative pour 950\n",
      "-26.531947304661657\n",
      "Valeur négative pour 978\n",
      "-19.537244508439144\n",
      "Valeur négative pour 982\n",
      "-33.94185168007991\n",
      "Valeur négative pour 985\n",
      "-45.549128895765705\n",
      "Valeur négative pour 991\n",
      "-50.67929501044006\n",
      "Valeur négative pour 994\n",
      "-5.694953118431798\n",
      "Valeur négative pour 1008\n",
      "-85.65074623797562\n",
      "Valeur négative pour 1016\n",
      "-83.02310321263278\n",
      "Valeur négative pour 1035\n",
      "-108.4181321639308\n",
      "Valeur négative pour 1037\n",
      "-53.70431604101512\n",
      "Valeur négative pour 1048\n",
      "-112.01768505459111\n",
      "Valeur négative pour 1049\n",
      "-10.962403699202412\n",
      "Valeur négative pour 1055\n",
      "-26.00596651717116\n",
      "Valeur négative pour 1068\n",
      "-60.05369458801681\n",
      "Valeur négative pour 1078\n",
      "-44.4649388383375\n",
      "Valeur négative pour 1097\n",
      "-10.823311909525685\n",
      "Valeur négative pour 1110\n",
      "-69.84645959337789\n",
      "Valeur négative pour 1122\n",
      "-52.09091650341165\n",
      "Valeur négative pour 1142\n",
      "-40.09223023440464\n",
      "Valeur négative pour 1149\n",
      "-112.08505408500784\n",
      "Valeur négative pour 1170\n",
      "-13.517758705887928\n",
      "Valeur négative pour 1171\n",
      "-125.88596114732499\n",
      "Valeur négative pour 1173\n",
      "-115.4213038106337\n",
      "Valeur négative pour 1174\n",
      "-23.693030535922276\n",
      "Valeur négative pour 1176\n",
      "-29.094147223639624\n",
      "Valeur négative pour 1186\n",
      "-11.562826981442356\n",
      "Valeur négative pour 1194\n",
      "-17.70331103296337\n",
      "Valeur négative pour 1231\n",
      "-154.72142053697436\n",
      "Valeur négative pour 1270\n",
      "-68.62040066009018\n",
      "Valeur négative pour 1279\n",
      "-5.21471153232352\n",
      "Valeur négative pour 1284\n",
      "-0.41907432947306233\n",
      "Valeur négative pour 1290\n",
      "-11.51743809101393\n",
      "Valeur négative pour 1292\n",
      "-28.19992378095735\n",
      "Valeur négative pour 1293\n",
      "-49.927547606930716\n",
      "Valeur négative pour 1308\n",
      "-19.583456145519534\n",
      "Valeur négative pour 1309\n",
      "-43.80755826418536\n",
      "Valeur négative pour 1311\n",
      "-4.343889416934104\n",
      "Valeur négative pour 1316\n",
      "-86.68687505080325\n",
      "Valeur négative pour 1322\n",
      "-66.5861868826587\n",
      "Valeur négative pour 1331\n",
      "-148.57159535156393\n",
      "Valeur négative pour 1342\n",
      "-11.737210082783562\n",
      "Valeur négative pour 1350\n",
      "-56.07110895095619\n",
      "Valeur négative pour 1361\n",
      "-4.050915772793715\n",
      "Valeur négative pour 1371\n",
      "-101.21014576577076\n",
      "Valeur négative pour 1382\n",
      "-38.64722010986213\n",
      "Valeur négative pour 1391\n",
      "-82.57963694093615\n",
      "Valeur négative pour 1396\n",
      "-36.594063042553074\n",
      "Valeur négative pour 1407\n",
      "-96.30855003111014\n",
      "Valeur négative pour 1423\n",
      "-65.12775722486128\n",
      "Valeur négative pour 1436\n",
      "-107.25147432544495\n",
      "Valeur négative pour 1439\n",
      "-13.564769829754326\n",
      "Valeur négative pour 1443\n",
      "-31.36483030861214\n",
      "Valeur négative pour 1465\n",
      "-101.90256126566334\n",
      "Valeur négative pour 1471\n",
      "-29.888740160552146\n",
      "Valeur négative pour 1474\n",
      "-77.76326780085432\n",
      "Valeur négative pour 1505\n",
      "-19.42486196338541\n",
      "Valeur négative pour 1561\n",
      "-64.08932051942702\n",
      "Valeur négative pour 1562\n",
      "-16.290473631415466\n",
      "Valeur négative pour 1567\n",
      "-39.92401570529424\n",
      "Valeur négative pour 1569\n",
      "-131.24213237426585\n",
      "Valeur négative pour 1571\n",
      "-196.1701048775342\n",
      "Valeur négative pour 1589\n",
      "-110.92940441144671\n",
      "Valeur négative pour 1592\n",
      "-82.63852333758368\n",
      "Valeur négative pour 1608\n",
      "-97.98609541271614\n",
      "Valeur négative pour 1623\n",
      "-47.681343010129325\n",
      "Valeur négative pour 1627\n",
      "-46.69650096552854\n",
      "Valeur négative pour 1628\n",
      "-51.64943555905185\n",
      "Valeur négative pour 1629\n",
      "-19.457311518305886\n",
      "Valeur négative pour 1640\n",
      "-14.003064168826427\n",
      "Valeur négative pour 1650\n",
      "-99.8595975601057\n",
      "Valeur négative pour 1662\n",
      "-18.571929685366086\n",
      "Valeur négative pour 1676\n",
      "-8.425699474297616\n",
      "Valeur négative pour 1685\n",
      "-92.304597978759\n",
      "Valeur négative pour 1707\n",
      "-51.72351563890581\n",
      "Valeur négative pour 1718\n",
      "-140.4872697707102\n",
      "Valeur négative pour 1722\n",
      "-53.93449775489822\n",
      "Valeur négative pour 1725\n",
      "-21.514049615300152\n",
      "Valeur négative pour 1743\n",
      "-52.69887466536403\n",
      "Valeur négative pour 1747\n",
      "-64.54797257033374\n",
      "Valeur négative pour 1748\n",
      "-32.14138867950925\n",
      "Valeur négative pour 1749\n",
      "-10.215737959814675\n",
      "Valeur négative pour 1756\n",
      "-33.46046505973524\n",
      "Valeur négative pour 1759\n",
      "-19.406360936255226\n",
      "Valeur négative pour 1770\n",
      "-3.541460062334437\n",
      "Valeur négative pour 1790\n",
      "-25.443449347678552\n",
      "Valeur négative pour 1793\n",
      "-41.25649174259914\n",
      "Valeur négative pour 1802\n",
      "-10.13993774915474\n",
      "Valeur négative pour 1809\n",
      "-20.394918227536465\n",
      "Valeur négative pour 1820\n",
      "-2.4385847004827497\n",
      "Valeur négative pour 1830\n",
      "-37.45917542471378\n",
      "Valeur négative pour 1831\n",
      "-170.6131629306749\n",
      "Valeur négative pour 1855\n",
      "-77.37240820122256\n",
      "Valeur négative pour 1860\n",
      "-22.749928313995156\n",
      "Valeur négative pour 1876\n",
      "-30.655909465075496\n",
      "Valeur négative pour 1882\n",
      "-55.64025627880628\n",
      "Valeur négative pour 1885\n",
      "-4.332995799610671\n",
      "Valeur négative pour 1901\n",
      "-111.02501821707477\n",
      "Valeur négative pour 1912\n",
      "-29.3227349783364\n",
      "Valeur négative pour 1921\n",
      "-16.282773525865736\n",
      "Valeur négative pour 1925\n",
      "-82.3036594649241\n",
      "Valeur négative pour 1938\n",
      "-17.271422245347367\n",
      "Valeur négative pour 1942\n",
      "-8.36640750415394\n",
      "Valeur négative pour 1995\n",
      "-4.74308475309698\n",
      "Valeur négative pour 2016\n",
      "-120.43550528962828\n",
      "Valeur négative pour 2019\n",
      "-42.43471899868274\n",
      "Valeur négative pour 2023\n",
      "-27.212318207909846\n",
      "Valeur négative pour 2055\n",
      "-140.53569040813989\n",
      "Valeur négative pour 2064\n",
      "-26.532623341451085\n",
      "Valeur négative pour 2083\n",
      "-5.585305063322409\n",
      "Valeur négative pour 2092\n",
      "-95.4774805313505\n",
      "Valeur négative pour 2102\n",
      "-6.701545342511523\n",
      "Valeur négative pour 2104\n",
      "-32.65916722691978\n",
      "Valeur négative pour 2105\n",
      "-34.18725276595157\n",
      "Valeur négative pour 2116\n",
      "-38.78786190270725\n",
      "Valeur négative pour 2137\n",
      "-7.116813998481135\n",
      "Valeur négative pour 2150\n",
      "-96.38753787218516\n",
      "Valeur négative pour 2154\n",
      "-1.3189754996876388\n",
      "Valeur négative pour 2161\n",
      "-8.516018589261108\n",
      "Valeur négative pour 2172\n",
      "-11.083901003459843\n",
      "Valeur négative pour 2174\n",
      "-14.791520184005918\n",
      "Valeur négative pour 2182\n",
      "-4.954076195910673\n",
      "Valeur négative pour 2202\n",
      "-20.796928835871753\n",
      "Valeur négative pour 2219\n",
      "-96.62672408229068\n",
      "Valeur négative pour 2230\n",
      "-17.804562336298233\n",
      "Valeur négative pour 2233\n",
      "-105.88027361363825\n",
      "Valeur négative pour 2267\n",
      "-80.08539406045972\n",
      "Valeur négative pour 2270\n",
      "-178.78175776303226\n",
      "Valeur négative pour 2289\n",
      "-7.698435076685811\n",
      "Valeur négative pour 2294\n",
      "-72.3014021933941\n",
      "Valeur négative pour 2301\n",
      "-2.1924550107632257\n",
      "Valeur négative pour 2315\n",
      "-24.687493125917413\n",
      "Valeur négative pour 2319\n",
      "-134.55745891284502\n",
      "Valeur négative pour 2329\n",
      "-26.59594834670935\n",
      "Valeur négative pour 2330\n",
      "-19.608591764865793\n",
      "Valeur négative pour 2331\n",
      "-51.51158275329925\n",
      "Valeur négative pour 2335\n",
      "-4.6822292287517655\n",
      "Valeur négative pour 2357\n",
      "-87.46217942415024\n",
      "Valeur négative pour 2365\n",
      "-80.67808273142643\n",
      "Valeur négative pour 2367\n",
      "-116.4572881910203\n",
      "Valeur négative pour 2371\n",
      "-37.576785676466244\n",
      "Valeur négative pour 2392\n",
      "-30.456677826359893\n",
      "Valeur négative pour 2404\n",
      "-37.18515721395784\n",
      "Valeur négative pour 2413\n",
      "-78.41391611267315\n",
      "Valeur négative pour 2416\n",
      "-33.614093468295636\n",
      "Valeur négative pour 2421\n",
      "-14.206542462289761\n",
      "Valeur négative pour 2422\n",
      "-4.558416518168173\n",
      "Valeur négative pour 2426\n",
      "-35.733116197609235\n",
      "Valeur négative pour 2430\n",
      "-41.493559802259995\n",
      "Valeur négative pour 2448\n",
      "-12.409921525209015\n",
      "Valeur négative pour 2451\n",
      "-79.67127087185065\n",
      "Valeur négative pour 2481\n",
      "-58.423977279554435\n",
      "Valeur négative pour 2485\n",
      "-49.65161618381447\n",
      "Valeur négative pour 2495\n",
      "-1.389493167204165\n",
      "Valeur négative pour 2516\n",
      "-65.54617540581151\n",
      "Valeur négative pour 2521\n",
      "-64.68949991512469\n",
      "Valeur négative pour 2522\n",
      "-120.15416372100427\n",
      "Valeur négative pour 2527\n",
      "-137.23450832886573\n",
      "Valeur négative pour 2541\n",
      "-9.988963709044427\n",
      "Valeur négative pour 2547\n",
      "-137.6557885221657\n",
      "Valeur négative pour 2556\n",
      "-9.316379838737575\n",
      "Valeur négative pour 2575\n",
      "-31.09590245736058\n",
      "Valeur négative pour 2587\n",
      "-92.63500007577483\n",
      "Valeur négative pour 2627\n",
      "-136.70033827182868\n",
      "Valeur négative pour 2629\n",
      "-94.7380585829718\n",
      "Valeur négative pour 2631\n",
      "-87.84901688780369\n",
      "Valeur négative pour 2646\n",
      "-98.11938253233234\n",
      "Valeur négative pour 2647\n",
      "-15.133393128491065\n",
      "Valeur négative pour 2648\n",
      "-14.64219615488284\n",
      "Valeur négative pour 2651\n",
      "-35.4682676491141\n",
      "Valeur négative pour 2652\n",
      "-122.94278436232696\n",
      "Valeur négative pour 2654\n",
      "-71.25067581360432\n",
      "Valeur négative pour 2662\n",
      "-113.2488052618751\n",
      "Valeur négative pour 2663\n",
      "-70.9124332705546\n",
      "Valeur négative pour 2667\n",
      "-25.79155938576872\n",
      "Valeur négative pour 2668\n",
      "-29.624437710336892\n",
      "Valeur négative pour 2674\n",
      "-157.8640188545675\n",
      "Valeur négative pour 2681\n",
      "-34.440808670746435\n",
      "Valeur négative pour 2690\n",
      "-124.49064044321392\n",
      "Valeur négative pour 2700\n",
      "-0.2362885080159174\n",
      "Valeur négative pour 2739\n",
      "-4.013634736779636\n",
      "Valeur négative pour 2741\n",
      "-95.39759982333769\n",
      "Valeur négative pour 2743\n",
      "-8.477916571937243\n",
      "Valeur négative pour 2754\n",
      "-79.8490520716579\n",
      "Valeur négative pour 2756\n",
      "-36.263953761498186\n",
      "Valeur négative pour 2757\n",
      "-12.232999108673738\n",
      "Valeur négative pour 2774\n",
      "-25.305571848143785\n",
      "Valeur négative pour 2778\n",
      "-5.849999289640749\n",
      "Valeur négative pour 2784\n",
      "-14.757485599097706\n",
      "Valeur négative pour 2794\n",
      "-164.89653118391294\n",
      "Valeur négative pour 2804\n",
      "-29.62749402676532\n",
      "Valeur négative pour 2810\n",
      "-13.912063383923964\n",
      "Valeur négative pour 2826\n",
      "-9.435354545849194\n",
      "Valeur négative pour 2832\n",
      "-57.14273700679698\n",
      "Valeur négative pour 2846\n",
      "-22.370266250736577\n",
      "Valeur négative pour 2900\n",
      "-6.3542336198796505\n",
      "Valeur négative pour 2904\n",
      "-18.3007840992137\n",
      "Valeur négative pour 2911\n",
      "-4.46762461839856\n",
      "Valeur négative pour 2913\n",
      "-47.76154170106577\n",
      "Valeur négative pour 2925\n",
      "-41.58392932412062\n",
      "Valeur négative pour 2930\n",
      "-34.8210041801095\n",
      "Valeur négative pour 2933\n",
      "-24.173224936166605\n"
     ]
    },
    {
     "ename": "KeyboardInterrupt",
     "evalue": "",
     "output_type": "error",
     "traceback": [
      "\u001b[0;31m---------------------------------------------------------------------------\u001b[0m",
      "\u001b[0;31mKeyboardInterrupt\u001b[0m                         Traceback (most recent call last)",
      "\u001b[0;32m<ipython-input-24-2010988e9c08>\u001b[0m in \u001b[0;36m<module>\u001b[0;34m\u001b[0m\n\u001b[1;32m      1\u001b[0m \u001b[0;32mfor\u001b[0m \u001b[0mi\u001b[0m \u001b[0;32min\u001b[0m \u001b[0mrange\u001b[0m\u001b[0;34m(\u001b[0m\u001b[0;36m0\u001b[0m\u001b[0;34m,\u001b[0m\u001b[0;34m(\u001b[0m\u001b[0mgrid\u001b[0m\u001b[0;34m.\u001b[0m\u001b[0mpredict\u001b[0m\u001b[0;34m(\u001b[0m\u001b[0mX_test\u001b[0m\u001b[0;34m)\u001b[0m\u001b[0;34m)\u001b[0m\u001b[0;34m.\u001b[0m\u001b[0mshape\u001b[0m\u001b[0;34m[\u001b[0m\u001b[0;36m0\u001b[0m\u001b[0;34m]\u001b[0m\u001b[0;34m)\u001b[0m\u001b[0;34m:\u001b[0m\u001b[0;34m\u001b[0m\u001b[0;34m\u001b[0m\u001b[0m\n\u001b[0;32m----> 2\u001b[0;31m     \u001b[0;32mif\u001b[0m \u001b[0mgrid\u001b[0m\u001b[0;34m.\u001b[0m\u001b[0mpredict\u001b[0m\u001b[0;34m(\u001b[0m\u001b[0mX_test\u001b[0m\u001b[0;34m)\u001b[0m\u001b[0;34m[\u001b[0m\u001b[0mi\u001b[0m\u001b[0;34m]\u001b[0m\u001b[0;34m[\u001b[0m\u001b[0;36m0\u001b[0m\u001b[0;34m]\u001b[0m \u001b[0;34m<\u001b[0m \u001b[0;36m0\u001b[0m\u001b[0;34m:\u001b[0m\u001b[0;34m\u001b[0m\u001b[0;34m\u001b[0m\u001b[0m\n\u001b[0m\u001b[1;32m      3\u001b[0m         \u001b[0mprint\u001b[0m \u001b[0;34m(\u001b[0m\u001b[0;34m\"Valeur négative pour\"\u001b[0m\u001b[0;34m,\u001b[0m \u001b[0mi\u001b[0m\u001b[0;34m)\u001b[0m\u001b[0;34m\u001b[0m\u001b[0;34m\u001b[0m\u001b[0m\n\u001b[1;32m      4\u001b[0m         \u001b[0mprint\u001b[0m \u001b[0;34m(\u001b[0m\u001b[0mgrid\u001b[0m\u001b[0;34m.\u001b[0m\u001b[0mpredict\u001b[0m\u001b[0;34m(\u001b[0m\u001b[0mX_test\u001b[0m\u001b[0;34m)\u001b[0m\u001b[0;34m[\u001b[0m\u001b[0mi\u001b[0m\u001b[0;34m]\u001b[0m\u001b[0;34m[\u001b[0m\u001b[0;36m0\u001b[0m\u001b[0;34m]\u001b[0m\u001b[0;34m)\u001b[0m\u001b[0;34m\u001b[0m\u001b[0;34m\u001b[0m\u001b[0m\n",
      "\u001b[0;32m~/anaconda3/envs/data/lib/python3.6/site-packages/sklearn/utils/metaestimators.py\u001b[0m in \u001b[0;36m<lambda>\u001b[0;34m(*args, **kwargs)\u001b[0m\n\u001b[1;32m    114\u001b[0m \u001b[0;34m\u001b[0m\u001b[0m\n\u001b[1;32m    115\u001b[0m         \u001b[0;31m# lambda, but not partial, allows help() to work with update_wrapper\u001b[0m\u001b[0;34m\u001b[0m\u001b[0;34m\u001b[0m\u001b[0;34m\u001b[0m\u001b[0m\n\u001b[0;32m--> 116\u001b[0;31m         \u001b[0mout\u001b[0m \u001b[0;34m=\u001b[0m \u001b[0;32mlambda\u001b[0m \u001b[0;34m*\u001b[0m\u001b[0margs\u001b[0m\u001b[0;34m,\u001b[0m \u001b[0;34m**\u001b[0m\u001b[0mkwargs\u001b[0m\u001b[0;34m:\u001b[0m \u001b[0mself\u001b[0m\u001b[0;34m.\u001b[0m\u001b[0mfn\u001b[0m\u001b[0;34m(\u001b[0m\u001b[0mobj\u001b[0m\u001b[0;34m,\u001b[0m \u001b[0;34m*\u001b[0m\u001b[0margs\u001b[0m\u001b[0;34m,\u001b[0m \u001b[0;34m**\u001b[0m\u001b[0mkwargs\u001b[0m\u001b[0;34m)\u001b[0m\u001b[0;34m\u001b[0m\u001b[0;34m\u001b[0m\u001b[0m\n\u001b[0m\u001b[1;32m    117\u001b[0m         \u001b[0;31m# update the docstring of the returned function\u001b[0m\u001b[0;34m\u001b[0m\u001b[0;34m\u001b[0m\u001b[0;34m\u001b[0m\u001b[0m\n\u001b[1;32m    118\u001b[0m         \u001b[0mupdate_wrapper\u001b[0m\u001b[0;34m(\u001b[0m\u001b[0mout\u001b[0m\u001b[0;34m,\u001b[0m \u001b[0mself\u001b[0m\u001b[0;34m.\u001b[0m\u001b[0mfn\u001b[0m\u001b[0;34m)\u001b[0m\u001b[0;34m\u001b[0m\u001b[0;34m\u001b[0m\u001b[0m\n",
      "\u001b[0;32m~/anaconda3/envs/data/lib/python3.6/site-packages/sklearn/model_selection/_search.py\u001b[0m in \u001b[0;36mpredict\u001b[0;34m(self, X)\u001b[0m\n\u001b[1;32m    455\u001b[0m         \"\"\"\n\u001b[1;32m    456\u001b[0m         \u001b[0mself\u001b[0m\u001b[0;34m.\u001b[0m\u001b[0m_check_is_fitted\u001b[0m\u001b[0;34m(\u001b[0m\u001b[0;34m'predict'\u001b[0m\u001b[0;34m)\u001b[0m\u001b[0;34m\u001b[0m\u001b[0;34m\u001b[0m\u001b[0m\n\u001b[0;32m--> 457\u001b[0;31m         \u001b[0;32mreturn\u001b[0m \u001b[0mself\u001b[0m\u001b[0;34m.\u001b[0m\u001b[0mbest_estimator_\u001b[0m\u001b[0;34m.\u001b[0m\u001b[0mpredict\u001b[0m\u001b[0;34m(\u001b[0m\u001b[0mX\u001b[0m\u001b[0;34m)\u001b[0m\u001b[0;34m\u001b[0m\u001b[0;34m\u001b[0m\u001b[0m\n\u001b[0m\u001b[1;32m    458\u001b[0m \u001b[0;34m\u001b[0m\u001b[0m\n\u001b[1;32m    459\u001b[0m     \u001b[0;34m@\u001b[0m\u001b[0mif_delegate_has_method\u001b[0m\u001b[0;34m(\u001b[0m\u001b[0mdelegate\u001b[0m\u001b[0;34m=\u001b[0m\u001b[0;34m(\u001b[0m\u001b[0;34m'best_estimator_'\u001b[0m\u001b[0;34m,\u001b[0m \u001b[0;34m'estimator'\u001b[0m\u001b[0;34m)\u001b[0m\u001b[0;34m)\u001b[0m\u001b[0;34m\u001b[0m\u001b[0;34m\u001b[0m\u001b[0m\n",
      "\u001b[0;32m~/anaconda3/envs/data/lib/python3.6/site-packages/sklearn/linear_model/base.py\u001b[0m in \u001b[0;36mpredict\u001b[0;34m(self, X)\u001b[0m\n\u001b[1;32m    219\u001b[0m             \u001b[0mReturns\u001b[0m \u001b[0mpredicted\u001b[0m \u001b[0mvalues\u001b[0m\u001b[0;34m.\u001b[0m\u001b[0;34m\u001b[0m\u001b[0;34m\u001b[0m\u001b[0m\n\u001b[1;32m    220\u001b[0m         \"\"\"\n\u001b[0;32m--> 221\u001b[0;31m         \u001b[0;32mreturn\u001b[0m \u001b[0mself\u001b[0m\u001b[0;34m.\u001b[0m\u001b[0m_decision_function\u001b[0m\u001b[0;34m(\u001b[0m\u001b[0mX\u001b[0m\u001b[0;34m)\u001b[0m\u001b[0;34m\u001b[0m\u001b[0;34m\u001b[0m\u001b[0m\n\u001b[0m\u001b[1;32m    222\u001b[0m \u001b[0;34m\u001b[0m\u001b[0m\n\u001b[1;32m    223\u001b[0m     \u001b[0m_preprocess_data\u001b[0m \u001b[0;34m=\u001b[0m \u001b[0mstaticmethod\u001b[0m\u001b[0;34m(\u001b[0m\u001b[0m_preprocess_data\u001b[0m\u001b[0;34m)\u001b[0m\u001b[0;34m\u001b[0m\u001b[0;34m\u001b[0m\u001b[0m\n",
      "\u001b[0;32m~/anaconda3/envs/data/lib/python3.6/site-packages/sklearn/linear_model/base.py\u001b[0m in \u001b[0;36m_decision_function\u001b[0;34m(self, X)\u001b[0m\n\u001b[1;32m    202\u001b[0m         \u001b[0mcheck_is_fitted\u001b[0m\u001b[0;34m(\u001b[0m\u001b[0mself\u001b[0m\u001b[0;34m,\u001b[0m \u001b[0;34m\"coef_\"\u001b[0m\u001b[0;34m)\u001b[0m\u001b[0;34m\u001b[0m\u001b[0;34m\u001b[0m\u001b[0m\n\u001b[1;32m    203\u001b[0m \u001b[0;34m\u001b[0m\u001b[0m\n\u001b[0;32m--> 204\u001b[0;31m         \u001b[0mX\u001b[0m \u001b[0;34m=\u001b[0m \u001b[0mcheck_array\u001b[0m\u001b[0;34m(\u001b[0m\u001b[0mX\u001b[0m\u001b[0;34m,\u001b[0m \u001b[0maccept_sparse\u001b[0m\u001b[0;34m=\u001b[0m\u001b[0;34m[\u001b[0m\u001b[0;34m'csr'\u001b[0m\u001b[0;34m,\u001b[0m \u001b[0;34m'csc'\u001b[0m\u001b[0;34m,\u001b[0m \u001b[0;34m'coo'\u001b[0m\u001b[0;34m]\u001b[0m\u001b[0;34m)\u001b[0m\u001b[0;34m\u001b[0m\u001b[0;34m\u001b[0m\u001b[0m\n\u001b[0m\u001b[1;32m    205\u001b[0m         return safe_sparse_dot(X, self.coef_.T,\n\u001b[1;32m    206\u001b[0m                                dense_output=True) + self.intercept_\n",
      "\u001b[0;32m~/anaconda3/envs/data/lib/python3.6/site-packages/sklearn/utils/validation.py\u001b[0m in \u001b[0;36mcheck_array\u001b[0;34m(array, accept_sparse, accept_large_sparse, dtype, order, copy, force_all_finite, ensure_2d, allow_nd, ensure_min_samples, ensure_min_features, warn_on_dtype, estimator)\u001b[0m\n\u001b[1;32m    447\u001b[0m     \u001b[0;31m# DataFrame), and store them. If not, store None.\u001b[0m\u001b[0;34m\u001b[0m\u001b[0;34m\u001b[0m\u001b[0;34m\u001b[0m\u001b[0m\n\u001b[1;32m    448\u001b[0m     \u001b[0mdtypes_orig\u001b[0m \u001b[0;34m=\u001b[0m \u001b[0;32mNone\u001b[0m\u001b[0;34m\u001b[0m\u001b[0;34m\u001b[0m\u001b[0m\n\u001b[0;32m--> 449\u001b[0;31m     \u001b[0;32mif\u001b[0m \u001b[0mhasattr\u001b[0m\u001b[0;34m(\u001b[0m\u001b[0marray\u001b[0m\u001b[0;34m,\u001b[0m \u001b[0;34m\"dtypes\"\u001b[0m\u001b[0;34m)\u001b[0m \u001b[0;32mand\u001b[0m \u001b[0mhasattr\u001b[0m\u001b[0;34m(\u001b[0m\u001b[0marray\u001b[0m\u001b[0;34m.\u001b[0m\u001b[0mdtypes\u001b[0m\u001b[0;34m,\u001b[0m \u001b[0;34m'__array__'\u001b[0m\u001b[0;34m)\u001b[0m\u001b[0;34m:\u001b[0m\u001b[0;34m\u001b[0m\u001b[0;34m\u001b[0m\u001b[0m\n\u001b[0m\u001b[1;32m    450\u001b[0m         \u001b[0mdtypes_orig\u001b[0m \u001b[0;34m=\u001b[0m \u001b[0mnp\u001b[0m\u001b[0;34m.\u001b[0m\u001b[0marray\u001b[0m\u001b[0;34m(\u001b[0m\u001b[0marray\u001b[0m\u001b[0;34m.\u001b[0m\u001b[0mdtypes\u001b[0m\u001b[0;34m)\u001b[0m\u001b[0;34m\u001b[0m\u001b[0;34m\u001b[0m\u001b[0m\n\u001b[1;32m    451\u001b[0m \u001b[0;34m\u001b[0m\u001b[0m\n",
      "\u001b[0;32m~/anaconda3/envs/data/lib/python3.6/site-packages/pandas/core/generic.py\u001b[0m in \u001b[0;36mdtypes\u001b[0;34m(self)\u001b[0m\n\u001b[1;32m   5488\u001b[0m         \"\"\"\n\u001b[1;32m   5489\u001b[0m         \u001b[0;32mfrom\u001b[0m \u001b[0mpandas\u001b[0m \u001b[0;32mimport\u001b[0m \u001b[0mSeries\u001b[0m\u001b[0;34m\u001b[0m\u001b[0;34m\u001b[0m\u001b[0m\n\u001b[0;32m-> 5490\u001b[0;31m         return Series(self._data.get_dtypes(), index=self._info_axis,\n\u001b[0m\u001b[1;32m   5491\u001b[0m                       dtype=np.object_)\n\u001b[1;32m   5492\u001b[0m \u001b[0;34m\u001b[0m\u001b[0m\n",
      "\u001b[0;32m~/anaconda3/envs/data/lib/python3.6/site-packages/pandas/core/internals/managers.py\u001b[0m in \u001b[0;36mget_dtypes\u001b[0;34m(self)\u001b[0m\n\u001b[1;32m    225\u001b[0m     \u001b[0;32mdef\u001b[0m \u001b[0mget_dtypes\u001b[0m\u001b[0;34m(\u001b[0m\u001b[0mself\u001b[0m\u001b[0;34m)\u001b[0m\u001b[0;34m:\u001b[0m\u001b[0;34m\u001b[0m\u001b[0;34m\u001b[0m\u001b[0m\n\u001b[1;32m    226\u001b[0m         \u001b[0mdtypes\u001b[0m \u001b[0;34m=\u001b[0m \u001b[0mnp\u001b[0m\u001b[0;34m.\u001b[0m\u001b[0marray\u001b[0m\u001b[0;34m(\u001b[0m\u001b[0;34m[\u001b[0m\u001b[0mblk\u001b[0m\u001b[0;34m.\u001b[0m\u001b[0mdtype\u001b[0m \u001b[0;32mfor\u001b[0m \u001b[0mblk\u001b[0m \u001b[0;32min\u001b[0m \u001b[0mself\u001b[0m\u001b[0;34m.\u001b[0m\u001b[0mblocks\u001b[0m\u001b[0;34m]\u001b[0m\u001b[0;34m)\u001b[0m\u001b[0;34m\u001b[0m\u001b[0;34m\u001b[0m\u001b[0m\n\u001b[0;32m--> 227\u001b[0;31m         \u001b[0;32mreturn\u001b[0m \u001b[0malgos\u001b[0m\u001b[0;34m.\u001b[0m\u001b[0mtake_1d\u001b[0m\u001b[0;34m(\u001b[0m\u001b[0mdtypes\u001b[0m\u001b[0;34m,\u001b[0m \u001b[0mself\u001b[0m\u001b[0;34m.\u001b[0m\u001b[0m_blknos\u001b[0m\u001b[0;34m,\u001b[0m \u001b[0mallow_fill\u001b[0m\u001b[0;34m=\u001b[0m\u001b[0;32mFalse\u001b[0m\u001b[0;34m)\u001b[0m\u001b[0;34m\u001b[0m\u001b[0;34m\u001b[0m\u001b[0m\n\u001b[0m\u001b[1;32m    228\u001b[0m \u001b[0;34m\u001b[0m\u001b[0m\n\u001b[1;32m    229\u001b[0m     \u001b[0;32mdef\u001b[0m \u001b[0mget_ftypes\u001b[0m\u001b[0;34m(\u001b[0m\u001b[0mself\u001b[0m\u001b[0;34m)\u001b[0m\u001b[0;34m:\u001b[0m\u001b[0;34m\u001b[0m\u001b[0;34m\u001b[0m\u001b[0m\n",
      "\u001b[0;32m~/anaconda3/envs/data/lib/python3.6/site-packages/pandas/core/algorithms.py\u001b[0m in \u001b[0;36mtake_nd\u001b[0;34m(arr, indexer, axis, out, fill_value, mask_info, allow_fill)\u001b[0m\n\u001b[1;32m   1586\u001b[0m     \u001b[0;32melif\u001b[0m \u001b[0mis_datetime64tz_dtype\u001b[0m\u001b[0;34m(\u001b[0m\u001b[0marr\u001b[0m\u001b[0;34m)\u001b[0m\u001b[0;34m:\u001b[0m\u001b[0;34m\u001b[0m\u001b[0;34m\u001b[0m\u001b[0m\n\u001b[1;32m   1587\u001b[0m         \u001b[0;32mreturn\u001b[0m \u001b[0marr\u001b[0m\u001b[0;34m.\u001b[0m\u001b[0mtake\u001b[0m\u001b[0;34m(\u001b[0m\u001b[0mindexer\u001b[0m\u001b[0;34m,\u001b[0m \u001b[0mfill_value\u001b[0m\u001b[0;34m=\u001b[0m\u001b[0mfill_value\u001b[0m\u001b[0;34m,\u001b[0m \u001b[0mallow_fill\u001b[0m\u001b[0;34m=\u001b[0m\u001b[0mallow_fill\u001b[0m\u001b[0;34m)\u001b[0m\u001b[0;34m\u001b[0m\u001b[0;34m\u001b[0m\u001b[0m\n\u001b[0;32m-> 1588\u001b[0;31m     \u001b[0;32melif\u001b[0m \u001b[0mis_interval_dtype\u001b[0m\u001b[0;34m(\u001b[0m\u001b[0marr\u001b[0m\u001b[0;34m)\u001b[0m\u001b[0;34m:\u001b[0m\u001b[0;34m\u001b[0m\u001b[0;34m\u001b[0m\u001b[0m\n\u001b[0m\u001b[1;32m   1589\u001b[0m         \u001b[0;32mreturn\u001b[0m \u001b[0marr\u001b[0m\u001b[0;34m.\u001b[0m\u001b[0mtake\u001b[0m\u001b[0;34m(\u001b[0m\u001b[0mindexer\u001b[0m\u001b[0;34m,\u001b[0m \u001b[0mfill_value\u001b[0m\u001b[0;34m=\u001b[0m\u001b[0mfill_value\u001b[0m\u001b[0;34m,\u001b[0m \u001b[0mallow_fill\u001b[0m\u001b[0;34m=\u001b[0m\u001b[0mallow_fill\u001b[0m\u001b[0;34m)\u001b[0m\u001b[0;34m\u001b[0m\u001b[0;34m\u001b[0m\u001b[0m\n\u001b[1;32m   1590\u001b[0m \u001b[0;34m\u001b[0m\u001b[0m\n",
      "\u001b[0;32m~/anaconda3/envs/data/lib/python3.6/site-packages/pandas/core/dtypes/common.py\u001b[0m in \u001b[0;36mis_interval_dtype\u001b[0;34m(arr_or_dtype)\u001b[0m\n\u001b[1;32m    567\u001b[0m     \u001b[0;32mif\u001b[0m \u001b[0marr_or_dtype\u001b[0m \u001b[0;32mis\u001b[0m \u001b[0;32mNone\u001b[0m\u001b[0;34m:\u001b[0m\u001b[0;34m\u001b[0m\u001b[0;34m\u001b[0m\u001b[0m\n\u001b[1;32m    568\u001b[0m         \u001b[0;32mreturn\u001b[0m \u001b[0;32mFalse\u001b[0m\u001b[0;34m\u001b[0m\u001b[0;34m\u001b[0m\u001b[0m\n\u001b[0;32m--> 569\u001b[0;31m     \u001b[0;32mreturn\u001b[0m \u001b[0mIntervalDtype\u001b[0m\u001b[0;34m.\u001b[0m\u001b[0mis_dtype\u001b[0m\u001b[0;34m(\u001b[0m\u001b[0marr_or_dtype\u001b[0m\u001b[0;34m)\u001b[0m\u001b[0;34m\u001b[0m\u001b[0;34m\u001b[0m\u001b[0m\n\u001b[0m\u001b[1;32m    570\u001b[0m \u001b[0;34m\u001b[0m\u001b[0m\n\u001b[1;32m    571\u001b[0m \u001b[0;34m\u001b[0m\u001b[0m\n",
      "\u001b[0;32m~/anaconda3/envs/data/lib/python3.6/site-packages/pandas/core/dtypes/dtypes.py\u001b[0m in \u001b[0;36mis_dtype\u001b[0;34m(cls, dtype)\u001b[0m\n\u001b[1;32m    989\u001b[0m             \u001b[0;32melse\u001b[0m\u001b[0;34m:\u001b[0m\u001b[0;34m\u001b[0m\u001b[0;34m\u001b[0m\u001b[0m\n\u001b[1;32m    990\u001b[0m                 \u001b[0;32mreturn\u001b[0m \u001b[0;32mFalse\u001b[0m\u001b[0;34m\u001b[0m\u001b[0;34m\u001b[0m\u001b[0m\n\u001b[0;32m--> 991\u001b[0;31m         \u001b[0;32mreturn\u001b[0m \u001b[0msuper\u001b[0m\u001b[0;34m(\u001b[0m\u001b[0mIntervalDtype\u001b[0m\u001b[0;34m,\u001b[0m \u001b[0mcls\u001b[0m\u001b[0;34m)\u001b[0m\u001b[0;34m.\u001b[0m\u001b[0mis_dtype\u001b[0m\u001b[0;34m(\u001b[0m\u001b[0mdtype\u001b[0m\u001b[0;34m)\u001b[0m\u001b[0;34m\u001b[0m\u001b[0;34m\u001b[0m\u001b[0m\n\u001b[0m",
      "\u001b[0;31mKeyboardInterrupt\u001b[0m: "
     ]
    }
   ],
   "source": [
    "# for i in range(0,(grid.predict(X_test)).shape[0]):\n",
    "    # if grid.predict(X_test)[i][0] < 0:\n",
    "        # print (\"Valeur négative pour\", i)\n",
    "        # print (grid.predict(X_test)[i][0])"
   ]
  },
  {
   "cell_type": "code",
   "execution_count": 21,
   "metadata": {},
   "outputs": [
    {
     "data": {
      "text/plain": [
       "(3266, 1)"
      ]
     },
     "execution_count": 21,
     "metadata": {},
     "output_type": "execute_result"
    }
   ],
   "source": [
    "(grid.predict(X_test)).shape"
   ]
  },
  {
   "cell_type": "code",
   "execution_count": 23,
   "metadata": {},
   "outputs": [],
   "source": [
    "to_update_grid_pred = np.empty([3266, 1])"
   ]
  },
  {
   "cell_type": "code",
   "execution_count": 24,
   "metadata": {},
   "outputs": [
    {
     "ename": "KeyboardInterrupt",
     "evalue": "",
     "output_type": "error",
     "traceback": [
      "\u001b[0;31m---------------------------------------------------------------------------\u001b[0m",
      "\u001b[0;31mKeyboardInterrupt\u001b[0m                         Traceback (most recent call last)",
      "\u001b[0;32m<ipython-input-24-3a3e3aeefed5>\u001b[0m in \u001b[0;36m<module>\u001b[0;34m\u001b[0m\n\u001b[1;32m      5\u001b[0m         \u001b[0mto_update_grid_pred\u001b[0m\u001b[0;34m[\u001b[0m\u001b[0mi\u001b[0m\u001b[0;34m]\u001b[0m\u001b[0;34m[\u001b[0m\u001b[0;36m0\u001b[0m\u001b[0;34m]\u001b[0m \u001b[0;34m=\u001b[0m \u001b[0;36m0\u001b[0m\u001b[0;34m\u001b[0m\u001b[0;34m\u001b[0m\u001b[0m\n\u001b[1;32m      6\u001b[0m     \u001b[0;32melse\u001b[0m\u001b[0;34m:\u001b[0m\u001b[0;34m\u001b[0m\u001b[0;34m\u001b[0m\u001b[0m\n\u001b[0;32m----> 7\u001b[0;31m         \u001b[0mto_update_grid_pred\u001b[0m\u001b[0;34m[\u001b[0m\u001b[0mi\u001b[0m\u001b[0;34m]\u001b[0m\u001b[0;34m[\u001b[0m\u001b[0;36m0\u001b[0m\u001b[0;34m]\u001b[0m \u001b[0;34m=\u001b[0m \u001b[0mgrid\u001b[0m\u001b[0;34m.\u001b[0m\u001b[0mpredict\u001b[0m\u001b[0;34m(\u001b[0m\u001b[0mX_test\u001b[0m\u001b[0;34m)\u001b[0m\u001b[0;34m[\u001b[0m\u001b[0mi\u001b[0m\u001b[0;34m]\u001b[0m\u001b[0;34m[\u001b[0m\u001b[0;36m0\u001b[0m\u001b[0;34m]\u001b[0m\u001b[0;34m\u001b[0m\u001b[0;34m\u001b[0m\u001b[0m\n\u001b[0m",
      "\u001b[0;32m~/anaconda3/envs/data/lib/python3.6/site-packages/sklearn/utils/metaestimators.py\u001b[0m in \u001b[0;36m<lambda>\u001b[0;34m(*args, **kwargs)\u001b[0m\n\u001b[1;32m    114\u001b[0m \u001b[0;34m\u001b[0m\u001b[0m\n\u001b[1;32m    115\u001b[0m         \u001b[0;31m# lambda, but not partial, allows help() to work with update_wrapper\u001b[0m\u001b[0;34m\u001b[0m\u001b[0;34m\u001b[0m\u001b[0;34m\u001b[0m\u001b[0m\n\u001b[0;32m--> 116\u001b[0;31m         \u001b[0mout\u001b[0m \u001b[0;34m=\u001b[0m \u001b[0;32mlambda\u001b[0m \u001b[0;34m*\u001b[0m\u001b[0margs\u001b[0m\u001b[0;34m,\u001b[0m \u001b[0;34m**\u001b[0m\u001b[0mkwargs\u001b[0m\u001b[0;34m:\u001b[0m \u001b[0mself\u001b[0m\u001b[0;34m.\u001b[0m\u001b[0mfn\u001b[0m\u001b[0;34m(\u001b[0m\u001b[0mobj\u001b[0m\u001b[0;34m,\u001b[0m \u001b[0;34m*\u001b[0m\u001b[0margs\u001b[0m\u001b[0;34m,\u001b[0m \u001b[0;34m**\u001b[0m\u001b[0mkwargs\u001b[0m\u001b[0;34m)\u001b[0m\u001b[0;34m\u001b[0m\u001b[0;34m\u001b[0m\u001b[0m\n\u001b[0m\u001b[1;32m    117\u001b[0m         \u001b[0;31m# update the docstring of the returned function\u001b[0m\u001b[0;34m\u001b[0m\u001b[0;34m\u001b[0m\u001b[0;34m\u001b[0m\u001b[0m\n\u001b[1;32m    118\u001b[0m         \u001b[0mupdate_wrapper\u001b[0m\u001b[0;34m(\u001b[0m\u001b[0mout\u001b[0m\u001b[0;34m,\u001b[0m \u001b[0mself\u001b[0m\u001b[0;34m.\u001b[0m\u001b[0mfn\u001b[0m\u001b[0;34m)\u001b[0m\u001b[0;34m\u001b[0m\u001b[0;34m\u001b[0m\u001b[0m\n",
      "\u001b[0;32m~/anaconda3/envs/data/lib/python3.6/site-packages/sklearn/model_selection/_search.py\u001b[0m in \u001b[0;36mpredict\u001b[0;34m(self, X)\u001b[0m\n\u001b[1;32m    455\u001b[0m         \"\"\"\n\u001b[1;32m    456\u001b[0m         \u001b[0mself\u001b[0m\u001b[0;34m.\u001b[0m\u001b[0m_check_is_fitted\u001b[0m\u001b[0;34m(\u001b[0m\u001b[0;34m'predict'\u001b[0m\u001b[0;34m)\u001b[0m\u001b[0;34m\u001b[0m\u001b[0;34m\u001b[0m\u001b[0m\n\u001b[0;32m--> 457\u001b[0;31m         \u001b[0;32mreturn\u001b[0m \u001b[0mself\u001b[0m\u001b[0;34m.\u001b[0m\u001b[0mbest_estimator_\u001b[0m\u001b[0;34m.\u001b[0m\u001b[0mpredict\u001b[0m\u001b[0;34m(\u001b[0m\u001b[0mX\u001b[0m\u001b[0;34m)\u001b[0m\u001b[0;34m\u001b[0m\u001b[0;34m\u001b[0m\u001b[0m\n\u001b[0m\u001b[1;32m    458\u001b[0m \u001b[0;34m\u001b[0m\u001b[0m\n\u001b[1;32m    459\u001b[0m     \u001b[0;34m@\u001b[0m\u001b[0mif_delegate_has_method\u001b[0m\u001b[0;34m(\u001b[0m\u001b[0mdelegate\u001b[0m\u001b[0;34m=\u001b[0m\u001b[0;34m(\u001b[0m\u001b[0;34m'best_estimator_'\u001b[0m\u001b[0;34m,\u001b[0m \u001b[0;34m'estimator'\u001b[0m\u001b[0;34m)\u001b[0m\u001b[0;34m)\u001b[0m\u001b[0;34m\u001b[0m\u001b[0;34m\u001b[0m\u001b[0m\n",
      "\u001b[0;32m~/anaconda3/envs/data/lib/python3.6/site-packages/sklearn/linear_model/base.py\u001b[0m in \u001b[0;36mpredict\u001b[0;34m(self, X)\u001b[0m\n\u001b[1;32m    219\u001b[0m             \u001b[0mReturns\u001b[0m \u001b[0mpredicted\u001b[0m \u001b[0mvalues\u001b[0m\u001b[0;34m.\u001b[0m\u001b[0;34m\u001b[0m\u001b[0;34m\u001b[0m\u001b[0m\n\u001b[1;32m    220\u001b[0m         \"\"\"\n\u001b[0;32m--> 221\u001b[0;31m         \u001b[0;32mreturn\u001b[0m \u001b[0mself\u001b[0m\u001b[0;34m.\u001b[0m\u001b[0m_decision_function\u001b[0m\u001b[0;34m(\u001b[0m\u001b[0mX\u001b[0m\u001b[0;34m)\u001b[0m\u001b[0;34m\u001b[0m\u001b[0;34m\u001b[0m\u001b[0m\n\u001b[0m\u001b[1;32m    222\u001b[0m \u001b[0;34m\u001b[0m\u001b[0m\n\u001b[1;32m    223\u001b[0m     \u001b[0m_preprocess_data\u001b[0m \u001b[0;34m=\u001b[0m \u001b[0mstaticmethod\u001b[0m\u001b[0;34m(\u001b[0m\u001b[0m_preprocess_data\u001b[0m\u001b[0;34m)\u001b[0m\u001b[0;34m\u001b[0m\u001b[0;34m\u001b[0m\u001b[0m\n",
      "\u001b[0;32m~/anaconda3/envs/data/lib/python3.6/site-packages/sklearn/linear_model/base.py\u001b[0m in \u001b[0;36m_decision_function\u001b[0;34m(self, X)\u001b[0m\n\u001b[1;32m    204\u001b[0m         \u001b[0mX\u001b[0m \u001b[0;34m=\u001b[0m \u001b[0mcheck_array\u001b[0m\u001b[0;34m(\u001b[0m\u001b[0mX\u001b[0m\u001b[0;34m,\u001b[0m \u001b[0maccept_sparse\u001b[0m\u001b[0;34m=\u001b[0m\u001b[0;34m[\u001b[0m\u001b[0;34m'csr'\u001b[0m\u001b[0;34m,\u001b[0m \u001b[0;34m'csc'\u001b[0m\u001b[0;34m,\u001b[0m \u001b[0;34m'coo'\u001b[0m\u001b[0;34m]\u001b[0m\u001b[0;34m)\u001b[0m\u001b[0;34m\u001b[0m\u001b[0;34m\u001b[0m\u001b[0m\n\u001b[1;32m    205\u001b[0m         return safe_sparse_dot(X, self.coef_.T,\n\u001b[0;32m--> 206\u001b[0;31m                                dense_output=True) + self.intercept_\n\u001b[0m\u001b[1;32m    207\u001b[0m \u001b[0;34m\u001b[0m\u001b[0m\n\u001b[1;32m    208\u001b[0m     \u001b[0;32mdef\u001b[0m \u001b[0mpredict\u001b[0m\u001b[0;34m(\u001b[0m\u001b[0mself\u001b[0m\u001b[0;34m,\u001b[0m \u001b[0mX\u001b[0m\u001b[0;34m)\u001b[0m\u001b[0;34m:\u001b[0m\u001b[0;34m\u001b[0m\u001b[0;34m\u001b[0m\u001b[0m\n",
      "\u001b[0;32m~/anaconda3/envs/data/lib/python3.6/site-packages/sklearn/utils/extmath.py\u001b[0m in \u001b[0;36msafe_sparse_dot\u001b[0;34m(a, b, dense_output)\u001b[0m\n\u001b[1;32m    140\u001b[0m         \u001b[0;32mreturn\u001b[0m \u001b[0mret\u001b[0m\u001b[0;34m\u001b[0m\u001b[0;34m\u001b[0m\u001b[0m\n\u001b[1;32m    141\u001b[0m     \u001b[0;32melse\u001b[0m\u001b[0;34m:\u001b[0m\u001b[0;34m\u001b[0m\u001b[0;34m\u001b[0m\u001b[0m\n\u001b[0;32m--> 142\u001b[0;31m         \u001b[0;32mreturn\u001b[0m \u001b[0mnp\u001b[0m\u001b[0;34m.\u001b[0m\u001b[0mdot\u001b[0m\u001b[0;34m(\u001b[0m\u001b[0ma\u001b[0m\u001b[0;34m,\u001b[0m \u001b[0mb\u001b[0m\u001b[0;34m)\u001b[0m\u001b[0;34m\u001b[0m\u001b[0;34m\u001b[0m\u001b[0m\n\u001b[0m\u001b[1;32m    143\u001b[0m \u001b[0;34m\u001b[0m\u001b[0m\n\u001b[1;32m    144\u001b[0m \u001b[0;34m\u001b[0m\u001b[0m\n",
      "\u001b[0;31mKeyboardInterrupt\u001b[0m: "
     ]
    }
   ],
   "source": [
    "for i in range(0,(grid.predict(X_test)).shape[0]):\n",
    "    if grid.predict(X_test)[i][0] < 0:\n",
    "        # print (\"Valeur négative pour\", i)\n",
    "        # print (grid.predict(X_test)[i][0])\n",
    "        to_update_grid_pred[i][0] = 0\n",
    "    else:\n",
    "        to_update_grid_pred[i][0] = grid.predict(X_test)[i][0]"
   ]
  },
  {
   "cell_type": "code",
   "execution_count": 26,
   "metadata": {},
   "outputs": [],
   "source": [
    "prediction = grid.predict(X_test)"
   ]
  },
  {
   "cell_type": "code",
   "execution_count": 28,
   "metadata": {},
   "outputs": [],
   "source": [
    "ids = np.where(prediction < 0)"
   ]
  },
  {
   "cell_type": "code",
   "execution_count": 29,
   "metadata": {},
   "outputs": [],
   "source": [
    "prediction[ids] = 0"
   ]
  },
  {
   "cell_type": "code",
   "execution_count": null,
   "metadata": {},
   "outputs": [],
   "source": [
    "# to_update_grid_pred.shape"
   ]
  },
  {
   "cell_type": "code",
   "execution_count": 30,
   "metadata": {},
   "outputs": [
    {
     "data": {
      "text/plain": [
       "array([0.85377923])"
      ]
     },
     "execution_count": 30,
     "metadata": {},
     "output_type": "execute_result"
    }
   ],
   "source": [
    "# OLD : array([1.27170942]) avec Linear regression + Origin = 2900 ème\n",
    "# np.sqrt(np.mean((np.log(to_update_grid_pred + 1) - np.log(Y_test.values + 1))**2, axis=0))\n",
    "# OLD : array([1.12650361]) avec Linear regression + Origin = 2800 ème\n",
    "\n",
    "# devient\n",
    "np.sqrt(np.mean((np.log(prediction + 1) - np.log(Y_test.values + 1))**2, axis=0))\n",
    "# array([0.85377923]) avec Linear regression + New = 2680 ème"
   ]
  },
  {
   "cell_type": "markdown",
   "metadata": {},
   "source": [
    "Linear regression + New : ON N'A PAS FAIT les features polynomiaux sur les var numériques"
   ]
  }
 ],
 "metadata": {
  "kernelspec": {
   "display_name": "data",
   "language": "python",
   "name": "data"
  },
  "language_info": {
   "codemirror_mode": {
    "name": "ipython",
    "version": 3
   },
   "file_extension": ".py",
   "mimetype": "text/x-python",
   "name": "python",
   "nbconvert_exporter": "python",
   "pygments_lexer": "ipython3",
   "version": "3.6.8"
  }
 },
 "nbformat": 4,
 "nbformat_minor": 2
}
