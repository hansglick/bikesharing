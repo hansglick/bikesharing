{
 "cells": [
  {
   "cell_type": "code",
   "execution_count": 124,
   "metadata": {},
   "outputs": [],
   "source": [
    "import pandas as pd\n",
    "\n",
    "from sklearn.model_selection import train_test_split\n",
    "# from sklearn.preprocessing import PolynomialFeatures\n",
    "from itertools import combinations\n",
    "\n",
    "df = pd.read_csv(\"train.csv\")"
   ]
  },
  {
   "cell_type": "code",
   "execution_count": 83,
   "metadata": {},
   "outputs": [
    {
     "data": {
      "text/plain": [
       "(10886, 31)"
      ]
     },
     "execution_count": 83,
     "metadata": {},
     "output_type": "execute_result"
    }
   ],
   "source": [
    "df.shape"
   ]
  },
  {
   "cell_type": "code",
   "execution_count": 85,
   "metadata": {},
   "outputs": [
    {
     "data": {
      "text/html": [
       "<div>\n",
       "<style scoped>\n",
       "    .dataframe tbody tr th:only-of-type {\n",
       "        vertical-align: middle;\n",
       "    }\n",
       "\n",
       "    .dataframe tbody tr th {\n",
       "        vertical-align: top;\n",
       "    }\n",
       "\n",
       "    .dataframe thead th {\n",
       "        text-align: right;\n",
       "    }\n",
       "</style>\n",
       "<table border=\"1\" class=\"dataframe\">\n",
       "  <thead>\n",
       "    <tr style=\"text-align: right;\">\n",
       "      <th></th>\n",
       "      <th>CO_month</th>\n",
       "      <th>datetime</th>\n",
       "      <th>CO_workingday</th>\n",
       "      <th>NO_temp</th>\n",
       "      <th>NO_atemp</th>\n",
       "      <th>NO_humidity</th>\n",
       "      <th>NO_windspeed</th>\n",
       "      <th>S_casual</th>\n",
       "      <th>S_registered</th>\n",
       "      <th>count</th>\n",
       "      <th>...</th>\n",
       "      <th>CO_holiday</th>\n",
       "      <th>CN_school</th>\n",
       "      <th>NN_soleil</th>\n",
       "      <th>CN_soleilQ</th>\n",
       "      <th>NN_tendance_1</th>\n",
       "      <th>NN_tendance_2</th>\n",
       "      <th>CN_tendance_1Q</th>\n",
       "      <th>CN_tendance_2Q</th>\n",
       "      <th>S_rateregis</th>\n",
       "      <th>S_rateregisQ</th>\n",
       "    </tr>\n",
       "  </thead>\n",
       "  <tbody>\n",
       "    <tr>\n",
       "      <th>0</th>\n",
       "      <td>January</td>\n",
       "      <td>2011-01-01 00:00:00</td>\n",
       "      <td>0</td>\n",
       "      <td>9.84</td>\n",
       "      <td>14.395</td>\n",
       "      <td>81</td>\n",
       "      <td>0.0</td>\n",
       "      <td>3</td>\n",
       "      <td>13</td>\n",
       "      <td>16</td>\n",
       "      <td>...</td>\n",
       "      <td>1</td>\n",
       "      <td>0</td>\n",
       "      <td>-68.036186</td>\n",
       "      <td>[-74.5,-28]</td>\n",
       "      <td>0.418093</td>\n",
       "      <td>0</td>\n",
       "      <td>[0.409,0.432]</td>\n",
       "      <td>[0,67]</td>\n",
       "      <td>0.812500</td>\n",
       "      <td>(0.77,0.817]</td>\n",
       "    </tr>\n",
       "    <tr>\n",
       "      <th>1</th>\n",
       "      <td>January</td>\n",
       "      <td>2011-01-01 01:00:00</td>\n",
       "      <td>0</td>\n",
       "      <td>9.02</td>\n",
       "      <td>13.635</td>\n",
       "      <td>80</td>\n",
       "      <td>0.0</td>\n",
       "      <td>8</td>\n",
       "      <td>32</td>\n",
       "      <td>40</td>\n",
       "      <td>...</td>\n",
       "      <td>1</td>\n",
       "      <td>0</td>\n",
       "      <td>-73.948688</td>\n",
       "      <td>[-74.5,-28]</td>\n",
       "      <td>0.418093</td>\n",
       "      <td>0</td>\n",
       "      <td>[0.409,0.432]</td>\n",
       "      <td>[0,67]</td>\n",
       "      <td>0.800000</td>\n",
       "      <td>(0.77,0.817]</td>\n",
       "    </tr>\n",
       "    <tr>\n",
       "      <th>2</th>\n",
       "      <td>January</td>\n",
       "      <td>2011-01-01 02:00:00</td>\n",
       "      <td>0</td>\n",
       "      <td>9.02</td>\n",
       "      <td>13.635</td>\n",
       "      <td>80</td>\n",
       "      <td>0.0</td>\n",
       "      <td>5</td>\n",
       "      <td>27</td>\n",
       "      <td>32</td>\n",
       "      <td>...</td>\n",
       "      <td>1</td>\n",
       "      <td>0</td>\n",
       "      <td>-71.066026</td>\n",
       "      <td>[-74.5,-28]</td>\n",
       "      <td>0.418093</td>\n",
       "      <td>0</td>\n",
       "      <td>[0.409,0.432]</td>\n",
       "      <td>[0,67]</td>\n",
       "      <td>0.843750</td>\n",
       "      <td>(0.817,0.855]</td>\n",
       "    </tr>\n",
       "    <tr>\n",
       "      <th>3</th>\n",
       "      <td>January</td>\n",
       "      <td>2011-01-01 03:00:00</td>\n",
       "      <td>0</td>\n",
       "      <td>9.84</td>\n",
       "      <td>14.395</td>\n",
       "      <td>75</td>\n",
       "      <td>0.0</td>\n",
       "      <td>3</td>\n",
       "      <td>10</td>\n",
       "      <td>13</td>\n",
       "      <td>...</td>\n",
       "      <td>1</td>\n",
       "      <td>0</td>\n",
       "      <td>-62.016308</td>\n",
       "      <td>[-74.5,-28]</td>\n",
       "      <td>0.418093</td>\n",
       "      <td>0</td>\n",
       "      <td>[0.409,0.432]</td>\n",
       "      <td>[0,67]</td>\n",
       "      <td>0.769231</td>\n",
       "      <td>(0.717,0.77]</td>\n",
       "    </tr>\n",
       "    <tr>\n",
       "      <th>4</th>\n",
       "      <td>January</td>\n",
       "      <td>2011-01-01 04:00:00</td>\n",
       "      <td>0</td>\n",
       "      <td>9.84</td>\n",
       "      <td>14.395</td>\n",
       "      <td>75</td>\n",
       "      <td>0.0</td>\n",
       "      <td>0</td>\n",
       "      <td>1</td>\n",
       "      <td>1</td>\n",
       "      <td>...</td>\n",
       "      <td>1</td>\n",
       "      <td>0</td>\n",
       "      <td>-50.973158</td>\n",
       "      <td>[-74.5,-28]</td>\n",
       "      <td>0.418093</td>\n",
       "      <td>0</td>\n",
       "      <td>[0.409,0.432]</td>\n",
       "      <td>[0,67]</td>\n",
       "      <td>1.000000</td>\n",
       "      <td>(0.986,1]</td>\n",
       "    </tr>\n",
       "  </tbody>\n",
       "</table>\n",
       "<p>5 rows × 31 columns</p>\n",
       "</div>"
      ],
      "text/plain": [
       "  CO_month             datetime  CO_workingday  NO_temp  NO_atemp  \\\n",
       "0  January  2011-01-01 00:00:00              0     9.84    14.395   \n",
       "1  January  2011-01-01 01:00:00              0     9.02    13.635   \n",
       "2  January  2011-01-01 02:00:00              0     9.02    13.635   \n",
       "3  January  2011-01-01 03:00:00              0     9.84    14.395   \n",
       "4  January  2011-01-01 04:00:00              0     9.84    14.395   \n",
       "\n",
       "   NO_humidity  NO_windspeed  S_casual  S_registered  count  ...  CO_holiday  \\\n",
       "0           81           0.0         3            13     16  ...           1   \n",
       "1           80           0.0         8            32     40  ...           1   \n",
       "2           80           0.0         5            27     32  ...           1   \n",
       "3           75           0.0         3            10     13  ...           1   \n",
       "4           75           0.0         0             1      1  ...           1   \n",
       "\n",
       "  CN_school  NN_soleil   CN_soleilQ NN_tendance_1 NN_tendance_2  \\\n",
       "0         0 -68.036186  [-74.5,-28]      0.418093             0   \n",
       "1         0 -73.948688  [-74.5,-28]      0.418093             0   \n",
       "2         0 -71.066026  [-74.5,-28]      0.418093             0   \n",
       "3         0 -62.016308  [-74.5,-28]      0.418093             0   \n",
       "4         0 -50.973158  [-74.5,-28]      0.418093             0   \n",
       "\n",
       "  CN_tendance_1Q CN_tendance_2Q S_rateregis   S_rateregisQ  \n",
       "0  [0.409,0.432]         [0,67]    0.812500   (0.77,0.817]  \n",
       "1  [0.409,0.432]         [0,67]    0.800000   (0.77,0.817]  \n",
       "2  [0.409,0.432]         [0,67]    0.843750  (0.817,0.855]  \n",
       "3  [0.409,0.432]         [0,67]    0.769231   (0.717,0.77]  \n",
       "4  [0.409,0.432]         [0,67]    1.000000      (0.986,1]  \n",
       "\n",
       "[5 rows x 31 columns]"
      ]
     },
     "execution_count": 85,
     "metadata": {},
     "output_type": "execute_result"
    }
   ],
   "source": [
    "df.head()"
   ]
  },
  {
   "cell_type": "code",
   "execution_count": 86,
   "metadata": {},
   "outputs": [
    {
     "data": {
      "text/plain": [
       "['CO_month',\n",
       " 'datetime',\n",
       " 'CO_workingday',\n",
       " 'NO_temp',\n",
       " 'NO_atemp',\n",
       " 'NO_humidity',\n",
       " 'NO_windspeed',\n",
       " 'S_casual',\n",
       " 'S_registered',\n",
       " 'count',\n",
       " 'CO_hour',\n",
       " 'CO_day',\n",
       " 'CO_year',\n",
       " 'CO_season',\n",
       " 'CO_weather',\n",
       " 'CO_humidityQ',\n",
       " 'CO_tempQ',\n",
       " 'CO_atempQ',\n",
       " 'CO_windspeedQ',\n",
       " 'S_casualQ',\n",
       " 'S_registeredQ',\n",
       " 'CO_holiday',\n",
       " 'CN_school',\n",
       " 'NN_soleil',\n",
       " 'CN_soleilQ',\n",
       " 'NN_tendance_1',\n",
       " 'NN_tendance_2',\n",
       " 'CN_tendance_1Q',\n",
       " 'CN_tendance_2Q',\n",
       " 'S_rateregis',\n",
       " 'S_rateregisQ']"
      ]
     },
     "execution_count": 86,
     "metadata": {},
     "output_type": "execute_result"
    }
   ],
   "source": [
    "list(df)"
   ]
  },
  {
   "cell_type": "code",
   "execution_count": 89,
   "metadata": {},
   "outputs": [],
   "source": [
    "all_categorical_o = [name_var for name_var in list(df) if name_var[0:2] == 'CO'] \n",
    "all_numeric_o = [name_var for name_var in list(df) if name_var[0:2] == 'NO'] "
   ]
  },
  {
   "cell_type": "code",
   "execution_count": 90,
   "metadata": {},
   "outputs": [
    {
     "data": {
      "text/plain": [
       "['CO_month',\n",
       " 'CO_workingday',\n",
       " 'CO_hour',\n",
       " 'CO_day',\n",
       " 'CO_year',\n",
       " 'CO_season',\n",
       " 'CO_weather',\n",
       " 'CO_humidityQ',\n",
       " 'CO_tempQ',\n",
       " 'CO_atempQ',\n",
       " 'CO_windspeedQ',\n",
       " 'CO_holiday']"
      ]
     },
     "execution_count": 90,
     "metadata": {},
     "output_type": "execute_result"
    }
   ],
   "source": [
    "all_categorical_o"
   ]
  },
  {
   "cell_type": "code",
   "execution_count": 91,
   "metadata": {},
   "outputs": [
    {
     "data": {
      "text/plain": [
       "['NO_temp', 'NO_atemp', 'NO_humidity', 'NO_windspeed']"
      ]
     },
     "execution_count": 91,
     "metadata": {},
     "output_type": "execute_result"
    }
   ],
   "source": [
    "all_numeric_o"
   ]
  },
  {
   "cell_type": "markdown",
   "metadata": {},
   "source": [
    "I Création du dataset des variables \"Origin\""
   ]
  },
  {
   "cell_type": "markdown",
   "metadata": {},
   "source": [
    "On passe en dummies les catégorielles"
   ]
  },
  {
   "cell_type": "code",
   "execution_count": 92,
   "metadata": {},
   "outputs": [],
   "source": [
    "# Transformation de toutes les variables catégorielles:\n",
    "df_all_dummies_o = pd.get_dummies(df[all_categorical_o])"
   ]
  },
  {
   "cell_type": "code",
   "execution_count": 93,
   "metadata": {},
   "outputs": [
    {
     "data": {
      "text/plain": [
       "(10886, 47)"
      ]
     },
     "execution_count": 93,
     "metadata": {},
     "output_type": "execute_result"
    }
   ],
   "source": [
    "df_all_dummies_o.shape"
   ]
  },
  {
   "cell_type": "code",
   "execution_count": 94,
   "metadata": {},
   "outputs": [],
   "source": [
    "df_numeric_and_categorical_o = pd.concat([df[[\"datetime\"]], df[all_numeric_o], df_all_dummies_o], axis = 1)\n",
    "list_var_clean_X = [var for var in list(df_numeric_and_categorical_o) if var != \"count\" and var != \"datetime\"]\n",
    "clean_X = df_numeric_and_categorical_o[list_var_clean_X]\n",
    "clean_Y = df[[\"count\"]]\n",
    "\n",
    "X_train, X_test, Y_train, Y_test = train_test_split(clean_X,\n",
    "                                                    clean_Y,\n",
    "                                                    test_size = 0.3,\n",
    "                                                    random_state = 0)"
   ]
  },
  {
   "cell_type": "code",
   "execution_count": 95,
   "metadata": {},
   "outputs": [
    {
     "data": {
      "text/plain": [
       "51"
      ]
     },
     "execution_count": 95,
     "metadata": {},
     "output_type": "execute_result"
    }
   ],
   "source": [
    "len(list(X_train))"
   ]
  },
  {
   "cell_type": "code",
   "execution_count": 65,
   "metadata": {},
   "outputs": [],
   "source": [
    "X_train.to_pickle(\"X_train_o.pkl\")\n",
    "X_test.to_pickle(\"X_test_o.pkl\")\n",
    "Y_train.to_pickle(\"Y_train_o.pkl\")\n",
    "Y_test.to_pickle(\"Y_test_o.pkl\")"
   ]
  },
  {
   "cell_type": "markdown",
   "metadata": {},
   "source": [
    "II Création d'un dataset avec les variables Origin et New et interactions entre catégorielles d'ordre 2<br>\n",
    "On peut aussi ajouter les interactions entre variables numériques "
   ]
  },
  {
   "cell_type": "markdown",
   "metadata": {},
   "source": [
    "On prend toutes les variables \"CO\", \"NO\", \"NN\" et \"CN\""
   ]
  },
  {
   "cell_type": "code",
   "execution_count": 127,
   "metadata": {},
   "outputs": [],
   "source": [
    "df = pd.read_csv(\"train.csv\")"
   ]
  },
  {
   "cell_type": "code",
   "execution_count": 128,
   "metadata": {},
   "outputs": [
    {
     "data": {
      "text/plain": [
       "['CO_month',\n",
       " 'datetime',\n",
       " 'CO_workingday',\n",
       " 'NO_temp',\n",
       " 'NO_atemp',\n",
       " 'NO_humidity',\n",
       " 'NO_windspeed',\n",
       " 'S_casual',\n",
       " 'S_registered',\n",
       " 'count',\n",
       " 'CO_hour',\n",
       " 'CO_day',\n",
       " 'CO_year',\n",
       " 'CO_season',\n",
       " 'CO_weather',\n",
       " 'CO_humidityQ',\n",
       " 'CO_tempQ',\n",
       " 'CO_atempQ',\n",
       " 'CO_windspeedQ',\n",
       " 'S_casualQ',\n",
       " 'S_registeredQ',\n",
       " 'CO_holiday',\n",
       " 'CN_school',\n",
       " 'NN_soleil',\n",
       " 'CN_soleilQ',\n",
       " 'NN_tendance_1',\n",
       " 'NN_tendance_2',\n",
       " 'CN_tendance_1Q',\n",
       " 'CN_tendance_2Q',\n",
       " 'S_rateregis',\n",
       " 'S_rateregisQ']"
      ]
     },
     "execution_count": 128,
     "metadata": {},
     "output_type": "execute_result"
    }
   ],
   "source": [
    "list(df)"
   ]
  },
  {
   "cell_type": "code",
   "execution_count": 129,
   "metadata": {},
   "outputs": [],
   "source": [
    "all_origin_var_and_new = [name_var for name_var in list(df) if name_var[0:2] == 'CO' or name_var[0:2] == 'NO' or name_var[0:2] == 'NN' or name_var[0:2] == 'CN'] "
   ]
  },
  {
   "cell_type": "code",
   "execution_count": 130,
   "metadata": {},
   "outputs": [],
   "source": [
    "all_categorical = [name_var for name_var in all_origin_var_and_new if name_var[0] == 'C']\n",
    "# Transformation de toutes les variables catégorielles:\n",
    "df_all_dummies = pd.get_dummies(df[all_categorical])"
   ]
  },
  {
   "cell_type": "code",
   "execution_count": 131,
   "metadata": {},
   "outputs": [
    {
     "data": {
      "text/plain": [
       "['CO_month',\n",
       " 'datetime',\n",
       " 'CO_workingday',\n",
       " 'NO_temp',\n",
       " 'NO_atemp',\n",
       " 'NO_humidity',\n",
       " 'NO_windspeed',\n",
       " 'S_casual',\n",
       " 'S_registered',\n",
       " 'count',\n",
       " 'CO_hour',\n",
       " 'CO_day',\n",
       " 'CO_year',\n",
       " 'CO_season',\n",
       " 'CO_weather',\n",
       " 'CO_humidityQ',\n",
       " 'CO_tempQ',\n",
       " 'CO_atempQ',\n",
       " 'CO_windspeedQ',\n",
       " 'S_casualQ',\n",
       " 'S_registeredQ',\n",
       " 'CO_holiday',\n",
       " 'CN_school',\n",
       " 'NN_soleil',\n",
       " 'CN_soleilQ',\n",
       " 'NN_tendance_1',\n",
       " 'NN_tendance_2',\n",
       " 'CN_tendance_1Q',\n",
       " 'CN_tendance_2Q',\n",
       " 'S_rateregis',\n",
       " 'S_rateregisQ']"
      ]
     },
     "execution_count": 131,
     "metadata": {},
     "output_type": "execute_result"
    }
   ],
   "source": [
    "list(df)"
   ]
  },
  {
   "cell_type": "code",
   "execution_count": 132,
   "metadata": {},
   "outputs": [
    {
     "data": {
      "text/plain": [
       "['CO_workingday',\n",
       " 'CO_hour',\n",
       " 'CO_year',\n",
       " 'CO_holiday',\n",
       " 'CN_school',\n",
       " 'CO_month_April',\n",
       " 'CO_month_August',\n",
       " 'CO_month_December',\n",
       " 'CO_month_February',\n",
       " 'CO_month_January',\n",
       " 'CO_month_July',\n",
       " 'CO_month_June',\n",
       " 'CO_month_March',\n",
       " 'CO_month_May',\n",
       " 'CO_month_November',\n",
       " 'CO_month_October',\n",
       " 'CO_month_September',\n",
       " 'CO_day_Friday',\n",
       " 'CO_day_Monday',\n",
       " 'CO_day_Saturday',\n",
       " 'CO_day_Sunday',\n",
       " 'CO_day_Thursday',\n",
       " 'CO_day_Tuesday',\n",
       " 'CO_day_Wednesday',\n",
       " 'CO_season_Automne',\n",
       " 'CO_season_Hiver',\n",
       " 'CO_season_Printemps',\n",
       " 'CO_season_Été',\n",
       " 'CO_weather_Beau temps',\n",
       " 'CO_weather_Nuageux',\n",
       " 'CO_weather_Pluvieux (+)',\n",
       " 'CO_weather_Pluvieux (-)',\n",
       " 'CO_humidityQ_(47,62]',\n",
       " 'CO_humidityQ_(62,77]',\n",
       " 'CO_humidityQ_(77,100]',\n",
       " 'CO_humidityQ_[0,47]',\n",
       " 'CO_tempQ_(13.9,20.5]',\n",
       " 'CO_tempQ_(20.5,26.2]',\n",
       " 'CO_tempQ_(26.2,41]',\n",
       " 'CO_tempQ_[0.82,13.9]',\n",
       " 'CO_atempQ_(16.7,24.2]',\n",
       " 'CO_atempQ_(24.2,31.1]',\n",
       " 'CO_atempQ_(31.1,45.5]',\n",
       " 'CO_atempQ_[0.76,16.7]',\n",
       " 'CO_windspeedQ_(13,17]',\n",
       " 'CO_windspeedQ_(17,57]',\n",
       " 'CO_windspeedQ_(7,13]',\n",
       " 'CO_windspeedQ_[0,7]',\n",
       " 'CN_soleilQ_(-28,1.01]',\n",
       " 'CN_soleilQ_(1.01,28.9]',\n",
       " 'CN_soleilQ_(28.9,74.4]',\n",
       " 'CN_soleilQ_[-74.5,-28]',\n",
       " 'CN_tendance_1Q_(0.432,0.593]',\n",
       " 'CN_tendance_1Q_(0.593,0.64]',\n",
       " 'CN_tendance_1Q_(0.64,0.672]',\n",
       " 'CN_tendance_1Q_(0.672,1.31]',\n",
       " 'CN_tendance_1Q_(1.31,1.49]',\n",
       " 'CN_tendance_1Q_(1.49,1.56]',\n",
       " 'CN_tendance_1Q_(1.56,1.69]',\n",
       " 'CN_tendance_1Q_(1.69,2.31]',\n",
       " 'CN_tendance_1Q_(2.31,2.45]',\n",
       " 'CN_tendance_1Q_[0.409,0.432]',\n",
       " 'CN_tendance_2Q_(136,217]',\n",
       " 'CN_tendance_2Q_(217,285]',\n",
       " 'CN_tendance_2Q_(285,365]',\n",
       " 'CN_tendance_2Q_(365,433]',\n",
       " 'CN_tendance_2Q_(433,501]',\n",
       " 'CN_tendance_2Q_(501,582]',\n",
       " 'CN_tendance_2Q_(582,650]',\n",
       " 'CN_tendance_2Q_(650,718]',\n",
       " 'CN_tendance_2Q_(67,136]',\n",
       " 'CN_tendance_2Q_[0,67]']"
      ]
     },
     "execution_count": 132,
     "metadata": {},
     "output_type": "execute_result"
    }
   ],
   "source": [
    "list(df_all_dummies)"
   ]
  },
  {
   "cell_type": "code",
   "execution_count": 133,
   "metadata": {},
   "outputs": [
    {
     "data": {
      "text/plain": [
       "['CO_month',\n",
       " 'CO_workingday',\n",
       " 'NO_temp',\n",
       " 'NO_atemp',\n",
       " 'NO_humidity',\n",
       " 'NO_windspeed',\n",
       " 'CO_hour',\n",
       " 'CO_day',\n",
       " 'CO_year',\n",
       " 'CO_season',\n",
       " 'CO_weather',\n",
       " 'CO_humidityQ',\n",
       " 'CO_tempQ',\n",
       " 'CO_atempQ',\n",
       " 'CO_windspeedQ',\n",
       " 'CO_holiday',\n",
       " 'CN_school',\n",
       " 'NN_soleil',\n",
       " 'CN_soleilQ',\n",
       " 'NN_tendance_1',\n",
       " 'NN_tendance_2',\n",
       " 'CN_tendance_1Q',\n",
       " 'CN_tendance_2Q']"
      ]
     },
     "execution_count": 133,
     "metadata": {},
     "output_type": "execute_result"
    }
   ],
   "source": [
    "all_origin_var_and_new"
   ]
  },
  {
   "cell_type": "markdown",
   "metadata": {},
   "source": [
    "Ajout des interactions d'ordre 2 entre variables catégorielles "
   ]
  },
  {
   "cell_type": "code",
   "execution_count": 134,
   "metadata": {},
   "outputs": [],
   "source": [
    "# def interaction_order(df,list_of_categ_var, order, only_ordre):\n",
    "def interaction_order(df,list_of_categ_var, order):\n",
    "    \n",
    "    initial_list_df = list(df)\n",
    "\n",
    "    # if only_ordre == True:\n",
    "    all_interactions = list(combinations(list_of_categ_var,order))\n",
    "\n",
    "    print (\"Nb d'interactions\", len(all_interactions))\n",
    "    print (\"Interaction entre : \", all_interactions)\n",
    "\n",
    "    for i in range(0, len(all_interactions)):\n",
    "        all_inter_variables = []\n",
    "        for each in list(all_interactions[i]):\n",
    "\n",
    "            # New columns of interaction\n",
    "            for each in range(0,order):\n",
    "\n",
    "                # Name of interaction variables\n",
    "                # var_inter_name = 'inter_' + str(i)\n",
    "                var_inter_name = \"_+_\".join(list(all_interactions[i]))\n",
    "\n",
    "                # df[var_inter_name] = df[list(all_interactions[i])[0]] + '_' + df[list(all_interactions[i])[1]]\n",
    "                if each == 0:\n",
    "                    df[var_inter_name] = df[list(all_interactions[i])[each]]\n",
    "                else:\n",
    "                    df[var_inter_name] = df[var_inter_name] + '_' + df[list(all_interactions[i])[each]]\n",
    "\n",
    "                # all_inter_variables.append(var_inter_name)\n",
    "                # print (all_inter_variables)\n",
    "\n",
    "        # Keep only interaction variables in the dataframe\n",
    "        df = df.drop(initial_list_df, axis=1)\n",
    "        # df = df[all_inter_variables]\n",
    "    return df"
   ]
  },
  {
   "cell_type": "code",
   "execution_count": 138,
   "metadata": {},
   "outputs": [
    {
     "data": {
      "text/plain": [
       "CO_month                    object\n",
       "CO_workingday               object\n",
       "CO_hour                     object\n",
       "CO_day                      object\n",
       "CO_year                     object\n",
       "CO_season                   object\n",
       "CO_weather                  object\n",
       "CO_humidityQ                object\n",
       "CO_tempQ                    object\n",
       "CO_atempQ                   object\n",
       "CO_windspeedQ               object\n",
       "CO_holiday                  object\n",
       "CN_school                   object\n",
       "CN_soleilQ                  object\n",
       "CN_tendance_1Q              object\n",
       "CN_tendance_2Q              object\n",
       "CO_month_+_CO_workingday    object\n",
       "dtype: object"
      ]
     },
     "execution_count": 138,
     "metadata": {},
     "output_type": "execute_result"
    }
   ],
   "source": [
    "df_all_categorical.dtypes"
   ]
  },
  {
   "cell_type": "code",
   "execution_count": 136,
   "metadata": {},
   "outputs": [],
   "source": [
    "df_all_categorical = df[all_categorical].applymap(str)"
   ]
  },
  {
   "cell_type": "code",
   "execution_count": 137,
   "metadata": {},
   "outputs": [
    {
     "name": "stdout",
     "output_type": "stream",
     "text": [
      "Nb d'interactions 120\n",
      "Interaction entre :  [('CO_month', 'CO_workingday'), ('CO_month', 'CO_hour'), ('CO_month', 'CO_day'), ('CO_month', 'CO_year'), ('CO_month', 'CO_season'), ('CO_month', 'CO_weather'), ('CO_month', 'CO_humidityQ'), ('CO_month', 'CO_tempQ'), ('CO_month', 'CO_atempQ'), ('CO_month', 'CO_windspeedQ'), ('CO_month', 'CO_holiday'), ('CO_month', 'CN_school'), ('CO_month', 'CN_soleilQ'), ('CO_month', 'CN_tendance_1Q'), ('CO_month', 'CN_tendance_2Q'), ('CO_workingday', 'CO_hour'), ('CO_workingday', 'CO_day'), ('CO_workingday', 'CO_year'), ('CO_workingday', 'CO_season'), ('CO_workingday', 'CO_weather'), ('CO_workingday', 'CO_humidityQ'), ('CO_workingday', 'CO_tempQ'), ('CO_workingday', 'CO_atempQ'), ('CO_workingday', 'CO_windspeedQ'), ('CO_workingday', 'CO_holiday'), ('CO_workingday', 'CN_school'), ('CO_workingday', 'CN_soleilQ'), ('CO_workingday', 'CN_tendance_1Q'), ('CO_workingday', 'CN_tendance_2Q'), ('CO_hour', 'CO_day'), ('CO_hour', 'CO_year'), ('CO_hour', 'CO_season'), ('CO_hour', 'CO_weather'), ('CO_hour', 'CO_humidityQ'), ('CO_hour', 'CO_tempQ'), ('CO_hour', 'CO_atempQ'), ('CO_hour', 'CO_windspeedQ'), ('CO_hour', 'CO_holiday'), ('CO_hour', 'CN_school'), ('CO_hour', 'CN_soleilQ'), ('CO_hour', 'CN_tendance_1Q'), ('CO_hour', 'CN_tendance_2Q'), ('CO_day', 'CO_year'), ('CO_day', 'CO_season'), ('CO_day', 'CO_weather'), ('CO_day', 'CO_humidityQ'), ('CO_day', 'CO_tempQ'), ('CO_day', 'CO_atempQ'), ('CO_day', 'CO_windspeedQ'), ('CO_day', 'CO_holiday'), ('CO_day', 'CN_school'), ('CO_day', 'CN_soleilQ'), ('CO_day', 'CN_tendance_1Q'), ('CO_day', 'CN_tendance_2Q'), ('CO_year', 'CO_season'), ('CO_year', 'CO_weather'), ('CO_year', 'CO_humidityQ'), ('CO_year', 'CO_tempQ'), ('CO_year', 'CO_atempQ'), ('CO_year', 'CO_windspeedQ'), ('CO_year', 'CO_holiday'), ('CO_year', 'CN_school'), ('CO_year', 'CN_soleilQ'), ('CO_year', 'CN_tendance_1Q'), ('CO_year', 'CN_tendance_2Q'), ('CO_season', 'CO_weather'), ('CO_season', 'CO_humidityQ'), ('CO_season', 'CO_tempQ'), ('CO_season', 'CO_atempQ'), ('CO_season', 'CO_windspeedQ'), ('CO_season', 'CO_holiday'), ('CO_season', 'CN_school'), ('CO_season', 'CN_soleilQ'), ('CO_season', 'CN_tendance_1Q'), ('CO_season', 'CN_tendance_2Q'), ('CO_weather', 'CO_humidityQ'), ('CO_weather', 'CO_tempQ'), ('CO_weather', 'CO_atempQ'), ('CO_weather', 'CO_windspeedQ'), ('CO_weather', 'CO_holiday'), ('CO_weather', 'CN_school'), ('CO_weather', 'CN_soleilQ'), ('CO_weather', 'CN_tendance_1Q'), ('CO_weather', 'CN_tendance_2Q'), ('CO_humidityQ', 'CO_tempQ'), ('CO_humidityQ', 'CO_atempQ'), ('CO_humidityQ', 'CO_windspeedQ'), ('CO_humidityQ', 'CO_holiday'), ('CO_humidityQ', 'CN_school'), ('CO_humidityQ', 'CN_soleilQ'), ('CO_humidityQ', 'CN_tendance_1Q'), ('CO_humidityQ', 'CN_tendance_2Q'), ('CO_tempQ', 'CO_atempQ'), ('CO_tempQ', 'CO_windspeedQ'), ('CO_tempQ', 'CO_holiday'), ('CO_tempQ', 'CN_school'), ('CO_tempQ', 'CN_soleilQ'), ('CO_tempQ', 'CN_tendance_1Q'), ('CO_tempQ', 'CN_tendance_2Q'), ('CO_atempQ', 'CO_windspeedQ'), ('CO_atempQ', 'CO_holiday'), ('CO_atempQ', 'CN_school'), ('CO_atempQ', 'CN_soleilQ'), ('CO_atempQ', 'CN_tendance_1Q'), ('CO_atempQ', 'CN_tendance_2Q'), ('CO_windspeedQ', 'CO_holiday'), ('CO_windspeedQ', 'CN_school'), ('CO_windspeedQ', 'CN_soleilQ'), ('CO_windspeedQ', 'CN_tendance_1Q'), ('CO_windspeedQ', 'CN_tendance_2Q'), ('CO_holiday', 'CN_school'), ('CO_holiday', 'CN_soleilQ'), ('CO_holiday', 'CN_tendance_1Q'), ('CO_holiday', 'CN_tendance_2Q'), ('CN_school', 'CN_soleilQ'), ('CN_school', 'CN_tendance_1Q'), ('CN_school', 'CN_tendance_2Q'), ('CN_soleilQ', 'CN_tendance_1Q'), ('CN_soleilQ', 'CN_tendance_2Q'), ('CN_tendance_1Q', 'CN_tendance_2Q')]\n"
     ]
    },
    {
     "ename": "KeyError",
     "evalue": "'CO_month'",
     "output_type": "error",
     "traceback": [
      "\u001b[0;31m---------------------------------------------------------------------------\u001b[0m",
      "\u001b[0;31mKeyError\u001b[0m                                  Traceback (most recent call last)",
      "\u001b[0;32m~/anaconda3/envs/data/lib/python3.6/site-packages/pandas/core/indexes/base.py\u001b[0m in \u001b[0;36mget_loc\u001b[0;34m(self, key, method, tolerance)\u001b[0m\n\u001b[1;32m   2656\u001b[0m             \u001b[0;32mtry\u001b[0m\u001b[0;34m:\u001b[0m\u001b[0;34m\u001b[0m\u001b[0;34m\u001b[0m\u001b[0m\n\u001b[0;32m-> 2657\u001b[0;31m                 \u001b[0;32mreturn\u001b[0m \u001b[0mself\u001b[0m\u001b[0;34m.\u001b[0m\u001b[0m_engine\u001b[0m\u001b[0;34m.\u001b[0m\u001b[0mget_loc\u001b[0m\u001b[0;34m(\u001b[0m\u001b[0mkey\u001b[0m\u001b[0;34m)\u001b[0m\u001b[0;34m\u001b[0m\u001b[0;34m\u001b[0m\u001b[0m\n\u001b[0m\u001b[1;32m   2658\u001b[0m             \u001b[0;32mexcept\u001b[0m \u001b[0mKeyError\u001b[0m\u001b[0;34m:\u001b[0m\u001b[0;34m\u001b[0m\u001b[0;34m\u001b[0m\u001b[0m\n",
      "\u001b[0;32mpandas/_libs/index.pyx\u001b[0m in \u001b[0;36mpandas._libs.index.IndexEngine.get_loc\u001b[0;34m()\u001b[0m\n",
      "\u001b[0;32mpandas/_libs/index.pyx\u001b[0m in \u001b[0;36mpandas._libs.index.IndexEngine.get_loc\u001b[0;34m()\u001b[0m\n",
      "\u001b[0;32mpandas/_libs/hashtable_class_helper.pxi\u001b[0m in \u001b[0;36mpandas._libs.hashtable.PyObjectHashTable.get_item\u001b[0;34m()\u001b[0m\n",
      "\u001b[0;32mpandas/_libs/hashtable_class_helper.pxi\u001b[0m in \u001b[0;36mpandas._libs.hashtable.PyObjectHashTable.get_item\u001b[0;34m()\u001b[0m\n",
      "\u001b[0;31mKeyError\u001b[0m: 'CO_month'",
      "\nDuring handling of the above exception, another exception occurred:\n",
      "\u001b[0;31mKeyError\u001b[0m                                  Traceback (most recent call last)",
      "\u001b[0;32m<ipython-input-137-56bac719e0e6>\u001b[0m in \u001b[0;36m<module>\u001b[0;34m\u001b[0m\n\u001b[1;32m      1\u001b[0m \u001b[0mlist_of_categ_var\u001b[0m \u001b[0;34m=\u001b[0m \u001b[0mall_categorical\u001b[0m\u001b[0;34m\u001b[0m\u001b[0;34m\u001b[0m\u001b[0m\n\u001b[0;32m----> 2\u001b[0;31m \u001b[0minteraction_order\u001b[0m\u001b[0;34m(\u001b[0m\u001b[0mdf_all_categorical\u001b[0m\u001b[0;34m,\u001b[0m\u001b[0mlist_of_categ_var\u001b[0m\u001b[0;34m,\u001b[0m \u001b[0;36m2\u001b[0m\u001b[0;34m)\u001b[0m\u001b[0;34m\u001b[0m\u001b[0;34m\u001b[0m\u001b[0m\n\u001b[0m",
      "\u001b[0;32m<ipython-input-134-3ef3be332aea>\u001b[0m in \u001b[0;36minteraction_order\u001b[0;34m(df, list_of_categ_var, order)\u001b[0m\n\u001b[1;32m     23\u001b[0m                 \u001b[0;31m# df[var_inter_name] = df[list(all_interactions[i])[0]] + '_' + df[list(all_interactions[i])[1]]\u001b[0m\u001b[0;34m\u001b[0m\u001b[0;34m\u001b[0m\u001b[0;34m\u001b[0m\u001b[0m\n\u001b[1;32m     24\u001b[0m                 \u001b[0;32mif\u001b[0m \u001b[0meach\u001b[0m \u001b[0;34m==\u001b[0m \u001b[0;36m0\u001b[0m\u001b[0;34m:\u001b[0m\u001b[0;34m\u001b[0m\u001b[0;34m\u001b[0m\u001b[0m\n\u001b[0;32m---> 25\u001b[0;31m                     \u001b[0mdf\u001b[0m\u001b[0;34m[\u001b[0m\u001b[0mvar_inter_name\u001b[0m\u001b[0;34m]\u001b[0m \u001b[0;34m=\u001b[0m \u001b[0mdf\u001b[0m\u001b[0;34m[\u001b[0m\u001b[0mlist\u001b[0m\u001b[0;34m(\u001b[0m\u001b[0mall_interactions\u001b[0m\u001b[0;34m[\u001b[0m\u001b[0mi\u001b[0m\u001b[0;34m]\u001b[0m\u001b[0;34m)\u001b[0m\u001b[0;34m[\u001b[0m\u001b[0meach\u001b[0m\u001b[0;34m]\u001b[0m\u001b[0;34m]\u001b[0m\u001b[0;34m\u001b[0m\u001b[0;34m\u001b[0m\u001b[0m\n\u001b[0m\u001b[1;32m     26\u001b[0m                 \u001b[0;32melse\u001b[0m\u001b[0;34m:\u001b[0m\u001b[0;34m\u001b[0m\u001b[0;34m\u001b[0m\u001b[0m\n\u001b[1;32m     27\u001b[0m                     \u001b[0mdf\u001b[0m\u001b[0;34m[\u001b[0m\u001b[0mvar_inter_name\u001b[0m\u001b[0;34m]\u001b[0m \u001b[0;34m=\u001b[0m \u001b[0mdf\u001b[0m\u001b[0;34m[\u001b[0m\u001b[0mvar_inter_name\u001b[0m\u001b[0;34m]\u001b[0m \u001b[0;34m+\u001b[0m \u001b[0;34m'_'\u001b[0m \u001b[0;34m+\u001b[0m \u001b[0mdf\u001b[0m\u001b[0;34m[\u001b[0m\u001b[0mlist\u001b[0m\u001b[0;34m(\u001b[0m\u001b[0mall_interactions\u001b[0m\u001b[0;34m[\u001b[0m\u001b[0mi\u001b[0m\u001b[0;34m]\u001b[0m\u001b[0;34m)\u001b[0m\u001b[0;34m[\u001b[0m\u001b[0meach\u001b[0m\u001b[0;34m]\u001b[0m\u001b[0;34m]\u001b[0m\u001b[0;34m\u001b[0m\u001b[0;34m\u001b[0m\u001b[0m\n",
      "\u001b[0;32m~/anaconda3/envs/data/lib/python3.6/site-packages/pandas/core/frame.py\u001b[0m in \u001b[0;36m__getitem__\u001b[0;34m(self, key)\u001b[0m\n\u001b[1;32m   2925\u001b[0m             \u001b[0;32mif\u001b[0m \u001b[0mself\u001b[0m\u001b[0;34m.\u001b[0m\u001b[0mcolumns\u001b[0m\u001b[0;34m.\u001b[0m\u001b[0mnlevels\u001b[0m \u001b[0;34m>\u001b[0m \u001b[0;36m1\u001b[0m\u001b[0;34m:\u001b[0m\u001b[0;34m\u001b[0m\u001b[0;34m\u001b[0m\u001b[0m\n\u001b[1;32m   2926\u001b[0m                 \u001b[0;32mreturn\u001b[0m \u001b[0mself\u001b[0m\u001b[0;34m.\u001b[0m\u001b[0m_getitem_multilevel\u001b[0m\u001b[0;34m(\u001b[0m\u001b[0mkey\u001b[0m\u001b[0;34m)\u001b[0m\u001b[0;34m\u001b[0m\u001b[0;34m\u001b[0m\u001b[0m\n\u001b[0;32m-> 2927\u001b[0;31m             \u001b[0mindexer\u001b[0m \u001b[0;34m=\u001b[0m \u001b[0mself\u001b[0m\u001b[0;34m.\u001b[0m\u001b[0mcolumns\u001b[0m\u001b[0;34m.\u001b[0m\u001b[0mget_loc\u001b[0m\u001b[0;34m(\u001b[0m\u001b[0mkey\u001b[0m\u001b[0;34m)\u001b[0m\u001b[0;34m\u001b[0m\u001b[0;34m\u001b[0m\u001b[0m\n\u001b[0m\u001b[1;32m   2928\u001b[0m             \u001b[0;32mif\u001b[0m \u001b[0mis_integer\u001b[0m\u001b[0;34m(\u001b[0m\u001b[0mindexer\u001b[0m\u001b[0;34m)\u001b[0m\u001b[0;34m:\u001b[0m\u001b[0;34m\u001b[0m\u001b[0;34m\u001b[0m\u001b[0m\n\u001b[1;32m   2929\u001b[0m                 \u001b[0mindexer\u001b[0m \u001b[0;34m=\u001b[0m \u001b[0;34m[\u001b[0m\u001b[0mindexer\u001b[0m\u001b[0;34m]\u001b[0m\u001b[0;34m\u001b[0m\u001b[0;34m\u001b[0m\u001b[0m\n",
      "\u001b[0;32m~/anaconda3/envs/data/lib/python3.6/site-packages/pandas/core/indexes/base.py\u001b[0m in \u001b[0;36mget_loc\u001b[0;34m(self, key, method, tolerance)\u001b[0m\n\u001b[1;32m   2657\u001b[0m                 \u001b[0;32mreturn\u001b[0m \u001b[0mself\u001b[0m\u001b[0;34m.\u001b[0m\u001b[0m_engine\u001b[0m\u001b[0;34m.\u001b[0m\u001b[0mget_loc\u001b[0m\u001b[0;34m(\u001b[0m\u001b[0mkey\u001b[0m\u001b[0;34m)\u001b[0m\u001b[0;34m\u001b[0m\u001b[0;34m\u001b[0m\u001b[0m\n\u001b[1;32m   2658\u001b[0m             \u001b[0;32mexcept\u001b[0m \u001b[0mKeyError\u001b[0m\u001b[0;34m:\u001b[0m\u001b[0;34m\u001b[0m\u001b[0;34m\u001b[0m\u001b[0m\n\u001b[0;32m-> 2659\u001b[0;31m                 \u001b[0;32mreturn\u001b[0m \u001b[0mself\u001b[0m\u001b[0;34m.\u001b[0m\u001b[0m_engine\u001b[0m\u001b[0;34m.\u001b[0m\u001b[0mget_loc\u001b[0m\u001b[0;34m(\u001b[0m\u001b[0mself\u001b[0m\u001b[0;34m.\u001b[0m\u001b[0m_maybe_cast_indexer\u001b[0m\u001b[0;34m(\u001b[0m\u001b[0mkey\u001b[0m\u001b[0;34m)\u001b[0m\u001b[0;34m)\u001b[0m\u001b[0;34m\u001b[0m\u001b[0;34m\u001b[0m\u001b[0m\n\u001b[0m\u001b[1;32m   2660\u001b[0m         \u001b[0mindexer\u001b[0m \u001b[0;34m=\u001b[0m \u001b[0mself\u001b[0m\u001b[0;34m.\u001b[0m\u001b[0mget_indexer\u001b[0m\u001b[0;34m(\u001b[0m\u001b[0;34m[\u001b[0m\u001b[0mkey\u001b[0m\u001b[0;34m]\u001b[0m\u001b[0;34m,\u001b[0m \u001b[0mmethod\u001b[0m\u001b[0;34m=\u001b[0m\u001b[0mmethod\u001b[0m\u001b[0;34m,\u001b[0m \u001b[0mtolerance\u001b[0m\u001b[0;34m=\u001b[0m\u001b[0mtolerance\u001b[0m\u001b[0;34m)\u001b[0m\u001b[0;34m\u001b[0m\u001b[0;34m\u001b[0m\u001b[0m\n\u001b[1;32m   2661\u001b[0m         \u001b[0;32mif\u001b[0m \u001b[0mindexer\u001b[0m\u001b[0;34m.\u001b[0m\u001b[0mndim\u001b[0m \u001b[0;34m>\u001b[0m \u001b[0;36m1\u001b[0m \u001b[0;32mor\u001b[0m \u001b[0mindexer\u001b[0m\u001b[0;34m.\u001b[0m\u001b[0msize\u001b[0m \u001b[0;34m>\u001b[0m \u001b[0;36m1\u001b[0m\u001b[0;34m:\u001b[0m\u001b[0;34m\u001b[0m\u001b[0;34m\u001b[0m\u001b[0m\n",
      "\u001b[0;32mpandas/_libs/index.pyx\u001b[0m in \u001b[0;36mpandas._libs.index.IndexEngine.get_loc\u001b[0;34m()\u001b[0m\n",
      "\u001b[0;32mpandas/_libs/index.pyx\u001b[0m in \u001b[0;36mpandas._libs.index.IndexEngine.get_loc\u001b[0;34m()\u001b[0m\n",
      "\u001b[0;32mpandas/_libs/hashtable_class_helper.pxi\u001b[0m in \u001b[0;36mpandas._libs.hashtable.PyObjectHashTable.get_item\u001b[0;34m()\u001b[0m\n",
      "\u001b[0;32mpandas/_libs/hashtable_class_helper.pxi\u001b[0m in \u001b[0;36mpandas._libs.hashtable.PyObjectHashTable.get_item\u001b[0;34m()\u001b[0m\n",
      "\u001b[0;31mKeyError\u001b[0m: 'CO_month'"
     ]
    }
   ],
   "source": [
    "list_of_categ_var = all_categorical\n",
    "interaction_order(df_all_categorical,list_of_categ_var, 2)"
   ]
  },
  {
   "cell_type": "code",
   "execution_count": 140,
   "metadata": {},
   "outputs": [
    {
     "data": {
      "text/plain": [
       "['CO_month',\n",
       " 'CO_workingday',\n",
       " 'CO_hour',\n",
       " 'CO_day',\n",
       " 'CO_year',\n",
       " 'CO_season',\n",
       " 'CO_weather',\n",
       " 'CO_humidityQ',\n",
       " 'CO_tempQ',\n",
       " 'CO_atempQ',\n",
       " 'CO_windspeedQ',\n",
       " 'CO_holiday',\n",
       " 'CN_school',\n",
       " 'CN_soleilQ',\n",
       " 'CN_tendance_1Q',\n",
       " 'CN_tendance_2Q',\n",
       " 'CO_month_+_CO_workingday']"
      ]
     },
     "execution_count": 140,
     "metadata": {},
     "output_type": "execute_result"
    }
   ],
   "source": [
    "list(df_all_categorical)"
   ]
  },
  {
   "cell_type": "code",
   "execution_count": null,
   "metadata": {},
   "outputs": [],
   "source": [
    "len(list(all_origin_var_and_new))\n",
    "len(list(df_all_dummies))\n",
    "len(list(all_var_for_models_nodup))\n",
    "\n",
    "all_var_for_models = []\n",
    "all_var_for_models.append(\"datetime\")\n",
    "for each in all_origin_var_and_new:\n",
    "    all_var_for_models.append(each) \n",
    "for each in df_all_dummies:\n",
    "    all_var_for_models.append(each)\n",
    "\n",
    "all_var_for_models_nodup = []\n",
    "for each in all_var_for_models:\n",
    "    if each not in all_var_for_models_nodup:\n",
    "        all_var_for_models_nodup.append(each)"
   ]
  },
  {
   "cell_type": "code",
   "execution_count": 99,
   "metadata": {},
   "outputs": [
    {
     "data": {
      "text/plain": [
       "['CO_month',\n",
       " 'CO_workingday',\n",
       " 'NO_temp',\n",
       " 'NO_atemp',\n",
       " 'NO_humidity',\n",
       " 'NO_windspeed',\n",
       " 'CO_hour',\n",
       " 'CO_day',\n",
       " 'CO_year',\n",
       " 'CO_season',\n",
       " 'CO_weather',\n",
       " 'CO_humidityQ',\n",
       " 'CO_tempQ',\n",
       " 'CO_atempQ',\n",
       " 'CO_windspeedQ',\n",
       " 'CO_holiday',\n",
       " 'CN_school',\n",
       " 'NN_soleil',\n",
       " 'CN_soleilQ',\n",
       " 'NN_tendance_1',\n",
       " 'NN_tendance_2',\n",
       " 'CN_tendance_1Q',\n",
       " 'CN_tendance_2Q']"
      ]
     },
     "execution_count": 99,
     "metadata": {},
     "output_type": "execute_result"
    }
   ],
   "source": [
    "\n",
    "df_numeric_and_categorical_o = pd.concat([df[all_var_for_models], axis = 1)\n",
    "                                          \n",
    "list_var_clean_X = [var for var in list(df_numeric_and_categorical_o) if var != \"count\" and var != \"datetime\"]\n",
    "clean_X = df_numeric_and_categorical_o[list_var_clean_X]\n",
    "clean_Y = df[[\"count\"]]\n",
    "\n",
    "X_train, X_test, Y_train, Y_test = train_test_split(clean_X,\n",
    "                                                    clean_Y,\n",
    "                                                    test_size = 0.3,\n",
    "                                                    random_state = 0)"
   ]
  },
  {
   "cell_type": "code",
   "execution_count": 10,
   "metadata": {},
   "outputs": [
    {
     "data": {
      "text/plain": [
       "CO_month          object\n",
       "CO_workingday      int64\n",
       "CO_hour            int64\n",
       "CO_day            object\n",
       "CO_year            int64\n",
       "CO_season         object\n",
       "CO_weather        object\n",
       "CO_humidityQ      object\n",
       "CO_tempQ          object\n",
       "CO_atempQ         object\n",
       "CO_windspeedQ     object\n",
       "CO_holiday         int64\n",
       "CN_school          int64\n",
       "CN_soleilQ        object\n",
       "CN_tendance_1Q    object\n",
       "CN_tendance_2Q    object\n",
       "dtype: object"
      ]
     },
     "execution_count": 10,
     "metadata": {},
     "output_type": "execute_result"
    }
   ],
   "source": [
    "all_categorical = [name_var for name_var in list(df) if name_var[0:1] == 'C'] "
   ]
  },
  {
   "cell_type": "markdown",
   "metadata": {},
   "source": [
    "On transforme en variables de type \"string\""
   ]
  },
  {
   "cell_type": "code",
   "execution_count": 16,
   "metadata": {},
   "outputs": [],
   "source": [
    "df_all_categorical = df[all_categorical].applymap(str)"
   ]
  },
  {
   "cell_type": "code",
   "execution_count": 17,
   "metadata": {},
   "outputs": [
    {
     "data": {
      "text/plain": [
       "CO_month          object\n",
       "CO_workingday     object\n",
       "CO_hour           object\n",
       "CO_day            object\n",
       "CO_year           object\n",
       "CO_season         object\n",
       "CO_weather        object\n",
       "CO_humidityQ      object\n",
       "CO_tempQ          object\n",
       "CO_atempQ         object\n",
       "CO_windspeedQ     object\n",
       "CO_holiday        object\n",
       "CN_school         object\n",
       "CN_soleilQ        object\n",
       "CN_tendance_1Q    object\n",
       "CN_tendance_2Q    object\n",
       "dtype: object"
      ]
     },
     "execution_count": 17,
     "metadata": {},
     "output_type": "execute_result"
    }
   ],
   "source": [
    "df_all_categorical.dtypes"
   ]
  },
  {
   "cell_type": "markdown",
   "metadata": {},
   "source": [
    "On fait les interactions d'ordre 2"
   ]
  },
  {
   "cell_type": "code",
   "execution_count": 80,
   "metadata": {},
   "outputs": [
    {
     "ename": "ModuleNotFoundError",
     "evalue": "No module named 'patsylearn'",
     "output_type": "error",
     "traceback": [
      "\u001b[0;31m---------------------------------------------------------------------------\u001b[0m",
      "\u001b[0;31mModuleNotFoundError\u001b[0m                       Traceback (most recent call last)",
      "\u001b[0;32m<ipython-input-80-2bc34e333bc9>\u001b[0m in \u001b[0;36m<module>\u001b[0;34m\u001b[0m\n\u001b[1;32m      1\u001b[0m \u001b[0;31m# from patsylearn import PatsyTransformer\u001b[0m\u001b[0;34m\u001b[0m\u001b[0;34m\u001b[0m\u001b[0;34m\u001b[0m\u001b[0m\n\u001b[0;32m----> 2\u001b[0;31m \u001b[0;32mfrom\u001b[0m \u001b[0mpatsylearn\u001b[0m \u001b[0;32mimport\u001b[0m \u001b[0mPatsyModel\u001b[0m\u001b[0;34m\u001b[0m\u001b[0;34m\u001b[0m\u001b[0m\n\u001b[0m\u001b[1;32m      3\u001b[0m \u001b[0mtransformer\u001b[0m \u001b[0;34m=\u001b[0m \u001b[0mPatsyTransformer\u001b[0m\u001b[0;34m(\u001b[0m\u001b[0;34m\"C(CO_season):C(CO_weather) + C(CO_season):C(CO_humidityQ)\"\u001b[0m\u001b[0;34m)\u001b[0m\u001b[0;34m\u001b[0m\u001b[0;34m\u001b[0m\u001b[0m\n",
      "\u001b[0;31mModuleNotFoundError\u001b[0m: No module named 'patsylearn'"
     ]
    }
   ],
   "source": [
    "# from patsylearn import PatsyTransformer\n",
    "from patsylearn import PatsyModel\n",
    "transformer = PatsyTransformer(\"C(CO_season):C(CO_weather) + C(CO_season):C(CO_humidityQ)\")"
   ]
  },
  {
   "cell_type": "code",
   "execution_count": 79,
   "metadata": {},
   "outputs": [],
   "source": [
    "import patsy"
   ]
  },
  {
   "cell_type": "code",
   "execution_count": 23,
   "metadata": {},
   "outputs": [],
   "source": [
    "# Transformation de toutes les variables catégorielles:\n",
    "df_all_dummies = pd.get_dummies(df_all_categorical)"
   ]
  },
  {
   "cell_type": "code",
   "execution_count": 24,
   "metadata": {},
   "outputs": [
    {
     "data": {
      "text/plain": [
       "['CO_month_April',\n",
       " 'CO_month_August',\n",
       " 'CO_month_December',\n",
       " 'CO_month_February',\n",
       " 'CO_month_January',\n",
       " 'CO_month_July',\n",
       " 'CO_month_June',\n",
       " 'CO_month_March',\n",
       " 'CO_month_May',\n",
       " 'CO_month_November',\n",
       " 'CO_month_October',\n",
       " 'CO_month_September',\n",
       " 'CO_workingday_0',\n",
       " 'CO_workingday_1',\n",
       " 'CO_hour_0',\n",
       " 'CO_hour_1',\n",
       " 'CO_hour_10',\n",
       " 'CO_hour_11',\n",
       " 'CO_hour_12',\n",
       " 'CO_hour_13',\n",
       " 'CO_hour_14',\n",
       " 'CO_hour_15',\n",
       " 'CO_hour_16',\n",
       " 'CO_hour_17',\n",
       " 'CO_hour_18',\n",
       " 'CO_hour_19',\n",
       " 'CO_hour_2',\n",
       " 'CO_hour_20',\n",
       " 'CO_hour_21',\n",
       " 'CO_hour_22',\n",
       " 'CO_hour_23',\n",
       " 'CO_hour_3',\n",
       " 'CO_hour_4',\n",
       " 'CO_hour_5',\n",
       " 'CO_hour_6',\n",
       " 'CO_hour_7',\n",
       " 'CO_hour_8',\n",
       " 'CO_hour_9',\n",
       " 'CO_day_Friday',\n",
       " 'CO_day_Monday',\n",
       " 'CO_day_Saturday',\n",
       " 'CO_day_Sunday',\n",
       " 'CO_day_Thursday',\n",
       " 'CO_day_Tuesday',\n",
       " 'CO_day_Wednesday',\n",
       " 'CO_year_2011',\n",
       " 'CO_year_2012',\n",
       " 'CO_season_Automne',\n",
       " 'CO_season_Hiver',\n",
       " 'CO_season_Printemps',\n",
       " 'CO_season_Été',\n",
       " 'CO_weather_Beau temps',\n",
       " 'CO_weather_Nuageux',\n",
       " 'CO_weather_Pluvieux (+)',\n",
       " 'CO_weather_Pluvieux (-)',\n",
       " 'CO_humidityQ_(47,62]',\n",
       " 'CO_humidityQ_(62,77]',\n",
       " 'CO_humidityQ_(77,100]',\n",
       " 'CO_humidityQ_[0,47]',\n",
       " 'CO_tempQ_(13.9,20.5]',\n",
       " 'CO_tempQ_(20.5,26.2]',\n",
       " 'CO_tempQ_(26.2,41]',\n",
       " 'CO_tempQ_[0.82,13.9]',\n",
       " 'CO_atempQ_(16.7,24.2]',\n",
       " 'CO_atempQ_(24.2,31.1]',\n",
       " 'CO_atempQ_(31.1,45.5]',\n",
       " 'CO_atempQ_[0.76,16.7]',\n",
       " 'CO_windspeedQ_(13,17]',\n",
       " 'CO_windspeedQ_(17,57]',\n",
       " 'CO_windspeedQ_(7,13]',\n",
       " 'CO_windspeedQ_[0,7]',\n",
       " 'CO_holiday_0',\n",
       " 'CO_holiday_1',\n",
       " 'CN_school_0',\n",
       " 'CN_school_1',\n",
       " 'CN_soleilQ_(-28,1.01]',\n",
       " 'CN_soleilQ_(1.01,28.9]',\n",
       " 'CN_soleilQ_(28.9,74.4]',\n",
       " 'CN_soleilQ_[-74.5,-28]',\n",
       " 'CN_tendance_1Q_(0.432,0.593]',\n",
       " 'CN_tendance_1Q_(0.593,0.64]',\n",
       " 'CN_tendance_1Q_(0.64,0.672]',\n",
       " 'CN_tendance_1Q_(0.672,1.31]',\n",
       " 'CN_tendance_1Q_(1.31,1.49]',\n",
       " 'CN_tendance_1Q_(1.49,1.56]',\n",
       " 'CN_tendance_1Q_(1.56,1.69]',\n",
       " 'CN_tendance_1Q_(1.69,2.31]',\n",
       " 'CN_tendance_1Q_(2.31,2.45]',\n",
       " 'CN_tendance_1Q_[0.409,0.432]',\n",
       " 'CN_tendance_2Q_(136,217]',\n",
       " 'CN_tendance_2Q_(217,285]',\n",
       " 'CN_tendance_2Q_(285,365]',\n",
       " 'CN_tendance_2Q_(365,433]',\n",
       " 'CN_tendance_2Q_(433,501]',\n",
       " 'CN_tendance_2Q_(501,582]',\n",
       " 'CN_tendance_2Q_(582,650]',\n",
       " 'CN_tendance_2Q_(650,718]',\n",
       " 'CN_tendance_2Q_(67,136]',\n",
       " 'CN_tendance_2Q_[0,67]']"
      ]
     },
     "execution_count": 24,
     "metadata": {},
     "output_type": "execute_result"
    }
   ],
   "source": [
    "list(df_all_dummies)"
   ]
  },
  {
   "cell_type": "code",
   "execution_count": 25,
   "metadata": {},
   "outputs": [
    {
     "data": {
      "text/plain": [
       "(10886, 99)"
      ]
     },
     "execution_count": 25,
     "metadata": {},
     "output_type": "execute_result"
    }
   ],
   "source": [
    "df_all_dummies.shape"
   ]
  },
  {
   "cell_type": "code",
   "execution_count": 26,
   "metadata": {},
   "outputs": [
    {
     "data": {
      "text/html": [
       "<div>\n",
       "<style scoped>\n",
       "    .dataframe tbody tr th:only-of-type {\n",
       "        vertical-align: middle;\n",
       "    }\n",
       "\n",
       "    .dataframe tbody tr th {\n",
       "        vertical-align: top;\n",
       "    }\n",
       "\n",
       "    .dataframe thead th {\n",
       "        text-align: right;\n",
       "    }\n",
       "</style>\n",
       "<table border=\"1\" class=\"dataframe\">\n",
       "  <thead>\n",
       "    <tr style=\"text-align: right;\">\n",
       "      <th></th>\n",
       "      <th>CO_month_April</th>\n",
       "      <th>CO_month_August</th>\n",
       "      <th>CO_month_December</th>\n",
       "      <th>CO_month_February</th>\n",
       "      <th>CO_month_January</th>\n",
       "      <th>CO_month_July</th>\n",
       "      <th>CO_month_June</th>\n",
       "      <th>CO_month_March</th>\n",
       "      <th>CO_month_May</th>\n",
       "      <th>CO_month_November</th>\n",
       "      <th>...</th>\n",
       "      <th>CN_tendance_2Q_(136,217]</th>\n",
       "      <th>CN_tendance_2Q_(217,285]</th>\n",
       "      <th>CN_tendance_2Q_(285,365]</th>\n",
       "      <th>CN_tendance_2Q_(365,433]</th>\n",
       "      <th>CN_tendance_2Q_(433,501]</th>\n",
       "      <th>CN_tendance_2Q_(501,582]</th>\n",
       "      <th>CN_tendance_2Q_(582,650]</th>\n",
       "      <th>CN_tendance_2Q_(650,718]</th>\n",
       "      <th>CN_tendance_2Q_(67,136]</th>\n",
       "      <th>CN_tendance_2Q_[0,67]</th>\n",
       "    </tr>\n",
       "  </thead>\n",
       "  <tbody>\n",
       "    <tr>\n",
       "      <th>0</th>\n",
       "      <td>0</td>\n",
       "      <td>0</td>\n",
       "      <td>0</td>\n",
       "      <td>0</td>\n",
       "      <td>1</td>\n",
       "      <td>0</td>\n",
       "      <td>0</td>\n",
       "      <td>0</td>\n",
       "      <td>0</td>\n",
       "      <td>0</td>\n",
       "      <td>...</td>\n",
       "      <td>0</td>\n",
       "      <td>0</td>\n",
       "      <td>0</td>\n",
       "      <td>0</td>\n",
       "      <td>0</td>\n",
       "      <td>0</td>\n",
       "      <td>0</td>\n",
       "      <td>0</td>\n",
       "      <td>0</td>\n",
       "      <td>1</td>\n",
       "    </tr>\n",
       "    <tr>\n",
       "      <th>1</th>\n",
       "      <td>0</td>\n",
       "      <td>0</td>\n",
       "      <td>0</td>\n",
       "      <td>0</td>\n",
       "      <td>1</td>\n",
       "      <td>0</td>\n",
       "      <td>0</td>\n",
       "      <td>0</td>\n",
       "      <td>0</td>\n",
       "      <td>0</td>\n",
       "      <td>...</td>\n",
       "      <td>0</td>\n",
       "      <td>0</td>\n",
       "      <td>0</td>\n",
       "      <td>0</td>\n",
       "      <td>0</td>\n",
       "      <td>0</td>\n",
       "      <td>0</td>\n",
       "      <td>0</td>\n",
       "      <td>0</td>\n",
       "      <td>1</td>\n",
       "    </tr>\n",
       "    <tr>\n",
       "      <th>2</th>\n",
       "      <td>0</td>\n",
       "      <td>0</td>\n",
       "      <td>0</td>\n",
       "      <td>0</td>\n",
       "      <td>1</td>\n",
       "      <td>0</td>\n",
       "      <td>0</td>\n",
       "      <td>0</td>\n",
       "      <td>0</td>\n",
       "      <td>0</td>\n",
       "      <td>...</td>\n",
       "      <td>0</td>\n",
       "      <td>0</td>\n",
       "      <td>0</td>\n",
       "      <td>0</td>\n",
       "      <td>0</td>\n",
       "      <td>0</td>\n",
       "      <td>0</td>\n",
       "      <td>0</td>\n",
       "      <td>0</td>\n",
       "      <td>1</td>\n",
       "    </tr>\n",
       "    <tr>\n",
       "      <th>3</th>\n",
       "      <td>0</td>\n",
       "      <td>0</td>\n",
       "      <td>0</td>\n",
       "      <td>0</td>\n",
       "      <td>1</td>\n",
       "      <td>0</td>\n",
       "      <td>0</td>\n",
       "      <td>0</td>\n",
       "      <td>0</td>\n",
       "      <td>0</td>\n",
       "      <td>...</td>\n",
       "      <td>0</td>\n",
       "      <td>0</td>\n",
       "      <td>0</td>\n",
       "      <td>0</td>\n",
       "      <td>0</td>\n",
       "      <td>0</td>\n",
       "      <td>0</td>\n",
       "      <td>0</td>\n",
       "      <td>0</td>\n",
       "      <td>1</td>\n",
       "    </tr>\n",
       "    <tr>\n",
       "      <th>4</th>\n",
       "      <td>0</td>\n",
       "      <td>0</td>\n",
       "      <td>0</td>\n",
       "      <td>0</td>\n",
       "      <td>1</td>\n",
       "      <td>0</td>\n",
       "      <td>0</td>\n",
       "      <td>0</td>\n",
       "      <td>0</td>\n",
       "      <td>0</td>\n",
       "      <td>...</td>\n",
       "      <td>0</td>\n",
       "      <td>0</td>\n",
       "      <td>0</td>\n",
       "      <td>0</td>\n",
       "      <td>0</td>\n",
       "      <td>0</td>\n",
       "      <td>0</td>\n",
       "      <td>0</td>\n",
       "      <td>0</td>\n",
       "      <td>1</td>\n",
       "    </tr>\n",
       "  </tbody>\n",
       "</table>\n",
       "<p>5 rows × 99 columns</p>\n",
       "</div>"
      ],
      "text/plain": [
       "   CO_month_April  CO_month_August  CO_month_December  CO_month_February  \\\n",
       "0               0                0                  0                  0   \n",
       "1               0                0                  0                  0   \n",
       "2               0                0                  0                  0   \n",
       "3               0                0                  0                  0   \n",
       "4               0                0                  0                  0   \n",
       "\n",
       "   CO_month_January  CO_month_July  CO_month_June  CO_month_March  \\\n",
       "0                 1              0              0               0   \n",
       "1                 1              0              0               0   \n",
       "2                 1              0              0               0   \n",
       "3                 1              0              0               0   \n",
       "4                 1              0              0               0   \n",
       "\n",
       "   CO_month_May  CO_month_November  ...  CN_tendance_2Q_(136,217]  \\\n",
       "0             0                  0  ...                         0   \n",
       "1             0                  0  ...                         0   \n",
       "2             0                  0  ...                         0   \n",
       "3             0                  0  ...                         0   \n",
       "4             0                  0  ...                         0   \n",
       "\n",
       "   CN_tendance_2Q_(217,285]  CN_tendance_2Q_(285,365]  \\\n",
       "0                         0                         0   \n",
       "1                         0                         0   \n",
       "2                         0                         0   \n",
       "3                         0                         0   \n",
       "4                         0                         0   \n",
       "\n",
       "   CN_tendance_2Q_(365,433]  CN_tendance_2Q_(433,501]  \\\n",
       "0                         0                         0   \n",
       "1                         0                         0   \n",
       "2                         0                         0   \n",
       "3                         0                         0   \n",
       "4                         0                         0   \n",
       "\n",
       "   CN_tendance_2Q_(501,582]  CN_tendance_2Q_(582,650]  \\\n",
       "0                         0                         0   \n",
       "1                         0                         0   \n",
       "2                         0                         0   \n",
       "3                         0                         0   \n",
       "4                         0                         0   \n",
       "\n",
       "   CN_tendance_2Q_(650,718]  CN_tendance_2Q_(67,136]  CN_tendance_2Q_[0,67]  \n",
       "0                         0                        0                      1  \n",
       "1                         0                        0                      1  \n",
       "2                         0                        0                      1  \n",
       "3                         0                        0                      1  \n",
       "4                         0                        0                      1  \n",
       "\n",
       "[5 rows x 99 columns]"
      ]
     },
     "execution_count": 26,
     "metadata": {},
     "output_type": "execute_result"
    }
   ],
   "source": [
    "df_all_dummies.head()"
   ]
  },
  {
   "cell_type": "code",
   "execution_count": 27,
   "metadata": {},
   "outputs": [],
   "source": [
    "df_numeric_and_dummies = pd.concat([df[[\"datetime\"]], df_all_numeric, df_all_dummies], axis = 1)"
   ]
  },
  {
   "cell_type": "code",
   "execution_count": 29,
   "metadata": {},
   "outputs": [
    {
     "data": {
      "text/plain": [
       "107"
      ]
     },
     "execution_count": 29,
     "metadata": {},
     "output_type": "execute_result"
    }
   ],
   "source": [
    "len(list(df_numeric_and_dummies))"
   ]
  },
  {
   "cell_type": "code",
   "execution_count": 36,
   "metadata": {},
   "outputs": [],
   "source": [
    "list_var_clean_X = [var for var in list(df_numeric_and_dummies) if var != \"count\" and var != \"datetime\"]\n",
    "clean_X = df_numeric_and_dummies[list_var_clean_X]\n",
    "clean_Y = df[[\"count\"]]"
   ]
  },
  {
   "cell_type": "code",
   "execution_count": 37,
   "metadata": {},
   "outputs": [
    {
     "data": {
      "text/plain": [
       "['NO_temp',\n",
       " 'NO_atemp',\n",
       " 'NO_humidity',\n",
       " 'NO_windspeed',\n",
       " 'NN_soleil',\n",
       " 'NN_tendance_1',\n",
       " 'NN_tendance_2',\n",
       " 'CO_month_April',\n",
       " 'CO_month_August',\n",
       " 'CO_month_December',\n",
       " 'CO_month_February',\n",
       " 'CO_month_January',\n",
       " 'CO_month_July',\n",
       " 'CO_month_June',\n",
       " 'CO_month_March',\n",
       " 'CO_month_May',\n",
       " 'CO_month_November',\n",
       " 'CO_month_October',\n",
       " 'CO_month_September',\n",
       " 'CO_workingday_0',\n",
       " 'CO_workingday_1',\n",
       " 'CO_hour_0',\n",
       " 'CO_hour_1',\n",
       " 'CO_hour_10',\n",
       " 'CO_hour_11',\n",
       " 'CO_hour_12',\n",
       " 'CO_hour_13',\n",
       " 'CO_hour_14',\n",
       " 'CO_hour_15',\n",
       " 'CO_hour_16',\n",
       " 'CO_hour_17',\n",
       " 'CO_hour_18',\n",
       " 'CO_hour_19',\n",
       " 'CO_hour_2',\n",
       " 'CO_hour_20',\n",
       " 'CO_hour_21',\n",
       " 'CO_hour_22',\n",
       " 'CO_hour_23',\n",
       " 'CO_hour_3',\n",
       " 'CO_hour_4',\n",
       " 'CO_hour_5',\n",
       " 'CO_hour_6',\n",
       " 'CO_hour_7',\n",
       " 'CO_hour_8',\n",
       " 'CO_hour_9',\n",
       " 'CO_day_Friday',\n",
       " 'CO_day_Monday',\n",
       " 'CO_day_Saturday',\n",
       " 'CO_day_Sunday',\n",
       " 'CO_day_Thursday',\n",
       " 'CO_day_Tuesday',\n",
       " 'CO_day_Wednesday',\n",
       " 'CO_year_2011',\n",
       " 'CO_year_2012',\n",
       " 'CO_season_Automne',\n",
       " 'CO_season_Hiver',\n",
       " 'CO_season_Printemps',\n",
       " 'CO_season_Été',\n",
       " 'CO_weather_Beau temps',\n",
       " 'CO_weather_Nuageux',\n",
       " 'CO_weather_Pluvieux (+)',\n",
       " 'CO_weather_Pluvieux (-)',\n",
       " 'CO_humidityQ_(47,62]',\n",
       " 'CO_humidityQ_(62,77]',\n",
       " 'CO_humidityQ_(77,100]',\n",
       " 'CO_humidityQ_[0,47]',\n",
       " 'CO_tempQ_(13.9,20.5]',\n",
       " 'CO_tempQ_(20.5,26.2]',\n",
       " 'CO_tempQ_(26.2,41]',\n",
       " 'CO_tempQ_[0.82,13.9]',\n",
       " 'CO_atempQ_(16.7,24.2]',\n",
       " 'CO_atempQ_(24.2,31.1]',\n",
       " 'CO_atempQ_(31.1,45.5]',\n",
       " 'CO_atempQ_[0.76,16.7]',\n",
       " 'CO_windspeedQ_(13,17]',\n",
       " 'CO_windspeedQ_(17,57]',\n",
       " 'CO_windspeedQ_(7,13]',\n",
       " 'CO_windspeedQ_[0,7]',\n",
       " 'CO_holiday_0',\n",
       " 'CO_holiday_1',\n",
       " 'CN_school_0',\n",
       " 'CN_school_1',\n",
       " 'CN_soleilQ_(-28,1.01]',\n",
       " 'CN_soleilQ_(1.01,28.9]',\n",
       " 'CN_soleilQ_(28.9,74.4]',\n",
       " 'CN_soleilQ_[-74.5,-28]',\n",
       " 'CN_tendance_1Q_(0.432,0.593]',\n",
       " 'CN_tendance_1Q_(0.593,0.64]',\n",
       " 'CN_tendance_1Q_(0.64,0.672]',\n",
       " 'CN_tendance_1Q_(0.672,1.31]',\n",
       " 'CN_tendance_1Q_(1.31,1.49]',\n",
       " 'CN_tendance_1Q_(1.49,1.56]',\n",
       " 'CN_tendance_1Q_(1.56,1.69]',\n",
       " 'CN_tendance_1Q_(1.69,2.31]',\n",
       " 'CN_tendance_1Q_(2.31,2.45]',\n",
       " 'CN_tendance_1Q_[0.409,0.432]',\n",
       " 'CN_tendance_2Q_(136,217]',\n",
       " 'CN_tendance_2Q_(217,285]',\n",
       " 'CN_tendance_2Q_(285,365]',\n",
       " 'CN_tendance_2Q_(365,433]',\n",
       " 'CN_tendance_2Q_(433,501]',\n",
       " 'CN_tendance_2Q_(501,582]',\n",
       " 'CN_tendance_2Q_(582,650]',\n",
       " 'CN_tendance_2Q_(650,718]',\n",
       " 'CN_tendance_2Q_(67,136]',\n",
       " 'CN_tendance_2Q_[0,67]']"
      ]
     },
     "execution_count": 37,
     "metadata": {},
     "output_type": "execute_result"
    }
   ],
   "source": [
    "list(clean_X)"
   ]
  },
  {
   "cell_type": "code",
   "execution_count": 39,
   "metadata": {},
   "outputs": [
    {
     "data": {
      "text/html": [
       "<div>\n",
       "<style scoped>\n",
       "    .dataframe tbody tr th:only-of-type {\n",
       "        vertical-align: middle;\n",
       "    }\n",
       "\n",
       "    .dataframe tbody tr th {\n",
       "        vertical-align: top;\n",
       "    }\n",
       "\n",
       "    .dataframe thead th {\n",
       "        text-align: right;\n",
       "    }\n",
       "</style>\n",
       "<table border=\"1\" class=\"dataframe\">\n",
       "  <thead>\n",
       "    <tr style=\"text-align: right;\">\n",
       "      <th></th>\n",
       "      <th>count</th>\n",
       "    </tr>\n",
       "  </thead>\n",
       "  <tbody>\n",
       "    <tr>\n",
       "      <th>0</th>\n",
       "      <td>16</td>\n",
       "    </tr>\n",
       "    <tr>\n",
       "      <th>1</th>\n",
       "      <td>40</td>\n",
       "    </tr>\n",
       "    <tr>\n",
       "      <th>2</th>\n",
       "      <td>32</td>\n",
       "    </tr>\n",
       "    <tr>\n",
       "      <th>3</th>\n",
       "      <td>13</td>\n",
       "    </tr>\n",
       "    <tr>\n",
       "      <th>4</th>\n",
       "      <td>1</td>\n",
       "    </tr>\n",
       "  </tbody>\n",
       "</table>\n",
       "</div>"
      ],
      "text/plain": [
       "   count\n",
       "0     16\n",
       "1     40\n",
       "2     32\n",
       "3     13\n",
       "4      1"
      ]
     },
     "execution_count": 39,
     "metadata": {},
     "output_type": "execute_result"
    }
   ],
   "source": [
    "clean_Y.head()"
   ]
  },
  {
   "cell_type": "code",
   "execution_count": 40,
   "metadata": {},
   "outputs": [
    {
     "ename": "NameError",
     "evalue": "name 'train_test_split' is not defined",
     "output_type": "error",
     "traceback": [
      "\u001b[0;31m---------------------------------------------------------------------------\u001b[0m",
      "\u001b[0;31mNameError\u001b[0m                                 Traceback (most recent call last)",
      "\u001b[0;32m<ipython-input-40-c65b5f8ba3e1>\u001b[0m in \u001b[0;36m<module>\u001b[0;34m\u001b[0m\n\u001b[0;32m----> 1\u001b[0;31m X_train, X_test, y_train, y_test = train_test_split(clean_X,\n\u001b[0m\u001b[1;32m      2\u001b[0m                                                     \u001b[0mclean_y\u001b[0m\u001b[0;34m,\u001b[0m\u001b[0;34m\u001b[0m\u001b[0;34m\u001b[0m\u001b[0m\n\u001b[1;32m      3\u001b[0m                                                     \u001b[0mtest_size\u001b[0m \u001b[0;34m=\u001b[0m \u001b[0;36m0.3\u001b[0m\u001b[0;34m,\u001b[0m\u001b[0;34m\u001b[0m\u001b[0;34m\u001b[0m\u001b[0m\n\u001b[1;32m      4\u001b[0m                                                     random_state = 0)\n",
      "\u001b[0;31mNameError\u001b[0m: name 'train_test_split' is not defined"
     ]
    }
   ],
   "source": [
    "X_train, X_test, y_train, y_test = train_test_split(clean_X,\n",
    "                                                    clean_y,\n",
    "                                                    test_size = 0.3,\n",
    "                                                    random_state = 0)"
   ]
  }
 ],
 "metadata": {
  "kernelspec": {
   "display_name": "data",
   "language": "python",
   "name": "data"
  },
  "language_info": {
   "codemirror_mode": {
    "name": "ipython",
    "version": 3
   },
   "file_extension": ".py",
   "mimetype": "text/x-python",
   "name": "python",
   "nbconvert_exporter": "python",
   "pygments_lexer": "ipython3",
   "version": "3.6.8"
  }
 },
 "nbformat": 4,
 "nbformat_minor": 2
}
