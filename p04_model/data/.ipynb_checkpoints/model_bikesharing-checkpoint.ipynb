{
 "cells": [
  {
   "cell_type": "code",
   "execution_count": 124,
   "metadata": {},
   "outputs": [],
   "source": [
    "import pandas as pd\n",
    "\n",
    "from sklearn.model_selection import train_test_split\n",
    "# from sklearn.preprocessing import PolynomialFeatures\n",
    "from itertools import combinations\n",
    "\n",
    "df = pd.read_csv(\"train.csv\")"
   ]
  },
  {
   "cell_type": "code",
   "execution_count": 83,
   "metadata": {},
   "outputs": [
    {
     "data": {
      "text/plain": [
       "(10886, 31)"
      ]
     },
     "execution_count": 83,
     "metadata": {},
     "output_type": "execute_result"
    }
   ],
   "source": [
    "df.shape"
   ]
  },
  {
   "cell_type": "code",
   "execution_count": 85,
   "metadata": {},
   "outputs": [
    {
     "data": {
      "text/html": [
       "<div>\n",
       "<style scoped>\n",
       "    .dataframe tbody tr th:only-of-type {\n",
       "        vertical-align: middle;\n",
       "    }\n",
       "\n",
       "    .dataframe tbody tr th {\n",
       "        vertical-align: top;\n",
       "    }\n",
       "\n",
       "    .dataframe thead th {\n",
       "        text-align: right;\n",
       "    }\n",
       "</style>\n",
       "<table border=\"1\" class=\"dataframe\">\n",
       "  <thead>\n",
       "    <tr style=\"text-align: right;\">\n",
       "      <th></th>\n",
       "      <th>CO_month</th>\n",
       "      <th>datetime</th>\n",
       "      <th>CO_workingday</th>\n",
       "      <th>NO_temp</th>\n",
       "      <th>NO_atemp</th>\n",
       "      <th>NO_humidity</th>\n",
       "      <th>NO_windspeed</th>\n",
       "      <th>S_casual</th>\n",
       "      <th>S_registered</th>\n",
       "      <th>count</th>\n",
       "      <th>...</th>\n",
       "      <th>CO_holiday</th>\n",
       "      <th>CN_school</th>\n",
       "      <th>NN_soleil</th>\n",
       "      <th>CN_soleilQ</th>\n",
       "      <th>NN_tendance_1</th>\n",
       "      <th>NN_tendance_2</th>\n",
       "      <th>CN_tendance_1Q</th>\n",
       "      <th>CN_tendance_2Q</th>\n",
       "      <th>S_rateregis</th>\n",
       "      <th>S_rateregisQ</th>\n",
       "    </tr>\n",
       "  </thead>\n",
       "  <tbody>\n",
       "    <tr>\n",
       "      <th>0</th>\n",
       "      <td>January</td>\n",
       "      <td>2011-01-01 00:00:00</td>\n",
       "      <td>0</td>\n",
       "      <td>9.84</td>\n",
       "      <td>14.395</td>\n",
       "      <td>81</td>\n",
       "      <td>0.0</td>\n",
       "      <td>3</td>\n",
       "      <td>13</td>\n",
       "      <td>16</td>\n",
       "      <td>...</td>\n",
       "      <td>1</td>\n",
       "      <td>0</td>\n",
       "      <td>-68.036186</td>\n",
       "      <td>[-74.5,-28]</td>\n",
       "      <td>0.418093</td>\n",
       "      <td>0</td>\n",
       "      <td>[0.409,0.432]</td>\n",
       "      <td>[0,67]</td>\n",
       "      <td>0.812500</td>\n",
       "      <td>(0.77,0.817]</td>\n",
       "    </tr>\n",
       "    <tr>\n",
       "      <th>1</th>\n",
       "      <td>January</td>\n",
       "      <td>2011-01-01 01:00:00</td>\n",
       "      <td>0</td>\n",
       "      <td>9.02</td>\n",
       "      <td>13.635</td>\n",
       "      <td>80</td>\n",
       "      <td>0.0</td>\n",
       "      <td>8</td>\n",
       "      <td>32</td>\n",
       "      <td>40</td>\n",
       "      <td>...</td>\n",
       "      <td>1</td>\n",
       "      <td>0</td>\n",
       "      <td>-73.948688</td>\n",
       "      <td>[-74.5,-28]</td>\n",
       "      <td>0.418093</td>\n",
       "      <td>0</td>\n",
       "      <td>[0.409,0.432]</td>\n",
       "      <td>[0,67]</td>\n",
       "      <td>0.800000</td>\n",
       "      <td>(0.77,0.817]</td>\n",
       "    </tr>\n",
       "    <tr>\n",
       "      <th>2</th>\n",
       "      <td>January</td>\n",
       "      <td>2011-01-01 02:00:00</td>\n",
       "      <td>0</td>\n",
       "      <td>9.02</td>\n",
       "      <td>13.635</td>\n",
       "      <td>80</td>\n",
       "      <td>0.0</td>\n",
       "      <td>5</td>\n",
       "      <td>27</td>\n",
       "      <td>32</td>\n",
       "      <td>...</td>\n",
       "      <td>1</td>\n",
       "      <td>0</td>\n",
       "      <td>-71.066026</td>\n",
       "      <td>[-74.5,-28]</td>\n",
       "      <td>0.418093</td>\n",
       "      <td>0</td>\n",
       "      <td>[0.409,0.432]</td>\n",
       "      <td>[0,67]</td>\n",
       "      <td>0.843750</td>\n",
       "      <td>(0.817,0.855]</td>\n",
       "    </tr>\n",
       "    <tr>\n",
       "      <th>3</th>\n",
       "      <td>January</td>\n",
       "      <td>2011-01-01 03:00:00</td>\n",
       "      <td>0</td>\n",
       "      <td>9.84</td>\n",
       "      <td>14.395</td>\n",
       "      <td>75</td>\n",
       "      <td>0.0</td>\n",
       "      <td>3</td>\n",
       "      <td>10</td>\n",
       "      <td>13</td>\n",
       "      <td>...</td>\n",
       "      <td>1</td>\n",
       "      <td>0</td>\n",
       "      <td>-62.016308</td>\n",
       "      <td>[-74.5,-28]</td>\n",
       "      <td>0.418093</td>\n",
       "      <td>0</td>\n",
       "      <td>[0.409,0.432]</td>\n",
       "      <td>[0,67]</td>\n",
       "      <td>0.769231</td>\n",
       "      <td>(0.717,0.77]</td>\n",
       "    </tr>\n",
       "    <tr>\n",
       "      <th>4</th>\n",
       "      <td>January</td>\n",
       "      <td>2011-01-01 04:00:00</td>\n",
       "      <td>0</td>\n",
       "      <td>9.84</td>\n",
       "      <td>14.395</td>\n",
       "      <td>75</td>\n",
       "      <td>0.0</td>\n",
       "      <td>0</td>\n",
       "      <td>1</td>\n",
       "      <td>1</td>\n",
       "      <td>...</td>\n",
       "      <td>1</td>\n",
       "      <td>0</td>\n",
       "      <td>-50.973158</td>\n",
       "      <td>[-74.5,-28]</td>\n",
       "      <td>0.418093</td>\n",
       "      <td>0</td>\n",
       "      <td>[0.409,0.432]</td>\n",
       "      <td>[0,67]</td>\n",
       "      <td>1.000000</td>\n",
       "      <td>(0.986,1]</td>\n",
       "    </tr>\n",
       "  </tbody>\n",
       "</table>\n",
       "<p>5 rows × 31 columns</p>\n",
       "</div>"
      ],
      "text/plain": [
       "  CO_month             datetime  CO_workingday  NO_temp  NO_atemp  \\\n",
       "0  January  2011-01-01 00:00:00              0     9.84    14.395   \n",
       "1  January  2011-01-01 01:00:00              0     9.02    13.635   \n",
       "2  January  2011-01-01 02:00:00              0     9.02    13.635   \n",
       "3  January  2011-01-01 03:00:00              0     9.84    14.395   \n",
       "4  January  2011-01-01 04:00:00              0     9.84    14.395   \n",
       "\n",
       "   NO_humidity  NO_windspeed  S_casual  S_registered  count  ...  CO_holiday  \\\n",
       "0           81           0.0         3            13     16  ...           1   \n",
       "1           80           0.0         8            32     40  ...           1   \n",
       "2           80           0.0         5            27     32  ...           1   \n",
       "3           75           0.0         3            10     13  ...           1   \n",
       "4           75           0.0         0             1      1  ...           1   \n",
       "\n",
       "  CN_school  NN_soleil   CN_soleilQ NN_tendance_1 NN_tendance_2  \\\n",
       "0         0 -68.036186  [-74.5,-28]      0.418093             0   \n",
       "1         0 -73.948688  [-74.5,-28]      0.418093             0   \n",
       "2         0 -71.066026  [-74.5,-28]      0.418093             0   \n",
       "3         0 -62.016308  [-74.5,-28]      0.418093             0   \n",
       "4         0 -50.973158  [-74.5,-28]      0.418093             0   \n",
       "\n",
       "  CN_tendance_1Q CN_tendance_2Q S_rateregis   S_rateregisQ  \n",
       "0  [0.409,0.432]         [0,67]    0.812500   (0.77,0.817]  \n",
       "1  [0.409,0.432]         [0,67]    0.800000   (0.77,0.817]  \n",
       "2  [0.409,0.432]         [0,67]    0.843750  (0.817,0.855]  \n",
       "3  [0.409,0.432]         [0,67]    0.769231   (0.717,0.77]  \n",
       "4  [0.409,0.432]         [0,67]    1.000000      (0.986,1]  \n",
       "\n",
       "[5 rows x 31 columns]"
      ]
     },
     "execution_count": 85,
     "metadata": {},
     "output_type": "execute_result"
    }
   ],
   "source": [
    "df.head()"
   ]
  },
  {
   "cell_type": "code",
   "execution_count": 86,
   "metadata": {},
   "outputs": [
    {
     "data": {
      "text/plain": [
       "['CO_month',\n",
       " 'datetime',\n",
       " 'CO_workingday',\n",
       " 'NO_temp',\n",
       " 'NO_atemp',\n",
       " 'NO_humidity',\n",
       " 'NO_windspeed',\n",
       " 'S_casual',\n",
       " 'S_registered',\n",
       " 'count',\n",
       " 'CO_hour',\n",
       " 'CO_day',\n",
       " 'CO_year',\n",
       " 'CO_season',\n",
       " 'CO_weather',\n",
       " 'CO_humidityQ',\n",
       " 'CO_tempQ',\n",
       " 'CO_atempQ',\n",
       " 'CO_windspeedQ',\n",
       " 'S_casualQ',\n",
       " 'S_registeredQ',\n",
       " 'CO_holiday',\n",
       " 'CN_school',\n",
       " 'NN_soleil',\n",
       " 'CN_soleilQ',\n",
       " 'NN_tendance_1',\n",
       " 'NN_tendance_2',\n",
       " 'CN_tendance_1Q',\n",
       " 'CN_tendance_2Q',\n",
       " 'S_rateregis',\n",
       " 'S_rateregisQ']"
      ]
     },
     "execution_count": 86,
     "metadata": {},
     "output_type": "execute_result"
    }
   ],
   "source": [
    "list(df)"
   ]
  },
  {
   "cell_type": "code",
   "execution_count": 89,
   "metadata": {},
   "outputs": [],
   "source": [
    "all_categorical_o = [name_var for name_var in list(df) if name_var[0:2] == 'CO'] \n",
    "all_numeric_o = [name_var for name_var in list(df) if name_var[0:2] == 'NO'] "
   ]
  },
  {
   "cell_type": "code",
   "execution_count": 90,
   "metadata": {},
   "outputs": [
    {
     "data": {
      "text/plain": [
       "['CO_month',\n",
       " 'CO_workingday',\n",
       " 'CO_hour',\n",
       " 'CO_day',\n",
       " 'CO_year',\n",
       " 'CO_season',\n",
       " 'CO_weather',\n",
       " 'CO_humidityQ',\n",
       " 'CO_tempQ',\n",
       " 'CO_atempQ',\n",
       " 'CO_windspeedQ',\n",
       " 'CO_holiday']"
      ]
     },
     "execution_count": 90,
     "metadata": {},
     "output_type": "execute_result"
    }
   ],
   "source": [
    "all_categorical_o"
   ]
  },
  {
   "cell_type": "code",
   "execution_count": 91,
   "metadata": {},
   "outputs": [
    {
     "data": {
      "text/plain": [
       "['NO_temp', 'NO_atemp', 'NO_humidity', 'NO_windspeed']"
      ]
     },
     "execution_count": 91,
     "metadata": {},
     "output_type": "execute_result"
    }
   ],
   "source": [
    "all_numeric_o"
   ]
  },
  {
   "cell_type": "markdown",
   "metadata": {},
   "source": [
    "I Création du dataset des variables \"Origin\""
   ]
  },
  {
   "cell_type": "markdown",
   "metadata": {},
   "source": [
    "On passe en dummies les catégorielles"
   ]
  },
  {
   "cell_type": "code",
   "execution_count": 92,
   "metadata": {},
   "outputs": [],
   "source": [
    "# Transformation de toutes les variables catégorielles:\n",
    "df_all_dummies_o = pd.get_dummies(df[all_categorical_o])"
   ]
  },
  {
   "cell_type": "code",
   "execution_count": 93,
   "metadata": {},
   "outputs": [
    {
     "data": {
      "text/plain": [
       "(10886, 47)"
      ]
     },
     "execution_count": 93,
     "metadata": {},
     "output_type": "execute_result"
    }
   ],
   "source": [
    "df_all_dummies_o.shape"
   ]
  },
  {
   "cell_type": "code",
   "execution_count": 94,
   "metadata": {},
   "outputs": [],
   "source": [
    "df_numeric_and_categorical_o = pd.concat([df[[\"datetime\"]], df[all_numeric_o], df_all_dummies_o], axis = 1)\n",
    "list_var_clean_X = [var for var in list(df_numeric_and_categorical_o) if var != \"count\" and var != \"datetime\"]\n",
    "clean_X = df_numeric_and_categorical_o[list_var_clean_X]\n",
    "clean_Y = df[[\"count\"]]\n",
    "\n",
    "X_train, X_test, Y_train, Y_test = train_test_split(clean_X,\n",
    "                                                    clean_Y,\n",
    "                                                    test_size = 0.3,\n",
    "                                                    random_state = 0)"
   ]
  },
  {
   "cell_type": "code",
   "execution_count": 95,
   "metadata": {},
   "outputs": [
    {
     "data": {
      "text/plain": [
       "51"
      ]
     },
     "execution_count": 95,
     "metadata": {},
     "output_type": "execute_result"
    }
   ],
   "source": [
    "len(list(X_train))"
   ]
  },
  {
   "cell_type": "code",
   "execution_count": 65,
   "metadata": {},
   "outputs": [],
   "source": [
    "X_train.to_pickle(\"X_train_o.pkl\")\n",
    "X_test.to_pickle(\"X_test_o.pkl\")\n",
    "Y_train.to_pickle(\"Y_train_o.pkl\")\n",
    "Y_test.to_pickle(\"Y_test_o.pkl\")"
   ]
  },
  {
   "cell_type": "markdown",
   "metadata": {},
   "source": [
    "II Création d'un dataset avec les variables Origin et New et interactions entre catégorielles d'ordre 2<br>\n",
    "On peut aussi ajouter les interactions entre variables numériques "
   ]
  },
  {
   "cell_type": "markdown",
   "metadata": {},
   "source": [
    "On prend toutes les variables \"CO\", \"NO\", \"NN\" et \"CN\""
   ]
  },
  {
   "cell_type": "code",
   "execution_count": 360,
   "metadata": {},
   "outputs": [],
   "source": [
    "df = pd.read_csv(\"train.csv\")"
   ]
  },
  {
   "cell_type": "code",
   "execution_count": 361,
   "metadata": {},
   "outputs": [
    {
     "data": {
      "text/plain": [
       "['CO_month',\n",
       " 'datetime',\n",
       " 'CO_workingday',\n",
       " 'NO_temp',\n",
       " 'NO_atemp',\n",
       " 'NO_humidity',\n",
       " 'NO_windspeed',\n",
       " 'S_casual',\n",
       " 'S_registered',\n",
       " 'count',\n",
       " 'CO_hour',\n",
       " 'CO_day',\n",
       " 'CO_year',\n",
       " 'CO_season',\n",
       " 'CO_weather',\n",
       " 'CO_humidityQ',\n",
       " 'CO_tempQ',\n",
       " 'CO_atempQ',\n",
       " 'CO_windspeedQ',\n",
       " 'S_casualQ',\n",
       " 'S_registeredQ',\n",
       " 'CO_holiday',\n",
       " 'CN_school',\n",
       " 'NN_soleil',\n",
       " 'CN_soleilQ',\n",
       " 'NN_tendance_1',\n",
       " 'NN_tendance_2',\n",
       " 'CN_tendance_1Q',\n",
       " 'CN_tendance_2Q',\n",
       " 'S_rateregis',\n",
       " 'S_rateregisQ']"
      ]
     },
     "execution_count": 361,
     "metadata": {},
     "output_type": "execute_result"
    }
   ],
   "source": [
    "list(df)"
   ]
  },
  {
   "cell_type": "code",
   "execution_count": 362,
   "metadata": {},
   "outputs": [],
   "source": [
    "all_origin_var_and_new = [name_var for name_var in list(df) if name_var[0:2] == 'CO' or name_var[0:2] == 'NO' or name_var[0:2] == 'NN' or name_var[0:2] == 'CN']\n",
    "all_categorical = [name_var for name_var in list(df) if name_var[0:1] == 'C'] \n"
   ]
  },
  {
   "cell_type": "code",
   "execution_count": 363,
   "metadata": {},
   "outputs": [
    {
     "data": {
      "text/plain": [
       "16"
      ]
     },
     "execution_count": 363,
     "metadata": {},
     "output_type": "execute_result"
    }
   ],
   "source": [
    "len(all_categorical)"
   ]
  },
  {
   "cell_type": "code",
   "execution_count": 368,
   "metadata": {},
   "outputs": [
    {
     "data": {
      "text/plain": [
       "CO_month          object\n",
       "CO_workingday      int64\n",
       "CO_hour            int64\n",
       "CO_day            object\n",
       "CO_year            int64\n",
       "CO_season         object\n",
       "CO_weather        object\n",
       "CO_humidityQ      object\n",
       "CO_tempQ          object\n",
       "CO_atempQ         object\n",
       "CO_windspeedQ     object\n",
       "CO_holiday         int64\n",
       "CN_school          int64\n",
       "CN_soleilQ        object\n",
       "CN_tendance_1Q    object\n",
       "CN_tendance_2Q    object\n",
       "dtype: object"
      ]
     },
     "execution_count": 368,
     "metadata": {},
     "output_type": "execute_result"
    }
   ],
   "source": [
    "df[all_categorical].dtypes"
   ]
  },
  {
   "cell_type": "code",
   "execution_count": 397,
   "metadata": {},
   "outputs": [
    {
     "data": {
      "text/plain": [
       "['CO_month',\n",
       " 'CO_workingday',\n",
       " 'CO_hour',\n",
       " 'CO_day',\n",
       " 'CO_year',\n",
       " 'CO_season',\n",
       " 'CO_weather',\n",
       " 'CO_humidityQ',\n",
       " 'CO_tempQ',\n",
       " 'CO_atempQ',\n",
       " 'CO_windspeedQ',\n",
       " 'CO_holiday',\n",
       " 'CN_school',\n",
       " 'CN_soleilQ',\n",
       " 'CN_tendance_1Q',\n",
       " 'CN_tendance_2Q']"
      ]
     },
     "execution_count": 397,
     "metadata": {},
     "output_type": "execute_result"
    }
   ],
   "source": [
    "all_categorical"
   ]
  },
  {
   "cell_type": "code",
   "execution_count": 408,
   "metadata": {},
   "outputs": [],
   "source": [
    "df_all_categorical = df[all_categorical].applymap(str)\n",
    "# df_all_categorical.dtypes"
   ]
  },
  {
   "cell_type": "code",
   "execution_count": 409,
   "metadata": {},
   "outputs": [
    {
     "data": {
      "text/plain": [
       "(10886, 16)"
      ]
     },
     "execution_count": 409,
     "metadata": {},
     "output_type": "execute_result"
    }
   ],
   "source": [
    "df_all_categorical.shape"
   ]
  },
  {
   "cell_type": "code",
   "execution_count": 364,
   "metadata": {},
   "outputs": [
    {
     "data": {
      "text/plain": [
       "['CO_month',\n",
       " 'datetime',\n",
       " 'CO_workingday',\n",
       " 'NO_temp',\n",
       " 'NO_atemp',\n",
       " 'NO_humidity',\n",
       " 'NO_windspeed',\n",
       " 'S_casual',\n",
       " 'S_registered',\n",
       " 'count',\n",
       " 'CO_hour',\n",
       " 'CO_day',\n",
       " 'CO_year',\n",
       " 'CO_season',\n",
       " 'CO_weather',\n",
       " 'CO_humidityQ',\n",
       " 'CO_tempQ',\n",
       " 'CO_atempQ',\n",
       " 'CO_windspeedQ',\n",
       " 'S_casualQ',\n",
       " 'S_registeredQ',\n",
       " 'CO_holiday',\n",
       " 'CN_school',\n",
       " 'NN_soleil',\n",
       " 'CN_soleilQ',\n",
       " 'NN_tendance_1',\n",
       " 'NN_tendance_2',\n",
       " 'CN_tendance_1Q',\n",
       " 'CN_tendance_2Q',\n",
       " 'S_rateregis',\n",
       " 'S_rateregisQ']"
      ]
     },
     "execution_count": 364,
     "metadata": {},
     "output_type": "execute_result"
    }
   ],
   "source": [
    "list(df)"
   ]
  },
  {
   "cell_type": "code",
   "execution_count": 349,
   "metadata": {},
   "outputs": [
    {
     "data": {
      "text/plain": [
       "['CO_month',\n",
       " 'CO_workingday',\n",
       " 'NO_temp',\n",
       " 'NO_atemp',\n",
       " 'NO_humidity',\n",
       " 'NO_windspeed',\n",
       " 'CO_hour',\n",
       " 'CO_day',\n",
       " 'CO_year',\n",
       " 'CO_season',\n",
       " 'CO_weather',\n",
       " 'CO_humidityQ',\n",
       " 'CO_tempQ',\n",
       " 'CO_atempQ',\n",
       " 'CO_windspeedQ',\n",
       " 'CO_holiday',\n",
       " 'CN_school',\n",
       " 'NN_soleil',\n",
       " 'CN_soleilQ',\n",
       " 'NN_tendance_1',\n",
       " 'NN_tendance_2',\n",
       " 'CN_tendance_1Q',\n",
       " 'CN_tendance_2Q']"
      ]
     },
     "execution_count": 349,
     "metadata": {},
     "output_type": "execute_result"
    }
   ],
   "source": [
    "all_origin_var_and_new"
   ]
  },
  {
   "cell_type": "code",
   "execution_count": 350,
   "metadata": {},
   "outputs": [],
   "source": [
    "# df_all_categorical = df[all_categorical].applymap(str)\n",
    "# df_all_categorical.dtypes"
   ]
  },
  {
   "cell_type": "markdown",
   "metadata": {},
   "source": [
    "Ajout des interactions d'ordre 2 entre variables catégorielles "
   ]
  },
  {
   "cell_type": "code",
   "execution_count": 302,
   "metadata": {},
   "outputs": [],
   "source": [
    "# df[all_categorical].head()"
   ]
  },
  {
   "cell_type": "code",
   "execution_count": 388,
   "metadata": {},
   "outputs": [],
   "source": [
    "# def interaction_order(df,list_of_categ_var, order, only_ordre):\n",
    "def interaction_order(df,list_of_categ_var, order):\n",
    "    \n",
    "    initial_list_df = list_of_categ_var\n",
    "\n",
    "    # if only_ordre == True:\n",
    "    all_interactions = list(combinations(list_of_categ_var,order))\n",
    "\n",
    "    # print (\"Nb d'interactions\", len(all_interactions))\n",
    "    # print (\"Interaction entre : \", all_interactions)\n",
    "\n",
    "    for i in range(0, len(all_interactions)):\n",
    "        # all_inter_variables = []\n",
    "        # print (list(all_interactions[i]))\n",
    "\n",
    "        for each in list(all_interactions[i]):\n",
    "            # New columns of interaction\n",
    "            for each in range(0,order):\n",
    "\n",
    "                # Name of interaction variables\n",
    "                # var_inter_name = 'inter_' + str(i)\n",
    "                \n",
    "                var_inter_name = \"_+_\".join(list(all_interactions[i]))\n",
    "\n",
    "                # df[var_inter_name] = df[list(all_interactions[i])[0]] + '_' + df[list(all_interactions[i])[1]]\n",
    "                if each == 0:\n",
    "                    # print (\"each\", each)\n",
    "                    \n",
    "                    # print (var_inter_name)\n",
    "                    df[var_inter_name] = df[list(all_interactions[i])[each]]\n",
    "                else:\n",
    "                    df[var_inter_name] = df[var_inter_name] + '_' + df[list(all_interactions[i])[each]]\n",
    "\n",
    "                # all_inter_variables.append(var_inter_name)\n",
    "                # print (all_inter_variables)\n",
    "\n",
    "    # Keep only interaction variables in the dataframe\n",
    "    print (initial_list_df)\n",
    "    df = df.drop(initial_list_df, axis=1)\n",
    "    # df = df[all_inter_variables]\n",
    "    return df"
   ]
  },
  {
   "cell_type": "code",
   "execution_count": 389,
   "metadata": {},
   "outputs": [
    {
     "data": {
      "text/plain": [
       "(10886, 31)"
      ]
     },
     "execution_count": 389,
     "metadata": {},
     "output_type": "execute_result"
    }
   ],
   "source": [
    "df.shape"
   ]
  },
  {
   "cell_type": "code",
   "execution_count": 390,
   "metadata": {},
   "outputs": [
    {
     "data": {
      "text/plain": [
       "['CO_month',\n",
       " 'CO_workingday',\n",
       " 'CO_hour',\n",
       " 'CO_day',\n",
       " 'CO_year',\n",
       " 'CO_season',\n",
       " 'CO_weather',\n",
       " 'CO_humidityQ',\n",
       " 'CO_tempQ',\n",
       " 'CO_atempQ',\n",
       " 'CO_windspeedQ',\n",
       " 'CO_holiday',\n",
       " 'CN_school',\n",
       " 'CN_soleilQ',\n",
       " 'CN_tendance_1Q',\n",
       " 'CN_tendance_2Q']"
      ]
     },
     "execution_count": 390,
     "metadata": {},
     "output_type": "execute_result"
    }
   ],
   "source": [
    "all_categorical"
   ]
  },
  {
   "cell_type": "code",
   "execution_count": 402,
   "metadata": {},
   "outputs": [
    {
     "data": {
      "text/plain": [
       "16"
      ]
     },
     "execution_count": 402,
     "metadata": {},
     "output_type": "execute_result"
    }
   ],
   "source": [
    "len(all_categorical)"
   ]
  },
  {
   "cell_type": "code",
   "execution_count": 401,
   "metadata": {},
   "outputs": [
    {
     "name": "stdout",
     "output_type": "stream",
     "text": [
      "['CO_month', 'CO_workingday', 'CO_hour', 'CO_day', 'CO_year', 'CO_season', 'CO_weather', 'CO_humidityQ', 'CO_tempQ', 'CO_atempQ', 'CO_windspeedQ', 'CO_holiday', 'CN_school', 'CN_soleilQ', 'CN_tendance_1Q', 'CN_tendance_2Q']\n"
     ]
    }
   ],
   "source": [
    "list_of_categ_var = all_categorical\n",
    "df_with_interaction = interaction_order(df_all_categorical,list_of_categ_var, 2)"
   ]
  },
  {
   "cell_type": "code",
   "execution_count": 403,
   "metadata": {},
   "outputs": [
    {
     "data": {
      "text/html": [
       "<div>\n",
       "<style scoped>\n",
       "    .dataframe tbody tr th:only-of-type {\n",
       "        vertical-align: middle;\n",
       "    }\n",
       "\n",
       "    .dataframe tbody tr th {\n",
       "        vertical-align: top;\n",
       "    }\n",
       "\n",
       "    .dataframe thead th {\n",
       "        text-align: right;\n",
       "    }\n",
       "</style>\n",
       "<table border=\"1\" class=\"dataframe\">\n",
       "  <thead>\n",
       "    <tr style=\"text-align: right;\">\n",
       "      <th></th>\n",
       "      <th>CO_month_+_CO_workingday</th>\n",
       "      <th>CO_month_+_CO_hour</th>\n",
       "      <th>CO_month_+_CO_day</th>\n",
       "      <th>CO_month_+_CO_year</th>\n",
       "      <th>CO_month_+_CO_season</th>\n",
       "      <th>CO_month_+_CO_weather</th>\n",
       "      <th>CO_month_+_CO_humidityQ</th>\n",
       "      <th>CO_month_+_CO_tempQ</th>\n",
       "      <th>CO_month_+_CO_atempQ</th>\n",
       "      <th>CO_month_+_CO_windspeedQ</th>\n",
       "      <th>...</th>\n",
       "      <th>CO_holiday_+_CN_school</th>\n",
       "      <th>CO_holiday_+_CN_soleilQ</th>\n",
       "      <th>CO_holiday_+_CN_tendance_1Q</th>\n",
       "      <th>CO_holiday_+_CN_tendance_2Q</th>\n",
       "      <th>CN_school_+_CN_soleilQ</th>\n",
       "      <th>CN_school_+_CN_tendance_1Q</th>\n",
       "      <th>CN_school_+_CN_tendance_2Q</th>\n",
       "      <th>CN_soleilQ_+_CN_tendance_1Q</th>\n",
       "      <th>CN_soleilQ_+_CN_tendance_2Q</th>\n",
       "      <th>CN_tendance_1Q_+_CN_tendance_2Q</th>\n",
       "    </tr>\n",
       "  </thead>\n",
       "  <tbody>\n",
       "    <tr>\n",
       "      <th>0</th>\n",
       "      <td>January_0</td>\n",
       "      <td>January_0</td>\n",
       "      <td>January_Saturday</td>\n",
       "      <td>January_2011</td>\n",
       "      <td>January_Printemps</td>\n",
       "      <td>January_Beau temps</td>\n",
       "      <td>January_(77,100]</td>\n",
       "      <td>January_[0.82,13.9]</td>\n",
       "      <td>January_[0.76,16.7]</td>\n",
       "      <td>January_[0,7]</td>\n",
       "      <td>...</td>\n",
       "      <td>1_0</td>\n",
       "      <td>1_[-74.5,-28]</td>\n",
       "      <td>1_[0.409,0.432]</td>\n",
       "      <td>1_[0,67]</td>\n",
       "      <td>0_[-74.5,-28]</td>\n",
       "      <td>0_[0.409,0.432]</td>\n",
       "      <td>0_[0,67]</td>\n",
       "      <td>[-74.5,-28]_[0.409,0.432]</td>\n",
       "      <td>[-74.5,-28]_[0,67]</td>\n",
       "      <td>[0.409,0.432]_[0,67]</td>\n",
       "    </tr>\n",
       "    <tr>\n",
       "      <th>1</th>\n",
       "      <td>January_0</td>\n",
       "      <td>January_1</td>\n",
       "      <td>January_Saturday</td>\n",
       "      <td>January_2011</td>\n",
       "      <td>January_Printemps</td>\n",
       "      <td>January_Beau temps</td>\n",
       "      <td>January_(77,100]</td>\n",
       "      <td>January_[0.82,13.9]</td>\n",
       "      <td>January_[0.76,16.7]</td>\n",
       "      <td>January_[0,7]</td>\n",
       "      <td>...</td>\n",
       "      <td>1_0</td>\n",
       "      <td>1_[-74.5,-28]</td>\n",
       "      <td>1_[0.409,0.432]</td>\n",
       "      <td>1_[0,67]</td>\n",
       "      <td>0_[-74.5,-28]</td>\n",
       "      <td>0_[0.409,0.432]</td>\n",
       "      <td>0_[0,67]</td>\n",
       "      <td>[-74.5,-28]_[0.409,0.432]</td>\n",
       "      <td>[-74.5,-28]_[0,67]</td>\n",
       "      <td>[0.409,0.432]_[0,67]</td>\n",
       "    </tr>\n",
       "    <tr>\n",
       "      <th>2</th>\n",
       "      <td>January_0</td>\n",
       "      <td>January_2</td>\n",
       "      <td>January_Saturday</td>\n",
       "      <td>January_2011</td>\n",
       "      <td>January_Printemps</td>\n",
       "      <td>January_Beau temps</td>\n",
       "      <td>January_(77,100]</td>\n",
       "      <td>January_[0.82,13.9]</td>\n",
       "      <td>January_[0.76,16.7]</td>\n",
       "      <td>January_[0,7]</td>\n",
       "      <td>...</td>\n",
       "      <td>1_0</td>\n",
       "      <td>1_[-74.5,-28]</td>\n",
       "      <td>1_[0.409,0.432]</td>\n",
       "      <td>1_[0,67]</td>\n",
       "      <td>0_[-74.5,-28]</td>\n",
       "      <td>0_[0.409,0.432]</td>\n",
       "      <td>0_[0,67]</td>\n",
       "      <td>[-74.5,-28]_[0.409,0.432]</td>\n",
       "      <td>[-74.5,-28]_[0,67]</td>\n",
       "      <td>[0.409,0.432]_[0,67]</td>\n",
       "    </tr>\n",
       "    <tr>\n",
       "      <th>3</th>\n",
       "      <td>January_0</td>\n",
       "      <td>January_3</td>\n",
       "      <td>January_Saturday</td>\n",
       "      <td>January_2011</td>\n",
       "      <td>January_Printemps</td>\n",
       "      <td>January_Beau temps</td>\n",
       "      <td>January_(62,77]</td>\n",
       "      <td>January_[0.82,13.9]</td>\n",
       "      <td>January_[0.76,16.7]</td>\n",
       "      <td>January_[0,7]</td>\n",
       "      <td>...</td>\n",
       "      <td>1_0</td>\n",
       "      <td>1_[-74.5,-28]</td>\n",
       "      <td>1_[0.409,0.432]</td>\n",
       "      <td>1_[0,67]</td>\n",
       "      <td>0_[-74.5,-28]</td>\n",
       "      <td>0_[0.409,0.432]</td>\n",
       "      <td>0_[0,67]</td>\n",
       "      <td>[-74.5,-28]_[0.409,0.432]</td>\n",
       "      <td>[-74.5,-28]_[0,67]</td>\n",
       "      <td>[0.409,0.432]_[0,67]</td>\n",
       "    </tr>\n",
       "    <tr>\n",
       "      <th>4</th>\n",
       "      <td>January_0</td>\n",
       "      <td>January_4</td>\n",
       "      <td>January_Saturday</td>\n",
       "      <td>January_2011</td>\n",
       "      <td>January_Printemps</td>\n",
       "      <td>January_Beau temps</td>\n",
       "      <td>January_(62,77]</td>\n",
       "      <td>January_[0.82,13.9]</td>\n",
       "      <td>January_[0.76,16.7]</td>\n",
       "      <td>January_[0,7]</td>\n",
       "      <td>...</td>\n",
       "      <td>1_0</td>\n",
       "      <td>1_[-74.5,-28]</td>\n",
       "      <td>1_[0.409,0.432]</td>\n",
       "      <td>1_[0,67]</td>\n",
       "      <td>0_[-74.5,-28]</td>\n",
       "      <td>0_[0.409,0.432]</td>\n",
       "      <td>0_[0,67]</td>\n",
       "      <td>[-74.5,-28]_[0.409,0.432]</td>\n",
       "      <td>[-74.5,-28]_[0,67]</td>\n",
       "      <td>[0.409,0.432]_[0,67]</td>\n",
       "    </tr>\n",
       "  </tbody>\n",
       "</table>\n",
       "<p>5 rows × 120 columns</p>\n",
       "</div>"
      ],
      "text/plain": [
       "  CO_month_+_CO_workingday CO_month_+_CO_hour CO_month_+_CO_day  \\\n",
       "0                January_0          January_0  January_Saturday   \n",
       "1                January_0          January_1  January_Saturday   \n",
       "2                January_0          January_2  January_Saturday   \n",
       "3                January_0          January_3  January_Saturday   \n",
       "4                January_0          January_4  January_Saturday   \n",
       "\n",
       "  CO_month_+_CO_year CO_month_+_CO_season CO_month_+_CO_weather  \\\n",
       "0       January_2011    January_Printemps    January_Beau temps   \n",
       "1       January_2011    January_Printemps    January_Beau temps   \n",
       "2       January_2011    January_Printemps    January_Beau temps   \n",
       "3       January_2011    January_Printemps    January_Beau temps   \n",
       "4       January_2011    January_Printemps    January_Beau temps   \n",
       "\n",
       "  CO_month_+_CO_humidityQ  CO_month_+_CO_tempQ CO_month_+_CO_atempQ  \\\n",
       "0        January_(77,100]  January_[0.82,13.9]  January_[0.76,16.7]   \n",
       "1        January_(77,100]  January_[0.82,13.9]  January_[0.76,16.7]   \n",
       "2        January_(77,100]  January_[0.82,13.9]  January_[0.76,16.7]   \n",
       "3         January_(62,77]  January_[0.82,13.9]  January_[0.76,16.7]   \n",
       "4         January_(62,77]  January_[0.82,13.9]  January_[0.76,16.7]   \n",
       "\n",
       "  CO_month_+_CO_windspeedQ  ... CO_holiday_+_CN_school  \\\n",
       "0            January_[0,7]  ...                    1_0   \n",
       "1            January_[0,7]  ...                    1_0   \n",
       "2            January_[0,7]  ...                    1_0   \n",
       "3            January_[0,7]  ...                    1_0   \n",
       "4            January_[0,7]  ...                    1_0   \n",
       "\n",
       "  CO_holiday_+_CN_soleilQ CO_holiday_+_CN_tendance_1Q  \\\n",
       "0           1_[-74.5,-28]             1_[0.409,0.432]   \n",
       "1           1_[-74.5,-28]             1_[0.409,0.432]   \n",
       "2           1_[-74.5,-28]             1_[0.409,0.432]   \n",
       "3           1_[-74.5,-28]             1_[0.409,0.432]   \n",
       "4           1_[-74.5,-28]             1_[0.409,0.432]   \n",
       "\n",
       "  CO_holiday_+_CN_tendance_2Q CN_school_+_CN_soleilQ  \\\n",
       "0                    1_[0,67]          0_[-74.5,-28]   \n",
       "1                    1_[0,67]          0_[-74.5,-28]   \n",
       "2                    1_[0,67]          0_[-74.5,-28]   \n",
       "3                    1_[0,67]          0_[-74.5,-28]   \n",
       "4                    1_[0,67]          0_[-74.5,-28]   \n",
       "\n",
       "  CN_school_+_CN_tendance_1Q CN_school_+_CN_tendance_2Q  \\\n",
       "0            0_[0.409,0.432]                   0_[0,67]   \n",
       "1            0_[0.409,0.432]                   0_[0,67]   \n",
       "2            0_[0.409,0.432]                   0_[0,67]   \n",
       "3            0_[0.409,0.432]                   0_[0,67]   \n",
       "4            0_[0.409,0.432]                   0_[0,67]   \n",
       "\n",
       "  CN_soleilQ_+_CN_tendance_1Q CN_soleilQ_+_CN_tendance_2Q  \\\n",
       "0   [-74.5,-28]_[0.409,0.432]          [-74.5,-28]_[0,67]   \n",
       "1   [-74.5,-28]_[0.409,0.432]          [-74.5,-28]_[0,67]   \n",
       "2   [-74.5,-28]_[0.409,0.432]          [-74.5,-28]_[0,67]   \n",
       "3   [-74.5,-28]_[0.409,0.432]          [-74.5,-28]_[0,67]   \n",
       "4   [-74.5,-28]_[0.409,0.432]          [-74.5,-28]_[0,67]   \n",
       "\n",
       "  CN_tendance_1Q_+_CN_tendance_2Q  \n",
       "0            [0.409,0.432]_[0,67]  \n",
       "1            [0.409,0.432]_[0,67]  \n",
       "2            [0.409,0.432]_[0,67]  \n",
       "3            [0.409,0.432]_[0,67]  \n",
       "4            [0.409,0.432]_[0,67]  \n",
       "\n",
       "[5 rows x 120 columns]"
      ]
     },
     "execution_count": 403,
     "metadata": {},
     "output_type": "execute_result"
    }
   ],
   "source": [
    "df_with_interaction.head()"
   ]
  },
  {
   "cell_type": "code",
   "execution_count": 250,
   "metadata": {},
   "outputs": [
    {
     "data": {
      "text/plain": [
       "23"
      ]
     },
     "execution_count": 250,
     "metadata": {},
     "output_type": "execute_result"
    }
   ],
   "source": [
    "# len(all_origin_var_and_new)\n"
   ]
  },
  {
   "cell_type": "code",
   "execution_count": 404,
   "metadata": {},
   "outputs": [
    {
     "data": {
      "text/plain": [
       "['CO_month_+_CO_workingday',\n",
       " 'CO_month_+_CO_hour',\n",
       " 'CO_month_+_CO_day',\n",
       " 'CO_month_+_CO_year',\n",
       " 'CO_month_+_CO_season']"
      ]
     },
     "execution_count": 404,
     "metadata": {},
     "output_type": "execute_result"
    }
   ],
   "source": [
    "# len(list(df_with_interaction))\n",
    "list(df_with_interaction)[0:5]"
   ]
  },
  {
   "cell_type": "code",
   "execution_count": 405,
   "metadata": {},
   "outputs": [
    {
     "data": {
      "text/html": [
       "<div>\n",
       "<style scoped>\n",
       "    .dataframe tbody tr th:only-of-type {\n",
       "        vertical-align: middle;\n",
       "    }\n",
       "\n",
       "    .dataframe tbody tr th {\n",
       "        vertical-align: top;\n",
       "    }\n",
       "\n",
       "    .dataframe thead th {\n",
       "        text-align: right;\n",
       "    }\n",
       "</style>\n",
       "<table border=\"1\" class=\"dataframe\">\n",
       "  <thead>\n",
       "    <tr style=\"text-align: right;\">\n",
       "      <th></th>\n",
       "      <th>CO_month_+_CO_season</th>\n",
       "    </tr>\n",
       "  </thead>\n",
       "  <tbody>\n",
       "    <tr>\n",
       "      <th>0</th>\n",
       "      <td>January_Printemps</td>\n",
       "    </tr>\n",
       "    <tr>\n",
       "      <th>1</th>\n",
       "      <td>January_Printemps</td>\n",
       "    </tr>\n",
       "    <tr>\n",
       "      <th>2</th>\n",
       "      <td>January_Printemps</td>\n",
       "    </tr>\n",
       "    <tr>\n",
       "      <th>3</th>\n",
       "      <td>January_Printemps</td>\n",
       "    </tr>\n",
       "    <tr>\n",
       "      <th>4</th>\n",
       "      <td>January_Printemps</td>\n",
       "    </tr>\n",
       "  </tbody>\n",
       "</table>\n",
       "</div>"
      ],
      "text/plain": [
       "  CO_month_+_CO_season\n",
       "0    January_Printemps\n",
       "1    January_Printemps\n",
       "2    January_Printemps\n",
       "3    January_Printemps\n",
       "4    January_Printemps"
      ]
     },
     "execution_count": 405,
     "metadata": {},
     "output_type": "execute_result"
    }
   ],
   "source": [
    "df_with_interaction[[\"CO_month_+_CO_season\"]].head()"
   ]
  },
  {
   "cell_type": "code",
   "execution_count": 406,
   "metadata": {},
   "outputs": [],
   "source": [
    "all_categorical_new = all_categorical + list(df_with_interaction)\n"
   ]
  },
  {
   "cell_type": "code",
   "execution_count": 385,
   "metadata": {},
   "outputs": [
    {
     "data": {
      "text/plain": [
       "(10886, 120)"
      ]
     },
     "execution_count": 385,
     "metadata": {},
     "output_type": "execute_result"
    }
   ],
   "source": [
    "df_with_interaction.shape"
   ]
  },
  {
   "cell_type": "code",
   "execution_count": 410,
   "metadata": {},
   "outputs": [
    {
     "data": {
      "text/plain": [
       "(10886, 16)"
      ]
     },
     "execution_count": 410,
     "metadata": {},
     "output_type": "execute_result"
    }
   ],
   "source": [
    "df_all_categorical.shape"
   ]
  },
  {
   "cell_type": "code",
   "execution_count": null,
   "metadata": {},
   "outputs": [],
   "source": [
    "# A RELANCER AU CAS OU\n",
    "# df_all_categorical = df[all_categorical].applymap(str)"
   ]
  },
  {
   "cell_type": "code",
   "execution_count": 411,
   "metadata": {},
   "outputs": [],
   "source": [
    "df_before_dummies = pd.concat([df_all_categorical,df_with_interaction], axis = 1)"
   ]
  },
  {
   "cell_type": "code",
   "execution_count": 412,
   "metadata": {},
   "outputs": [
    {
     "data": {
      "text/plain": [
       "(10886, 136)"
      ]
     },
     "execution_count": 412,
     "metadata": {},
     "output_type": "execute_result"
    }
   ],
   "source": [
    "df_before_dummies.shape"
   ]
  },
  {
   "cell_type": "code",
   "execution_count": 413,
   "metadata": {},
   "outputs": [
    {
     "data": {
      "text/html": [
       "<div>\n",
       "<style scoped>\n",
       "    .dataframe tbody tr th:only-of-type {\n",
       "        vertical-align: middle;\n",
       "    }\n",
       "\n",
       "    .dataframe tbody tr th {\n",
       "        vertical-align: top;\n",
       "    }\n",
       "\n",
       "    .dataframe thead th {\n",
       "        text-align: right;\n",
       "    }\n",
       "</style>\n",
       "<table border=\"1\" class=\"dataframe\">\n",
       "  <thead>\n",
       "    <tr style=\"text-align: right;\">\n",
       "      <th></th>\n",
       "      <th>CO_month</th>\n",
       "      <th>CO_workingday</th>\n",
       "      <th>CO_hour</th>\n",
       "      <th>CO_day</th>\n",
       "      <th>CO_year</th>\n",
       "      <th>CO_season</th>\n",
       "      <th>CO_weather</th>\n",
       "      <th>CO_humidityQ</th>\n",
       "      <th>CO_tempQ</th>\n",
       "      <th>CO_atempQ</th>\n",
       "      <th>...</th>\n",
       "      <th>CO_holiday_+_CN_school</th>\n",
       "      <th>CO_holiday_+_CN_soleilQ</th>\n",
       "      <th>CO_holiday_+_CN_tendance_1Q</th>\n",
       "      <th>CO_holiday_+_CN_tendance_2Q</th>\n",
       "      <th>CN_school_+_CN_soleilQ</th>\n",
       "      <th>CN_school_+_CN_tendance_1Q</th>\n",
       "      <th>CN_school_+_CN_tendance_2Q</th>\n",
       "      <th>CN_soleilQ_+_CN_tendance_1Q</th>\n",
       "      <th>CN_soleilQ_+_CN_tendance_2Q</th>\n",
       "      <th>CN_tendance_1Q_+_CN_tendance_2Q</th>\n",
       "    </tr>\n",
       "  </thead>\n",
       "  <tbody>\n",
       "    <tr>\n",
       "      <th>0</th>\n",
       "      <td>January</td>\n",
       "      <td>0</td>\n",
       "      <td>0</td>\n",
       "      <td>Saturday</td>\n",
       "      <td>2011</td>\n",
       "      <td>Printemps</td>\n",
       "      <td>Beau temps</td>\n",
       "      <td>(77,100]</td>\n",
       "      <td>[0.82,13.9]</td>\n",
       "      <td>[0.76,16.7]</td>\n",
       "      <td>...</td>\n",
       "      <td>1_0</td>\n",
       "      <td>1_[-74.5,-28]</td>\n",
       "      <td>1_[0.409,0.432]</td>\n",
       "      <td>1_[0,67]</td>\n",
       "      <td>0_[-74.5,-28]</td>\n",
       "      <td>0_[0.409,0.432]</td>\n",
       "      <td>0_[0,67]</td>\n",
       "      <td>[-74.5,-28]_[0.409,0.432]</td>\n",
       "      <td>[-74.5,-28]_[0,67]</td>\n",
       "      <td>[0.409,0.432]_[0,67]</td>\n",
       "    </tr>\n",
       "    <tr>\n",
       "      <th>1</th>\n",
       "      <td>January</td>\n",
       "      <td>0</td>\n",
       "      <td>1</td>\n",
       "      <td>Saturday</td>\n",
       "      <td>2011</td>\n",
       "      <td>Printemps</td>\n",
       "      <td>Beau temps</td>\n",
       "      <td>(77,100]</td>\n",
       "      <td>[0.82,13.9]</td>\n",
       "      <td>[0.76,16.7]</td>\n",
       "      <td>...</td>\n",
       "      <td>1_0</td>\n",
       "      <td>1_[-74.5,-28]</td>\n",
       "      <td>1_[0.409,0.432]</td>\n",
       "      <td>1_[0,67]</td>\n",
       "      <td>0_[-74.5,-28]</td>\n",
       "      <td>0_[0.409,0.432]</td>\n",
       "      <td>0_[0,67]</td>\n",
       "      <td>[-74.5,-28]_[0.409,0.432]</td>\n",
       "      <td>[-74.5,-28]_[0,67]</td>\n",
       "      <td>[0.409,0.432]_[0,67]</td>\n",
       "    </tr>\n",
       "    <tr>\n",
       "      <th>2</th>\n",
       "      <td>January</td>\n",
       "      <td>0</td>\n",
       "      <td>2</td>\n",
       "      <td>Saturday</td>\n",
       "      <td>2011</td>\n",
       "      <td>Printemps</td>\n",
       "      <td>Beau temps</td>\n",
       "      <td>(77,100]</td>\n",
       "      <td>[0.82,13.9]</td>\n",
       "      <td>[0.76,16.7]</td>\n",
       "      <td>...</td>\n",
       "      <td>1_0</td>\n",
       "      <td>1_[-74.5,-28]</td>\n",
       "      <td>1_[0.409,0.432]</td>\n",
       "      <td>1_[0,67]</td>\n",
       "      <td>0_[-74.5,-28]</td>\n",
       "      <td>0_[0.409,0.432]</td>\n",
       "      <td>0_[0,67]</td>\n",
       "      <td>[-74.5,-28]_[0.409,0.432]</td>\n",
       "      <td>[-74.5,-28]_[0,67]</td>\n",
       "      <td>[0.409,0.432]_[0,67]</td>\n",
       "    </tr>\n",
       "    <tr>\n",
       "      <th>3</th>\n",
       "      <td>January</td>\n",
       "      <td>0</td>\n",
       "      <td>3</td>\n",
       "      <td>Saturday</td>\n",
       "      <td>2011</td>\n",
       "      <td>Printemps</td>\n",
       "      <td>Beau temps</td>\n",
       "      <td>(62,77]</td>\n",
       "      <td>[0.82,13.9]</td>\n",
       "      <td>[0.76,16.7]</td>\n",
       "      <td>...</td>\n",
       "      <td>1_0</td>\n",
       "      <td>1_[-74.5,-28]</td>\n",
       "      <td>1_[0.409,0.432]</td>\n",
       "      <td>1_[0,67]</td>\n",
       "      <td>0_[-74.5,-28]</td>\n",
       "      <td>0_[0.409,0.432]</td>\n",
       "      <td>0_[0,67]</td>\n",
       "      <td>[-74.5,-28]_[0.409,0.432]</td>\n",
       "      <td>[-74.5,-28]_[0,67]</td>\n",
       "      <td>[0.409,0.432]_[0,67]</td>\n",
       "    </tr>\n",
       "    <tr>\n",
       "      <th>4</th>\n",
       "      <td>January</td>\n",
       "      <td>0</td>\n",
       "      <td>4</td>\n",
       "      <td>Saturday</td>\n",
       "      <td>2011</td>\n",
       "      <td>Printemps</td>\n",
       "      <td>Beau temps</td>\n",
       "      <td>(62,77]</td>\n",
       "      <td>[0.82,13.9]</td>\n",
       "      <td>[0.76,16.7]</td>\n",
       "      <td>...</td>\n",
       "      <td>1_0</td>\n",
       "      <td>1_[-74.5,-28]</td>\n",
       "      <td>1_[0.409,0.432]</td>\n",
       "      <td>1_[0,67]</td>\n",
       "      <td>0_[-74.5,-28]</td>\n",
       "      <td>0_[0.409,0.432]</td>\n",
       "      <td>0_[0,67]</td>\n",
       "      <td>[-74.5,-28]_[0.409,0.432]</td>\n",
       "      <td>[-74.5,-28]_[0,67]</td>\n",
       "      <td>[0.409,0.432]_[0,67]</td>\n",
       "    </tr>\n",
       "  </tbody>\n",
       "</table>\n",
       "<p>5 rows × 136 columns</p>\n",
       "</div>"
      ],
      "text/plain": [
       "  CO_month CO_workingday CO_hour    CO_day CO_year  CO_season  CO_weather  \\\n",
       "0  January             0       0  Saturday    2011  Printemps  Beau temps   \n",
       "1  January             0       1  Saturday    2011  Printemps  Beau temps   \n",
       "2  January             0       2  Saturday    2011  Printemps  Beau temps   \n",
       "3  January             0       3  Saturday    2011  Printemps  Beau temps   \n",
       "4  January             0       4  Saturday    2011  Printemps  Beau temps   \n",
       "\n",
       "  CO_humidityQ     CO_tempQ    CO_atempQ  ... CO_holiday_+_CN_school  \\\n",
       "0     (77,100]  [0.82,13.9]  [0.76,16.7]  ...                    1_0   \n",
       "1     (77,100]  [0.82,13.9]  [0.76,16.7]  ...                    1_0   \n",
       "2     (77,100]  [0.82,13.9]  [0.76,16.7]  ...                    1_0   \n",
       "3      (62,77]  [0.82,13.9]  [0.76,16.7]  ...                    1_0   \n",
       "4      (62,77]  [0.82,13.9]  [0.76,16.7]  ...                    1_0   \n",
       "\n",
       "  CO_holiday_+_CN_soleilQ CO_holiday_+_CN_tendance_1Q  \\\n",
       "0           1_[-74.5,-28]             1_[0.409,0.432]   \n",
       "1           1_[-74.5,-28]             1_[0.409,0.432]   \n",
       "2           1_[-74.5,-28]             1_[0.409,0.432]   \n",
       "3           1_[-74.5,-28]             1_[0.409,0.432]   \n",
       "4           1_[-74.5,-28]             1_[0.409,0.432]   \n",
       "\n",
       "  CO_holiday_+_CN_tendance_2Q CN_school_+_CN_soleilQ  \\\n",
       "0                    1_[0,67]          0_[-74.5,-28]   \n",
       "1                    1_[0,67]          0_[-74.5,-28]   \n",
       "2                    1_[0,67]          0_[-74.5,-28]   \n",
       "3                    1_[0,67]          0_[-74.5,-28]   \n",
       "4                    1_[0,67]          0_[-74.5,-28]   \n",
       "\n",
       "  CN_school_+_CN_tendance_1Q CN_school_+_CN_tendance_2Q  \\\n",
       "0            0_[0.409,0.432]                   0_[0,67]   \n",
       "1            0_[0.409,0.432]                   0_[0,67]   \n",
       "2            0_[0.409,0.432]                   0_[0,67]   \n",
       "3            0_[0.409,0.432]                   0_[0,67]   \n",
       "4            0_[0.409,0.432]                   0_[0,67]   \n",
       "\n",
       "  CN_soleilQ_+_CN_tendance_1Q CN_soleilQ_+_CN_tendance_2Q  \\\n",
       "0   [-74.5,-28]_[0.409,0.432]          [-74.5,-28]_[0,67]   \n",
       "1   [-74.5,-28]_[0.409,0.432]          [-74.5,-28]_[0,67]   \n",
       "2   [-74.5,-28]_[0.409,0.432]          [-74.5,-28]_[0,67]   \n",
       "3   [-74.5,-28]_[0.409,0.432]          [-74.5,-28]_[0,67]   \n",
       "4   [-74.5,-28]_[0.409,0.432]          [-74.5,-28]_[0,67]   \n",
       "\n",
       "  CN_tendance_1Q_+_CN_tendance_2Q  \n",
       "0            [0.409,0.432]_[0,67]  \n",
       "1            [0.409,0.432]_[0,67]  \n",
       "2            [0.409,0.432]_[0,67]  \n",
       "3            [0.409,0.432]_[0,67]  \n",
       "4            [0.409,0.432]_[0,67]  \n",
       "\n",
       "[5 rows x 136 columns]"
      ]
     },
     "execution_count": 413,
     "metadata": {},
     "output_type": "execute_result"
    }
   ],
   "source": [
    "# len(list(df_before_dummies))\n",
    "df_before_dummies.head()"
   ]
  },
  {
   "cell_type": "code",
   "execution_count": 414,
   "metadata": {},
   "outputs": [],
   "source": [
    "# Transformation de toutes les variables catégorielles:\n",
    "df_all_dummies = pd.get_dummies(df_before_dummies)"
   ]
  },
  {
   "cell_type": "code",
   "execution_count": 284,
   "metadata": {},
   "outputs": [
    {
     "data": {
      "text/plain": [
       "False"
      ]
     },
     "execution_count": 284,
     "metadata": {},
     "output_type": "execute_result"
    }
   ],
   "source": [
    "# len(list(df_all_dummies))\n",
    "# \"CO_holiday_+_CN_soleilQ\" in list(df_all_dummies)\n",
    "# \"CO_day\" in list(df_all_dummies)"
   ]
  },
  {
   "cell_type": "code",
   "execution_count": 415,
   "metadata": {},
   "outputs": [
    {
     "data": {
      "text/html": [
       "<div>\n",
       "<style scoped>\n",
       "    .dataframe tbody tr th:only-of-type {\n",
       "        vertical-align: middle;\n",
       "    }\n",
       "\n",
       "    .dataframe tbody tr th {\n",
       "        vertical-align: top;\n",
       "    }\n",
       "\n",
       "    .dataframe thead th {\n",
       "        text-align: right;\n",
       "    }\n",
       "</style>\n",
       "<table border=\"1\" class=\"dataframe\">\n",
       "  <thead>\n",
       "    <tr style=\"text-align: right;\">\n",
       "      <th></th>\n",
       "      <th>CO_month_April</th>\n",
       "      <th>CO_month_August</th>\n",
       "      <th>CO_month_December</th>\n",
       "      <th>CO_month_February</th>\n",
       "      <th>CO_month_January</th>\n",
       "      <th>CO_month_July</th>\n",
       "      <th>CO_month_June</th>\n",
       "      <th>CO_month_March</th>\n",
       "      <th>CO_month_May</th>\n",
       "      <th>CO_month_November</th>\n",
       "      <th>...</th>\n",
       "      <th>CN_tendance_1Q_+_CN_tendance_2Q_(1.49,1.56]_(582,650]</th>\n",
       "      <th>CN_tendance_1Q_+_CN_tendance_2Q_(1.56,1.69]_(582,650]</th>\n",
       "      <th>CN_tendance_1Q_+_CN_tendance_2Q_(1.56,1.69]_(650,718]</th>\n",
       "      <th>CN_tendance_1Q_+_CN_tendance_2Q_(1.69,2.31]_(365,433]</th>\n",
       "      <th>CN_tendance_1Q_+_CN_tendance_2Q_(1.69,2.31]_(433,501]</th>\n",
       "      <th>CN_tendance_1Q_+_CN_tendance_2Q_(2.31,2.45]_(285,365]</th>\n",
       "      <th>CN_tendance_1Q_+_CN_tendance_2Q_(2.31,2.45]_(365,433]</th>\n",
       "      <th>CN_tendance_1Q_+_CN_tendance_2Q_(2.31,2.45]_(433,501]</th>\n",
       "      <th>CN_tendance_1Q_+_CN_tendance_2Q_[0.409,0.432]_(67,136]</th>\n",
       "      <th>CN_tendance_1Q_+_CN_tendance_2Q_[0.409,0.432]_[0,67]</th>\n",
       "    </tr>\n",
       "  </thead>\n",
       "  <tbody>\n",
       "    <tr>\n",
       "      <th>0</th>\n",
       "      <td>0</td>\n",
       "      <td>0</td>\n",
       "      <td>0</td>\n",
       "      <td>0</td>\n",
       "      <td>1</td>\n",
       "      <td>0</td>\n",
       "      <td>0</td>\n",
       "      <td>0</td>\n",
       "      <td>0</td>\n",
       "      <td>0</td>\n",
       "      <td>...</td>\n",
       "      <td>0</td>\n",
       "      <td>0</td>\n",
       "      <td>0</td>\n",
       "      <td>0</td>\n",
       "      <td>0</td>\n",
       "      <td>0</td>\n",
       "      <td>0</td>\n",
       "      <td>0</td>\n",
       "      <td>0</td>\n",
       "      <td>1</td>\n",
       "    </tr>\n",
       "    <tr>\n",
       "      <th>1</th>\n",
       "      <td>0</td>\n",
       "      <td>0</td>\n",
       "      <td>0</td>\n",
       "      <td>0</td>\n",
       "      <td>1</td>\n",
       "      <td>0</td>\n",
       "      <td>0</td>\n",
       "      <td>0</td>\n",
       "      <td>0</td>\n",
       "      <td>0</td>\n",
       "      <td>...</td>\n",
       "      <td>0</td>\n",
       "      <td>0</td>\n",
       "      <td>0</td>\n",
       "      <td>0</td>\n",
       "      <td>0</td>\n",
       "      <td>0</td>\n",
       "      <td>0</td>\n",
       "      <td>0</td>\n",
       "      <td>0</td>\n",
       "      <td>1</td>\n",
       "    </tr>\n",
       "    <tr>\n",
       "      <th>2</th>\n",
       "      <td>0</td>\n",
       "      <td>0</td>\n",
       "      <td>0</td>\n",
       "      <td>0</td>\n",
       "      <td>1</td>\n",
       "      <td>0</td>\n",
       "      <td>0</td>\n",
       "      <td>0</td>\n",
       "      <td>0</td>\n",
       "      <td>0</td>\n",
       "      <td>...</td>\n",
       "      <td>0</td>\n",
       "      <td>0</td>\n",
       "      <td>0</td>\n",
       "      <td>0</td>\n",
       "      <td>0</td>\n",
       "      <td>0</td>\n",
       "      <td>0</td>\n",
       "      <td>0</td>\n",
       "      <td>0</td>\n",
       "      <td>1</td>\n",
       "    </tr>\n",
       "    <tr>\n",
       "      <th>3</th>\n",
       "      <td>0</td>\n",
       "      <td>0</td>\n",
       "      <td>0</td>\n",
       "      <td>0</td>\n",
       "      <td>1</td>\n",
       "      <td>0</td>\n",
       "      <td>0</td>\n",
       "      <td>0</td>\n",
       "      <td>0</td>\n",
       "      <td>0</td>\n",
       "      <td>...</td>\n",
       "      <td>0</td>\n",
       "      <td>0</td>\n",
       "      <td>0</td>\n",
       "      <td>0</td>\n",
       "      <td>0</td>\n",
       "      <td>0</td>\n",
       "      <td>0</td>\n",
       "      <td>0</td>\n",
       "      <td>0</td>\n",
       "      <td>1</td>\n",
       "    </tr>\n",
       "    <tr>\n",
       "      <th>4</th>\n",
       "      <td>0</td>\n",
       "      <td>0</td>\n",
       "      <td>0</td>\n",
       "      <td>0</td>\n",
       "      <td>1</td>\n",
       "      <td>0</td>\n",
       "      <td>0</td>\n",
       "      <td>0</td>\n",
       "      <td>0</td>\n",
       "      <td>0</td>\n",
       "      <td>...</td>\n",
       "      <td>0</td>\n",
       "      <td>0</td>\n",
       "      <td>0</td>\n",
       "      <td>0</td>\n",
       "      <td>0</td>\n",
       "      <td>0</td>\n",
       "      <td>0</td>\n",
       "      <td>0</td>\n",
       "      <td>0</td>\n",
       "      <td>1</td>\n",
       "    </tr>\n",
       "  </tbody>\n",
       "</table>\n",
       "<p>5 rows × 3905 columns</p>\n",
       "</div>"
      ],
      "text/plain": [
       "   CO_month_April  CO_month_August  CO_month_December  CO_month_February  \\\n",
       "0               0                0                  0                  0   \n",
       "1               0                0                  0                  0   \n",
       "2               0                0                  0                  0   \n",
       "3               0                0                  0                  0   \n",
       "4               0                0                  0                  0   \n",
       "\n",
       "   CO_month_January  CO_month_July  CO_month_June  CO_month_March  \\\n",
       "0                 1              0              0               0   \n",
       "1                 1              0              0               0   \n",
       "2                 1              0              0               0   \n",
       "3                 1              0              0               0   \n",
       "4                 1              0              0               0   \n",
       "\n",
       "   CO_month_May  CO_month_November  ...  \\\n",
       "0             0                  0  ...   \n",
       "1             0                  0  ...   \n",
       "2             0                  0  ...   \n",
       "3             0                  0  ...   \n",
       "4             0                  0  ...   \n",
       "\n",
       "   CN_tendance_1Q_+_CN_tendance_2Q_(1.49,1.56]_(582,650]  \\\n",
       "0                                                  0       \n",
       "1                                                  0       \n",
       "2                                                  0       \n",
       "3                                                  0       \n",
       "4                                                  0       \n",
       "\n",
       "   CN_tendance_1Q_+_CN_tendance_2Q_(1.56,1.69]_(582,650]  \\\n",
       "0                                                  0       \n",
       "1                                                  0       \n",
       "2                                                  0       \n",
       "3                                                  0       \n",
       "4                                                  0       \n",
       "\n",
       "   CN_tendance_1Q_+_CN_tendance_2Q_(1.56,1.69]_(650,718]  \\\n",
       "0                                                  0       \n",
       "1                                                  0       \n",
       "2                                                  0       \n",
       "3                                                  0       \n",
       "4                                                  0       \n",
       "\n",
       "   CN_tendance_1Q_+_CN_tendance_2Q_(1.69,2.31]_(365,433]  \\\n",
       "0                                                  0       \n",
       "1                                                  0       \n",
       "2                                                  0       \n",
       "3                                                  0       \n",
       "4                                                  0       \n",
       "\n",
       "   CN_tendance_1Q_+_CN_tendance_2Q_(1.69,2.31]_(433,501]  \\\n",
       "0                                                  0       \n",
       "1                                                  0       \n",
       "2                                                  0       \n",
       "3                                                  0       \n",
       "4                                                  0       \n",
       "\n",
       "   CN_tendance_1Q_+_CN_tendance_2Q_(2.31,2.45]_(285,365]  \\\n",
       "0                                                  0       \n",
       "1                                                  0       \n",
       "2                                                  0       \n",
       "3                                                  0       \n",
       "4                                                  0       \n",
       "\n",
       "   CN_tendance_1Q_+_CN_tendance_2Q_(2.31,2.45]_(365,433]  \\\n",
       "0                                                  0       \n",
       "1                                                  0       \n",
       "2                                                  0       \n",
       "3                                                  0       \n",
       "4                                                  0       \n",
       "\n",
       "   CN_tendance_1Q_+_CN_tendance_2Q_(2.31,2.45]_(433,501]  \\\n",
       "0                                                  0       \n",
       "1                                                  0       \n",
       "2                                                  0       \n",
       "3                                                  0       \n",
       "4                                                  0       \n",
       "\n",
       "   CN_tendance_1Q_+_CN_tendance_2Q_[0.409,0.432]_(67,136]  \\\n",
       "0                                                  0        \n",
       "1                                                  0        \n",
       "2                                                  0        \n",
       "3                                                  0        \n",
       "4                                                  0        \n",
       "\n",
       "   CN_tendance_1Q_+_CN_tendance_2Q_[0.409,0.432]_[0,67]  \n",
       "0                                                  1     \n",
       "1                                                  1     \n",
       "2                                                  1     \n",
       "3                                                  1     \n",
       "4                                                  1     \n",
       "\n",
       "[5 rows x 3905 columns]"
      ]
     },
     "execution_count": 415,
     "metadata": {},
     "output_type": "execute_result"
    }
   ],
   "source": [
    "# df + df_all_interactions + df_all_dummies\n",
    "df_all_dummies.head()"
   ]
  },
  {
   "cell_type": "code",
   "execution_count": 416,
   "metadata": {},
   "outputs": [
    {
     "data": {
      "text/plain": [
       "3905"
      ]
     },
     "execution_count": 416,
     "metadata": {},
     "output_type": "execute_result"
    }
   ],
   "source": [
    "len(list(df_all_dummies))"
   ]
  },
  {
   "cell_type": "code",
   "execution_count": 417,
   "metadata": {},
   "outputs": [
    {
     "data": {
      "text/plain": [
       "['CO_month_+_CO_tempQ_June_(13.9,20.5]',\n",
       " 'CO_day_Friday',\n",
       " 'CO_workingday_+_CO_atempQ_0_(24.2,31.1]',\n",
       " 'CO_hour_+_CN_tendance_1Q_2_(0.64,0.672]',\n",
       " 'CO_hour_9',\n",
       " 'CO_weather_+_CO_humidityQ_Pluvieux (-)_[0,47]',\n",
       " 'CO_humidityQ_+_CN_tendance_1Q_(62,77]_(1.31,1.49]',\n",
       " 'CO_hour_+_CO_atempQ_12_(16.7,24.2]',\n",
       " 'CO_month_+_CO_hour_April_4',\n",
       " 'CO_hour_+_CN_soleilQ_1_[-74.5,-28]']"
      ]
     },
     "execution_count": 417,
     "metadata": {},
     "output_type": "execute_result"
    }
   ],
   "source": [
    "import random\n",
    "random.choices(list(df_all_dummies), k=10)"
   ]
  },
  {
   "cell_type": "code",
   "execution_count": 249,
   "metadata": {},
   "outputs": [
    {
     "data": {
      "text/plain": [
       "91"
      ]
     },
     "execution_count": 249,
     "metadata": {},
     "output_type": "execute_result"
    }
   ],
   "source": [
    "# len(list(all_var_for_models_nodup)"
   ]
  },
  {
   "cell_type": "code",
   "execution_count": 418,
   "metadata": {},
   "outputs": [],
   "source": [
    "all_var_for_models = []\n",
    "all_var_for_models.append(\"datetime\")\n",
    "for each in all_origin_var_and_new:\n",
    "    all_var_for_models.append(each) \n",
    "for each in all_categorical:\n",
    "    all_var_for_models.append(each) \n",
    "for each in list(df_all_dummies):\n",
    "    all_var_for_models.append(each)\n",
    "\n",
    "all_var_for_models_nodup = []\n",
    "for each in all_var_for_models:\n",
    "    if each not in all_var_for_models_nodup:\n",
    "        all_var_for_models_nodup.append(each)"
   ]
  },
  {
   "cell_type": "code",
   "execution_count": 277,
   "metadata": {},
   "outputs": [
    {
     "data": {
      "text/plain": [
       "4017"
      ]
     },
     "execution_count": 277,
     "metadata": {},
     "output_type": "execute_result"
    }
   ],
   "source": [
    "len(list(all_var_for_models_nodup))"
   ]
  },
  {
   "cell_type": "markdown",
   "metadata": {},
   "source": [
    "On ajoute les dataframes : df + df_with_interaction + df_all_dummies"
   ]
  },
  {
   "cell_type": "code",
   "execution_count": 420,
   "metadata": {},
   "outputs": [],
   "source": [
    "\n",
    "all_df = pd.concat([df, df_with_interaction, df_all_dummies], axis = 1)\n",
    "                                          \n",
    "list_var_clean_X = [var for var in list(all_df) if var != \"count\" and var != \"datetime\"]                                         \n",
    "clean_X = all_df[list_var_clean_X]\n",
    "clean_Y = df[[\"count\"]]\n",
    "\n",
    "X_train, X_test, Y_train, Y_test = train_test_split(clean_X,\n",
    "                                                    clean_Y,\n",
    "                                                    test_size = 0.3,\n",
    "                                                    random_state = 0)"
   ]
  },
  {
   "cell_type": "code",
   "execution_count": 422,
   "metadata": {},
   "outputs": [
    {
     "data": {
      "text/plain": [
       "(7620, 4054)"
      ]
     },
     "execution_count": 422,
     "metadata": {},
     "output_type": "execute_result"
    }
   ],
   "source": [
    "X_train.shape"
   ]
  },
  {
   "cell_type": "code",
   "execution_count": 423,
   "metadata": {},
   "outputs": [
    {
     "data": {
      "text/plain": [
       "(3266, 4054)"
      ]
     },
     "execution_count": 423,
     "metadata": {},
     "output_type": "execute_result"
    }
   ],
   "source": [
    "X_test.shape"
   ]
  },
  {
   "cell_type": "code",
   "execution_count": 424,
   "metadata": {},
   "outputs": [
    {
     "data": {
      "text/plain": [
       "(7620, 1)"
      ]
     },
     "execution_count": 424,
     "metadata": {},
     "output_type": "execute_result"
    }
   ],
   "source": [
    "Y_train.shape"
   ]
  },
  {
   "cell_type": "code",
   "execution_count": 425,
   "metadata": {},
   "outputs": [
    {
     "data": {
      "text/plain": [
       "(3266, 1)"
      ]
     },
     "execution_count": 425,
     "metadata": {},
     "output_type": "execute_result"
    }
   ],
   "source": [
    "Y_test.shape"
   ]
  },
  {
   "cell_type": "code",
   "execution_count": 427,
   "metadata": {},
   "outputs": [],
   "source": [
    "X_train.to_pickle(\"X_train_n.pkl\")\n",
    "X_test.to_pickle(\"X_test_n.pkl\")\n",
    "Y_train.to_pickle(\"Y_train_n.pkl\")\n",
    "Y_test.to_pickle(\"Y_test_n.pkl\")"
   ]
  },
  {
   "cell_type": "code",
   "execution_count": null,
   "metadata": {},
   "outputs": [],
   "source": []
  },
  {
   "cell_type": "code",
   "execution_count": null,
   "metadata": {},
   "outputs": [],
   "source": []
  },
  {
   "cell_type": "markdown",
   "metadata": {},
   "source": [
    "On peut faire les interactions d'ordre 2 avec \"Patsylearn\" (différent de \"Patsy\") \n",
    "C'est un package Github"
   ]
  },
  {
   "cell_type": "code",
   "execution_count": 426,
   "metadata": {},
   "outputs": [],
   "source": [
    "# from patsylearn import PatsyTransformer\n",
    "# from patsylearn import PatsyModel\n",
    "# transformer = PatsyTransformer(\"C(CO_season):C(CO_weather) + C(CO_season):C(CO_humidityQ)\")"
   ]
  }
 ],
 "metadata": {
  "kernelspec": {
   "display_name": "data",
   "language": "python",
   "name": "data"
  },
  "language_info": {
   "codemirror_mode": {
    "name": "ipython",
    "version": 3
   },
   "file_extension": ".py",
   "mimetype": "text/x-python",
   "name": "python",
   "nbconvert_exporter": "python",
   "pygments_lexer": "ipython3",
   "version": "3.6.8"
  }
 },
 "nbformat": 4,
 "nbformat_minor": 2
}
