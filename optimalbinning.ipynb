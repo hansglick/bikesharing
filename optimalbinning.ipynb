{
 "cells": [
  {
   "cell_type": "code",
   "execution_count": 3,
   "metadata": {},
   "outputs": [],
   "source": [
    "import numpy as np\n",
    "import pandas as pd"
   ]
  },
  {
   "cell_type": "code",
   "execution_count": 328,
   "metadata": {},
   "outputs": [],
   "source": [
    "# load some training data\n",
    "df = pd.read_pickle(\"p04_model/data/df_for_cv_o_n.pkl\")\n",
    "target = pd.read_pickle(\"p04_model/data/Y_train_n.pkl\")"
   ]
  },
  {
   "cell_type": "markdown",
   "metadata": {},
   "source": [
    "# prérequis\n",
    "les données doivent être des valeurs numeriques quoi qu'il arrive\n",
    "ici on encode pas mais on pourrait penser à l'implémenter éventuellement"
   ]
  },
  {
   "cell_type": "code",
   "execution_count": 24,
   "metadata": {},
   "outputs": [],
   "source": [
    "# fonctions parameters\n",
    "feature_type = \"categorical\"\n",
    "feature_structure = \"cycle\"\n",
    "feature_to_bin = df.CO_hour.values\n",
    "feature_target = df[\"count\"].values"
   ]
  },
  {
   "cell_type": "code",
   "execution_count": 30,
   "metadata": {},
   "outputs": [],
   "source": [
    "feature_to_bin = pd.Series(feature_to_bin).unique().astype(int)"
   ]
  },
  {
   "cell_type": "markdown",
   "metadata": {},
   "source": [
    "### Categorical ==> on teste tous les angles"
   ]
  },
  {
   "cell_type": "code",
   "execution_count": 33,
   "metadata": {},
   "outputs": [
    {
     "data": {
      "text/plain": [
       "576"
      ]
     },
     "execution_count": 33,
     "metadata": {},
     "output_type": "execute_result"
    }
   ],
   "source": [
    "depart = 0\n",
    "angle = 4\n"
   ]
  },
  {
   "cell_type": "code",
   "execution_count": null,
   "metadata": {},
   "outputs": [],
   "source": [
    "# je give up la méthode implementation\n",
    "# restons sur la simplicité"
   ]
  },
  {
   "cell_type": "code",
   "execution_count": 433,
   "metadata": {},
   "outputs": [],
   "source": [
    "from sklearn.datasets import load_iris\n",
    "from sklearn import tree\n",
    "iris = load_iris()"
   ]
  },
  {
   "cell_type": "code",
   "execution_count": 48,
   "metadata": {},
   "outputs": [],
   "source": [
    "odf = pd.DataFrame(iris.data,columns=iris[\"feature_names\"])"
   ]
  },
  {
   "cell_type": "code",
   "execution_count": 88,
   "metadata": {},
   "outputs": [],
   "source": [
    "odf[\"target\"] = iris[\"target\"]"
   ]
  },
  {
   "cell_type": "code",
   "execution_count": 57,
   "metadata": {},
   "outputs": [],
   "source": [
    "target = iris[\"target\"]"
   ]
  },
  {
   "cell_type": "code",
   "execution_count": 78,
   "metadata": {},
   "outputs": [],
   "source": [
    "cdf = odf[odf.columns[2]].values\n",
    "cdf = np.expand_dims(cdf,axis=1)"
   ]
  },
  {
   "cell_type": "code",
   "execution_count": null,
   "metadata": {},
   "outputs": [],
   "source": []
  },
  {
   "cell_type": "code",
   "execution_count": null,
   "metadata": {},
   "outputs": [],
   "source": [
    "def get_information_from_node(random_node):\n",
    "    left  = random_node[0]\n",
    "    right = random_node[1]\n",
    "    val = random_node[3]\n",
    "    n = random_node[5]\n",
    "    return{\"left\" : left, \"right\" : right, \"val\" : val, \"n\" : n}"
   ]
  },
  {
   "cell_type": "code",
   "execution_count": null,
   "metadata": {},
   "outputs": [],
   "source": [
    "target_type = \"cat\""
   ]
  },
  {
   "cell_type": "markdown",
   "metadata": {},
   "source": [
    "target = numpy array\n",
    "X = pandas dataframe ou numpy array"
   ]
  },
  {
   "cell_type": "code",
   "execution_count": 458,
   "metadata": {},
   "outputs": [],
   "source": [
    "clf = tree.DecisionTreeRegressor(max_leaf_nodes=7)"
   ]
  },
  {
   "cell_type": "code",
   "execution_count": 459,
   "metadata": {},
   "outputs": [
    {
     "data": {
      "text/plain": [
       "DecisionTreeRegressor(criterion='mse', max_depth=None, max_features=None,\n",
       "                      max_leaf_nodes=7, min_impurity_decrease=0.0,\n",
       "                      min_impurity_split=None, min_samples_leaf=1,\n",
       "                      min_samples_split=2, min_weight_fraction_leaf=0.0,\n",
       "                      presort=False, random_state=None, splitter='best')"
      ]
     },
     "execution_count": 459,
     "metadata": {},
     "output_type": "execute_result"
    }
   ],
   "source": [
    "clf.fit(X,target)"
   ]
  },
  {
   "cell_type": "code",
   "execution_count": 460,
   "metadata": {},
   "outputs": [
    {
     "data": {
      "text/plain": [
       "array([( 1,  2,  0,  6.5, 2.0146651 , 10886, 10886.),\n",
       "       ( 5,  6,  0,  5.5, 1.32073493,  3139,  3139.),\n",
       "       ( 3,  4,  0, 20.5, 0.64480622,  7747,  7747.),\n",
       "       ( 9, 10,  0, 15.5, 0.58294834,  6379,  6379.),\n",
       "       (-1, -1, -2, -2. , 0.49798612,  1368,  1368.),\n",
       "       ( 7,  8,  0,  1.5, 1.13082448,  2684,  2684.),\n",
       "       (-1, -1, -2, -2. , 1.15092437,   455,   455.),\n",
       "       (-1, -1, -2, -2. , 0.88207573,   909,   909.),\n",
       "       (11, 12,  0,  4.5, 0.86676763,  1775,  1775.),\n",
       "       (-1, -1, -2, -2. , 0.58930622,  4099,  4099.),\n",
       "       (-1, -1, -2, -2. , 0.4616837 ,  2280,  2280.),\n",
       "       (-1, -1, -2, -2. , 0.86270009,  1323,  1323.),\n",
       "       (-1, -1, -2, -2. , 0.62718749,   452,   452.)],\n",
       "      dtype=[('left_child', '<i8'), ('right_child', '<i8'), ('feature', '<i8'), ('threshold', '<f8'), ('impurity', '<f8'), ('n_node_samples', '<i8'), ('weighted_n_node_samples', '<f8')])"
      ]
     },
     "execution_count": 460,
     "metadata": {},
     "output_type": "execute_result"
    }
   ],
   "source": [
    "clf.tree_.__getstate__()[\"nodes\"]"
   ]
  },
  {
   "cell_type": "code",
   "execution_count": 440,
   "metadata": {},
   "outputs": [],
   "source": [
    "def find_optimal_bins(X,target,target_type=\"cat\",nbins=5):\n",
    "\n",
    "    # Choix du modele en fonction de la target\n",
    "    if target_type == \"classifier\":\n",
    "        clf = tree.DecisionTreeClassifier(max_leaf_nodes=nbins)\n",
    "    else:\n",
    "        clf = tree.DecisionTreeRegressor(max_leaf_nodes=nbins)\n",
    "\n",
    "\n",
    "    # Modelisation + enregistrement du tree\n",
    "    clf = clf.fit(X, target)\n",
    "    mytree = clf.tree_.__getstate__()[\"nodes\"]\n",
    "\n",
    "\n",
    "    # initialisation du dic\n",
    "    dic = {}\n",
    "    node0 = get_information_from_node(mytree[0])\n",
    "    node0[\"inf\"] = -1*float(\"inf\")\n",
    "    node0[\"sup\"] = 1*float(\"inf\")\n",
    "    node0[\"depth\"] = 0\n",
    "    dic[0] = node0\n",
    "    list_of_parent_node_id = [0]\n",
    "\n",
    "\n",
    "    while(len(list_of_parent_node_id)>0):\n",
    "\n",
    "        # on boucle sur les nodes parents\n",
    "        for parent_node_id in list_of_parent_node_id:\n",
    "\n",
    "            actual_parent_information = dic[parent_node_id]\n",
    "\n",
    "            list_of_children = {\"left\" : actual_parent_information[\"left\"],\"right\" : actual_parent_information[\"right\"]}\n",
    "\n",
    "\n",
    "            # collect parent information\n",
    "            parent_inf = actual_parent_information[\"inf\"]\n",
    "            parent_sup = actual_parent_information[\"sup\"]\n",
    "            parent_val = actual_parent_information[\"val\"]\n",
    "            parent_depth = actual_parent_information[\"depth\"]\n",
    "\n",
    "\n",
    "            # left\n",
    "            if list_of_children[\"left\"] != -1:\n",
    "                dic[list_of_children[\"left\"]] = get_information_from_node(mytree[list_of_children[\"left\"]])\n",
    "                dic[list_of_children[\"left\"]][\"inf\"] = parent_inf\n",
    "                dic[list_of_children[\"left\"]][\"sup\"] = parent_val\n",
    "                dic[list_of_children[\"left\"]][\"depth\"] = parent_depth + 1\n",
    "\n",
    "\n",
    "            # right\n",
    "            if list_of_children[\"right\"] !=-1:\n",
    "                dic[list_of_children[\"right\"]] = get_information_from_node(mytree[list_of_children[\"right\"]])\n",
    "                dic[list_of_children[\"right\"]][\"inf\"] = parent_val\n",
    "                dic[list_of_children[\"right\"]][\"sup\"] = parent_sup\n",
    "                dic[list_of_children[\"right\"]][\"depth\"] = parent_depth + 1\n",
    "\n",
    "\n",
    "            # update la liste des new parents id\n",
    "            list_of_parent_node_id = list(list_of_children.values())\n",
    "            list_of_parent_node_id = [item for item in list_of_parent_node_id if item != -1]\n",
    "\n",
    "\n",
    "\n",
    "    # retourne les nbins gagnants\n",
    "    L = []\n",
    "    for k,v in dic.items():\n",
    "        if v[\"left\"] == -1:\n",
    "            L.append((v[\"inf\"],v[\"sup\"]))\n",
    "\n",
    "\n",
    "\n",
    "    return L"
   ]
  },
  {
   "cell_type": "code",
   "execution_count": 487,
   "metadata": {},
   "outputs": [
    {
     "ename": "FileNotFoundError",
     "evalue": "[Errno 2] No such file or directory: 'Rscript test.r': 'Rscript test.r'",
     "output_type": "error",
     "traceback": [
      "\u001b[0;31m---------------------------------------------------------------------------\u001b[0m",
      "\u001b[0;31mFileNotFoundError\u001b[0m                         Traceback (most recent call last)",
      "\u001b[0;32m<ipython-input-487-116115e621a6>\u001b[0m in \u001b[0;36m<module>\u001b[0;34m\u001b[0m\n\u001b[0;32m----> 1\u001b[0;31m \u001b[0msubprocess\u001b[0m\u001b[0;34m.\u001b[0m\u001b[0mcall\u001b[0m \u001b[0;34m(\u001b[0m\u001b[0;34m\"Rscript test.r\"\u001b[0m\u001b[0;34m,\u001b[0m\u001b[0;34m)\u001b[0m\u001b[0;34m\u001b[0m\u001b[0;34m\u001b[0m\u001b[0m\n\u001b[0m",
      "\u001b[0;32m~/anaconda3/envs/data/lib/python3.6/subprocess.py\u001b[0m in \u001b[0;36mcall\u001b[0;34m(timeout, *popenargs, **kwargs)\u001b[0m\n\u001b[1;32m    285\u001b[0m     \u001b[0mretcode\u001b[0m \u001b[0;34m=\u001b[0m \u001b[0mcall\u001b[0m\u001b[0;34m(\u001b[0m\u001b[0;34m[\u001b[0m\u001b[0;34m\"ls\"\u001b[0m\u001b[0;34m,\u001b[0m \u001b[0;34m\"-l\"\u001b[0m\u001b[0;34m]\u001b[0m\u001b[0;34m)\u001b[0m\u001b[0;34m\u001b[0m\u001b[0;34m\u001b[0m\u001b[0m\n\u001b[1;32m    286\u001b[0m     \"\"\"\n\u001b[0;32m--> 287\u001b[0;31m     \u001b[0;32mwith\u001b[0m \u001b[0mPopen\u001b[0m\u001b[0;34m(\u001b[0m\u001b[0;34m*\u001b[0m\u001b[0mpopenargs\u001b[0m\u001b[0;34m,\u001b[0m \u001b[0;34m**\u001b[0m\u001b[0mkwargs\u001b[0m\u001b[0;34m)\u001b[0m \u001b[0;32mas\u001b[0m \u001b[0mp\u001b[0m\u001b[0;34m:\u001b[0m\u001b[0;34m\u001b[0m\u001b[0;34m\u001b[0m\u001b[0m\n\u001b[0m\u001b[1;32m    288\u001b[0m         \u001b[0;32mtry\u001b[0m\u001b[0;34m:\u001b[0m\u001b[0;34m\u001b[0m\u001b[0;34m\u001b[0m\u001b[0m\n\u001b[1;32m    289\u001b[0m             \u001b[0;32mreturn\u001b[0m \u001b[0mp\u001b[0m\u001b[0;34m.\u001b[0m\u001b[0mwait\u001b[0m\u001b[0;34m(\u001b[0m\u001b[0mtimeout\u001b[0m\u001b[0;34m=\u001b[0m\u001b[0mtimeout\u001b[0m\u001b[0;34m)\u001b[0m\u001b[0;34m\u001b[0m\u001b[0;34m\u001b[0m\u001b[0m\n",
      "\u001b[0;32m~/anaconda3/envs/data/lib/python3.6/subprocess.py\u001b[0m in \u001b[0;36m__init__\u001b[0;34m(self, args, bufsize, executable, stdin, stdout, stderr, preexec_fn, close_fds, shell, cwd, env, universal_newlines, startupinfo, creationflags, restore_signals, start_new_session, pass_fds, encoding, errors)\u001b[0m\n\u001b[1;32m    727\u001b[0m                                 \u001b[0mc2pread\u001b[0m\u001b[0;34m,\u001b[0m \u001b[0mc2pwrite\u001b[0m\u001b[0;34m,\u001b[0m\u001b[0;34m\u001b[0m\u001b[0;34m\u001b[0m\u001b[0m\n\u001b[1;32m    728\u001b[0m                                 \u001b[0merrread\u001b[0m\u001b[0;34m,\u001b[0m \u001b[0merrwrite\u001b[0m\u001b[0;34m,\u001b[0m\u001b[0;34m\u001b[0m\u001b[0;34m\u001b[0m\u001b[0m\n\u001b[0;32m--> 729\u001b[0;31m                                 restore_signals, start_new_session)\n\u001b[0m\u001b[1;32m    730\u001b[0m         \u001b[0;32mexcept\u001b[0m\u001b[0;34m:\u001b[0m\u001b[0;34m\u001b[0m\u001b[0;34m\u001b[0m\u001b[0m\n\u001b[1;32m    731\u001b[0m             \u001b[0;31m# Cleanup if the child failed starting.\u001b[0m\u001b[0;34m\u001b[0m\u001b[0;34m\u001b[0m\u001b[0;34m\u001b[0m\u001b[0m\n",
      "\u001b[0;32m~/anaconda3/envs/data/lib/python3.6/subprocess.py\u001b[0m in \u001b[0;36m_execute_child\u001b[0;34m(self, args, executable, preexec_fn, close_fds, pass_fds, cwd, env, startupinfo, creationflags, shell, p2cread, p2cwrite, c2pread, c2pwrite, errread, errwrite, restore_signals, start_new_session)\u001b[0m\n\u001b[1;32m   1362\u001b[0m                         \u001b[0;32mif\u001b[0m \u001b[0merrno_num\u001b[0m \u001b[0;34m==\u001b[0m \u001b[0merrno\u001b[0m\u001b[0;34m.\u001b[0m\u001b[0mENOENT\u001b[0m\u001b[0;34m:\u001b[0m\u001b[0;34m\u001b[0m\u001b[0;34m\u001b[0m\u001b[0m\n\u001b[1;32m   1363\u001b[0m                             \u001b[0merr_msg\u001b[0m \u001b[0;34m+=\u001b[0m \u001b[0;34m': '\u001b[0m \u001b[0;34m+\u001b[0m \u001b[0mrepr\u001b[0m\u001b[0;34m(\u001b[0m\u001b[0merr_filename\u001b[0m\u001b[0;34m)\u001b[0m\u001b[0;34m\u001b[0m\u001b[0;34m\u001b[0m\u001b[0m\n\u001b[0;32m-> 1364\u001b[0;31m                     \u001b[0;32mraise\u001b[0m \u001b[0mchild_exception_type\u001b[0m\u001b[0;34m(\u001b[0m\u001b[0merrno_num\u001b[0m\u001b[0;34m,\u001b[0m \u001b[0merr_msg\u001b[0m\u001b[0;34m,\u001b[0m \u001b[0merr_filename\u001b[0m\u001b[0;34m)\u001b[0m\u001b[0;34m\u001b[0m\u001b[0;34m\u001b[0m\u001b[0m\n\u001b[0m\u001b[1;32m   1365\u001b[0m                 \u001b[0;32mraise\u001b[0m \u001b[0mchild_exception_type\u001b[0m\u001b[0;34m(\u001b[0m\u001b[0merr_msg\u001b[0m\u001b[0;34m)\u001b[0m\u001b[0;34m\u001b[0m\u001b[0;34m\u001b[0m\u001b[0m\n\u001b[1;32m   1366\u001b[0m \u001b[0;34m\u001b[0m\u001b[0m\n",
      "\u001b[0;31mFileNotFoundError\u001b[0m: [Errno 2] No such file or directory: 'Rscript test.r': 'Rscript test.r'"
     ]
    }
   ],
   "source": [
    "subprocess.call (\"Rscript test.r\",)"
   ]
  },
  {
   "cell_type": "code",
   "execution_count": 511,
   "metadata": {},
   "outputs": [
    {
     "data": {
      "text/plain": [
       "0"
      ]
     },
     "execution_count": 511,
     "metadata": {},
     "output_type": "execute_result"
    }
   ],
   "source": [
    "# subprocess.call(\"/usr/bin/Rscript\",\"/home/osboxes/proj/bikesharing/draft/test.R\")\n",
    "subprocess.call(\"/usr/bin/Rscript /home/osboxes/proj/bikesharing/draft/test.R\",shell = True)"
   ]
  },
  {
   "cell_type": "code",
   "execution_count": 509,
   "metadata": {},
   "outputs": [],
   "source": [
    "x = subprocess.check_output([\"/usr/bin/Rscript\",\"/home/osboxes/proj/bikesharing/draft/test.R\"], universal_newlines=True)"
   ]
  },
  {
   "cell_type": "code",
   "execution_count": 510,
   "metadata": {},
   "outputs": [
    {
     "data": {
      "text/plain": [
       "'[1] \"Salut les coupains\"\\n'"
      ]
     },
     "execution_count": 510,
     "metadata": {},
     "output_type": "execute_result"
    }
   ],
   "source": [
    "x"
   ]
  },
  {
   "cell_type": "code",
   "execution_count": 321,
   "metadata": {},
   "outputs": [
    {
     "data": {
      "text/plain": [
       "[(-inf, 2.449999988079071),\n",
       " (2.449999988079071, 4.75),\n",
       " (4.75, 4.950000047683716),\n",
       " (4.950000047683716, 5.049999952316284),\n",
       " (5.049999952316284, 5.1499998569488525),\n",
       " (5.1499998569488525, inf)]"
      ]
     },
     "execution_count": 321,
     "metadata": {},
     "output_type": "execute_result"
    }
   ],
   "source": [
    "find_optimal_bins(cdf,target,target_type=\"classifier\",nbins=6)"
   ]
  },
  {
   "cell_type": "code",
   "execution_count": 300,
   "metadata": {},
   "outputs": [],
   "source": []
  },
  {
   "cell_type": "code",
   "execution_count": 429,
   "metadata": {},
   "outputs": [],
   "source": [
    "clf = tree.DecisionTreeRegressor(max_leaf_nodes=8)"
   ]
  },
  {
   "cell_type": "code",
   "execution_count": 346,
   "metadata": {},
   "outputs": [],
   "source": [
    "X = df.NO_temp.values"
   ]
  },
  {
   "cell_type": "code",
   "execution_count": 348,
   "metadata": {},
   "outputs": [
    {
     "ename": "IndexError",
     "evalue": "tuple index out of range",
     "output_type": "error",
     "traceback": [
      "\u001b[0;31m---------------------------------------------------------------------------\u001b[0m",
      "\u001b[0;31mIndexError\u001b[0m                                Traceback (most recent call last)",
      "\u001b[0;32m<ipython-input-348-c38ad521c428>\u001b[0m in \u001b[0;36m<module>\u001b[0;34m\u001b[0m\n\u001b[0;32m----> 1\u001b[0;31m \u001b[0mX\u001b[0m\u001b[0;34m.\u001b[0m\u001b[0mshape\u001b[0m\u001b[0;34m[\u001b[0m\u001b[0;36m1\u001b[0m\u001b[0;34m]\u001b[0m\u001b[0;34m\u001b[0m\u001b[0;34m\u001b[0m\u001b[0m\n\u001b[0m",
      "\u001b[0;31mIndexError\u001b[0m: tuple index out of range"
     ]
    }
   ],
   "source": [
    "X.shape[1]"
   ]
  },
  {
   "cell_type": "code",
   "execution_count": 312,
   "metadata": {},
   "outputs": [
    {
     "data": {
      "text/plain": [
       "[(-inf, 2.449999988079071),\n",
       " (2.449999988079071, 4.75),\n",
       " (5.049999952316284, inf),\n",
       " (4.75, 4.950000047683716),\n",
       " (4.950000047683716, 5.049999952316284)]"
      ]
     },
     "execution_count": 312,
     "metadata": {},
     "output_type": "execute_result"
    }
   ],
   "source": [
    "L"
   ]
  },
  {
   "cell_type": "code",
   "execution_count": 430,
   "metadata": {},
   "outputs": [],
   "source": [
    "X = df.CO_hour\n",
    "X = np.expand_dims(X,axis = 1)"
   ]
  },
  {
   "cell_type": "code",
   "execution_count": 431,
   "metadata": {},
   "outputs": [],
   "source": [
    "target = np.log1p(df[\"count\"].values)\n",
    "target = np.expand_dims(target,axis = 1)"
   ]
  },
  {
   "cell_type": "code",
   "execution_count": 441,
   "metadata": {},
   "outputs": [
    {
     "data": {
      "text/plain": [
       "[(5.5, 6.5), (20.5, inf), (6.5, 15.5), (15.5, 20.5)]"
      ]
     },
     "execution_count": 441,
     "metadata": {},
     "output_type": "execute_result"
    }
   ],
   "source": [
    "find_optimal_bins(X,target,target_type=\"regressor\",nbins=8)"
   ]
  },
  {
   "cell_type": "code",
   "execution_count": 424,
   "metadata": {},
   "outputs": [
    {
     "data": {
      "text/plain": [
       "array([[2.83321334],\n",
       "       [3.71357207],\n",
       "       [3.49650756],\n",
       "       ...,\n",
       "       [5.12989871],\n",
       "       [4.86753445],\n",
       "       [4.48863637]])"
      ]
     },
     "execution_count": 424,
     "metadata": {},
     "output_type": "execute_result"
    }
   ],
   "source": [
    "target"
   ]
  },
  {
   "cell_type": "code",
   "execution_count": 393,
   "metadata": {},
   "outputs": [],
   "source": [
    "clf = RandomForestRegressor()"
   ]
  },
  {
   "cell_type": "code",
   "execution_count": null,
   "metadata": {},
   "outputs": [],
   "source": []
  },
  {
   "cell_type": "code",
   "execution_count": 394,
   "metadata": {},
   "outputs": [
    {
     "name": "stderr",
     "output_type": "stream",
     "text": [
      "/home/osboxes/anaconda3/envs/data/lib/python3.6/site-packages/sklearn/ensemble/forest.py:245: FutureWarning: The default value of n_estimators will change from 10 in version 0.20 to 100 in 0.22.\n",
      "  \"10 in version 0.20 to 100 in 0.22.\", FutureWarning)\n",
      "/home/osboxes/anaconda3/envs/data/lib/python3.6/site-packages/ipykernel_launcher.py:1: DataConversionWarning: A column-vector y was passed when a 1d array was expected. Please change the shape of y to (n_samples,), for example using ravel().\n",
      "  \"\"\"Entry point for launching an IPython kernel.\n"
     ]
    },
    {
     "data": {
      "text/plain": [
       "RandomForestRegressor(bootstrap=True, criterion='mse', max_depth=None,\n",
       "                      max_features='auto', max_leaf_nodes=None,\n",
       "                      min_impurity_decrease=0.0, min_impurity_split=None,\n",
       "                      min_samples_leaf=1, min_samples_split=2,\n",
       "                      min_weight_fraction_leaf=0.0, n_estimators=10,\n",
       "                      n_jobs=None, oob_score=False, random_state=None,\n",
       "                      verbose=0, warm_start=False)"
      ]
     },
     "execution_count": 394,
     "metadata": {},
     "output_type": "execute_result"
    }
   ],
   "source": [
    "clf.fit(X, target)"
   ]
  },
  {
   "cell_type": "code",
   "execution_count": 404,
   "metadata": {},
   "outputs": [],
   "source": [
    "mytree = clf.estimators_[0].tree_.__getstate__()[\"nodes\"]"
   ]
  },
  {
   "cell_type": "code",
   "execution_count": 409,
   "metadata": {},
   "outputs": [
    {
     "name": "stdout",
     "output_type": "stream",
     "text": [
      "DecisionTreeRegressor(criterion='mse', max_depth=None, max_features='auto',\n",
      "                      max_leaf_nodes=None, min_impurity_decrease=0.0,\n",
      "                      min_impurity_split=None, min_samples_leaf=1,\n",
      "                      min_samples_split=2, min_weight_fraction_leaf=0.0,\n",
      "                      presort=False, random_state=673034085, splitter='best')\n",
      "DecisionTreeRegressor(criterion='mse', max_depth=None, max_features='auto',\n",
      "                      max_leaf_nodes=None, min_impurity_decrease=0.0,\n",
      "                      min_impurity_split=None, min_samples_leaf=1,\n",
      "                      min_samples_split=2, min_weight_fraction_leaf=0.0,\n",
      "                      presort=False, random_state=1395089662, splitter='best')\n",
      "DecisionTreeRegressor(criterion='mse', max_depth=None, max_features='auto',\n",
      "                      max_leaf_nodes=None, min_impurity_decrease=0.0,\n",
      "                      min_impurity_split=None, min_samples_leaf=1,\n",
      "                      min_samples_split=2, min_weight_fraction_leaf=0.0,\n",
      "                      presort=False, random_state=894286906, splitter='best')\n",
      "DecisionTreeRegressor(criterion='mse', max_depth=None, max_features='auto',\n",
      "                      max_leaf_nodes=None, min_impurity_decrease=0.0,\n",
      "                      min_impurity_split=None, min_samples_leaf=1,\n",
      "                      min_samples_split=2, min_weight_fraction_leaf=0.0,\n",
      "                      presort=False, random_state=308946792, splitter='best')\n",
      "DecisionTreeRegressor(criterion='mse', max_depth=None, max_features='auto',\n",
      "                      max_leaf_nodes=None, min_impurity_decrease=0.0,\n",
      "                      min_impurity_split=None, min_samples_leaf=1,\n",
      "                      min_samples_split=2, min_weight_fraction_leaf=0.0,\n",
      "                      presort=False, random_state=2041042055, splitter='best')\n",
      "DecisionTreeRegressor(criterion='mse', max_depth=None, max_features='auto',\n",
      "                      max_leaf_nodes=None, min_impurity_decrease=0.0,\n",
      "                      min_impurity_split=None, min_samples_leaf=1,\n",
      "                      min_samples_split=2, min_weight_fraction_leaf=0.0,\n",
      "                      presort=False, random_state=2073138086, splitter='best')\n",
      "DecisionTreeRegressor(criterion='mse', max_depth=None, max_features='auto',\n",
      "                      max_leaf_nodes=None, min_impurity_decrease=0.0,\n",
      "                      min_impurity_split=None, min_samples_leaf=1,\n",
      "                      min_samples_split=2, min_weight_fraction_leaf=0.0,\n",
      "                      presort=False, random_state=1616603087, splitter='best')\n",
      "DecisionTreeRegressor(criterion='mse', max_depth=None, max_features='auto',\n",
      "                      max_leaf_nodes=None, min_impurity_decrease=0.0,\n",
      "                      min_impurity_split=None, min_samples_leaf=1,\n",
      "                      min_samples_split=2, min_weight_fraction_leaf=0.0,\n",
      "                      presort=False, random_state=1140518016, splitter='best')\n",
      "DecisionTreeRegressor(criterion='mse', max_depth=None, max_features='auto',\n",
      "                      max_leaf_nodes=None, min_impurity_decrease=0.0,\n",
      "                      min_impurity_split=None, min_samples_leaf=1,\n",
      "                      min_samples_split=2, min_weight_fraction_leaf=0.0,\n",
      "                      presort=False, random_state=1772259501, splitter='best')\n",
      "DecisionTreeRegressor(criterion='mse', max_depth=None, max_features='auto',\n",
      "                      max_leaf_nodes=None, min_impurity_decrease=0.0,\n",
      "                      min_impurity_split=None, min_samples_leaf=1,\n",
      "                      min_samples_split=2, min_weight_fraction_leaf=0.0,\n",
      "                      presort=False, random_state=878287286, splitter='best')\n"
     ]
    }
   ],
   "source": [
    "for idx,mytree in enumerate(clf.estimators_):\n",
    "    print(clf.estimators_[idx])"
   ]
  },
  {
   "cell_type": "code",
   "execution_count": 413,
   "metadata": {},
   "outputs": [
    {
     "name": "stdout",
     "output_type": "stream",
     "text": [
      "[(5.5, 6.5), (22.5, inf), (20.5, 21.5), (21.5, 22.5)]\n",
      "[(5.5, 6.5), (22.5, inf), (20.5, 21.5), (21.5, 22.5)]\n",
      "[(5.5, 6.5), (21.5, 22.5), (22.5, inf)]\n",
      "[(5.5, 6.5), (22.5, inf), (20.5, 21.5), (21.5, 22.5)]\n",
      "[(5.5, 6.5), (22.5, inf), (20.5, 21.5), (21.5, 22.5)]\n",
      "[(5.5, 6.5), (22.5, inf), (20.5, 21.5), (21.5, 22.5)]\n",
      "[(5.5, 6.5), (22.5, inf), (20.5, 21.5), (21.5, 22.5)]\n",
      "[(5.5, 6.5), (21.5, 22.5), (22.5, inf)]\n",
      "[(5.5, 6.5), (6.5, 7.5), (21.5, 22.5), (22.5, inf)]\n",
      "[(5.5, 6.5), (21.5, 22.5), (22.5, inf)]\n"
     ]
    }
   ],
   "source": [
    "for idx,mytree in enumerate(clf.estimators_):\n",
    "    tree = clf.estimators_[idx].tree_.__getstate__()[\"nodes\"]\n",
    "    temp = get_bins_from_tree(tree)\n",
    "    print(temp)"
   ]
  },
  {
   "cell_type": "code",
   "execution_count": 405,
   "metadata": {},
   "outputs": [
    {
     "data": {
      "text/plain": [
       "[(5.5, 6.5), (22.5, inf), (20.5, 21.5), (21.5, 22.5)]"
      ]
     },
     "execution_count": 405,
     "metadata": {},
     "output_type": "execute_result"
    }
   ],
   "source": [
    "get_bins_from_tree(mytree)"
   ]
  },
  {
   "cell_type": "code",
   "execution_count": 368,
   "metadata": {},
   "outputs": [],
   "source": [
    "from sklearn.ensemble import RandomForestClassifier\n",
    "from sklearn.ensemble import RandomForestRegressor"
   ]
  },
  {
   "cell_type": "code",
   "execution_count": 403,
   "metadata": {},
   "outputs": [],
   "source": [
    "def get_bins_from_tree(mytree):\n",
    "    \n",
    "    # initialisation du dic\n",
    "    dic = {}\n",
    "    node0 = get_information_from_node(mytree[0])\n",
    "    node0[\"inf\"] = -1*float(\"inf\")\n",
    "    node0[\"sup\"] = 1*float(\"inf\")\n",
    "    node0[\"depth\"] = 0\n",
    "    dic[0] = node0\n",
    "    list_of_parent_node_id = [0]\n",
    "\n",
    "\n",
    "    while(len(list_of_parent_node_id)>0):\n",
    "\n",
    "        # on boucle sur les nodes parents\n",
    "        for parent_node_id in list_of_parent_node_id:\n",
    "\n",
    "            actual_parent_information = dic[parent_node_id]\n",
    "\n",
    "            list_of_children = {\"left\" : actual_parent_information[\"left\"],\"right\" : actual_parent_information[\"right\"]}\n",
    "\n",
    "\n",
    "            # collect parent information\n",
    "            parent_inf = actual_parent_information[\"inf\"]\n",
    "            parent_sup = actual_parent_information[\"sup\"]\n",
    "            parent_val = actual_parent_information[\"val\"]\n",
    "            parent_depth = actual_parent_information[\"depth\"]\n",
    "\n",
    "\n",
    "            # left\n",
    "            if list_of_children[\"left\"] != -1:\n",
    "                dic[list_of_children[\"left\"]] = get_information_from_node(mytree[list_of_children[\"left\"]])\n",
    "                dic[list_of_children[\"left\"]][\"inf\"] = parent_inf\n",
    "                dic[list_of_children[\"left\"]][\"sup\"] = parent_val\n",
    "                dic[list_of_children[\"left\"]][\"depth\"] = parent_depth + 1\n",
    "\n",
    "\n",
    "            # right\n",
    "            if list_of_children[\"right\"] !=-1:\n",
    "                dic[list_of_children[\"right\"]] = get_information_from_node(mytree[list_of_children[\"right\"]])\n",
    "                dic[list_of_children[\"right\"]][\"inf\"] = parent_val\n",
    "                dic[list_of_children[\"right\"]][\"sup\"] = parent_sup\n",
    "                dic[list_of_children[\"right\"]][\"depth\"] = parent_depth + 1\n",
    "\n",
    "\n",
    "            # update la liste des new parents id\n",
    "            list_of_parent_node_id = list(list_of_children.values())\n",
    "            list_of_parent_node_id = [item for item in list_of_parent_node_id if item != -1]\n",
    "\n",
    "\n",
    "\n",
    "    # retourne les nbins gagnants\n",
    "    L = []\n",
    "    for k,v in dic.items():\n",
    "        if v[\"left\"] == -1:\n",
    "            L.append((v[\"inf\"],v[\"sup\"]))\n",
    "            \n",
    "    return L"
   ]
  },
  {
   "cell_type": "code",
   "execution_count": null,
   "metadata": {},
   "outputs": [],
   "source": []
  }
 ],
 "metadata": {
  "kernelspec": {
   "display_name": "data",
   "language": "python",
   "name": "data"
  },
  "language_info": {
   "codemirror_mode": {
    "name": "ipython",
    "version": 3
   },
   "file_extension": ".py",
   "mimetype": "text/x-python",
   "name": "python",
   "nbconvert_exporter": "python",
   "pygments_lexer": "ipython3",
   "version": "3.6.8"
  }
 },
 "nbformat": 4,
 "nbformat_minor": 2
}
